{
 "cells": [
  {
   "cell_type": "markdown",
   "metadata": {
    "id": "KuyX_nmBSEF-"
   },
   "source": [
    "# Множества"
   ]
  },
  {
   "cell_type": "markdown",
   "metadata": {
    "id": "9cbv8NcWSEGB"
   },
   "source": [
    "Имя Фамилия"
   ]
  },
  {
   "cell_type": "code",
   "execution_count": null,
   "metadata": {
    "id": "Jm_ZZ7gjSEGB"
   },
   "outputs": [],
   "source": [
    "Валерія Дружиніна"
   ]
  },
  {
   "cell_type": "markdown",
   "metadata": {
    "id": "32Tfp0aqSEGB"
   },
   "source": [
    "### Задание 1. Группа крови"
   ]
  },
  {
   "cell_type": "markdown",
   "metadata": {
    "id": "j_syIkkRSEGC"
   },
   "source": [
    "**Упрощенная модель группы крови**:\n",
    "* A\n",
    "* B\n",
    "* AB\n",
    "* 0"
   ]
  },
  {
   "cell_type": "markdown",
   "metadata": {
    "id": "9OzhL3wiSEGC"
   },
   "source": [
    "**Два антигена:**\n",
    "* Анти А\n",
    "* Анти Б\n",
    "\n",
    "реагируют по разному с кровью в зависимости от ее группы."
   ]
  },
  {
   "cell_type": "markdown",
   "metadata": {
    "id": "-nW-L4x8SEGC"
   },
   "source": [
    "* Анти А реагирует с A и AB, но не с B и 0\n",
    "* Анти Б реагирует с Б и АB, но не с А и 0"
   ]
  },
  {
   "cell_type": "markdown",
   "metadata": {
    "id": "p0vtlTzeSEGD"
   },
   "source": [
    "Допустим, мы берем пробу крови и тестируем ее с помощью антител. \n",
    "Пусть:\n",
    "* А - Случайное событие, что кровь реагирует с Анти А\n",
    "* Б - Случайное событие, что кровь реагирует с Анти Б"
   ]
  },
  {
   "cell_type": "markdown",
   "metadata": {
    "id": "OeDJxarFSEGD"
   },
   "source": [
    "\n",
    "**Классифицируйте кровь людей, используя события А, Б и их дополнения**\n",
    "\n",
    "Подсказка: Используйте теорию множеств и структуру set в Python для создания множества всех возможных групп крови, а также множества, соответствующего возможным результатам тестов с антигенами А и Б. Покажите с помощью операций над множествами, что этих результатов достаточно, чтобы определить группу крови человека."
   ]
  },
  {
   "cell_type": "code",
   "execution_count": 2,
   "metadata": {
    "id": "C5NnxPFrSEGE"
   },
   "outputs": [],
   "source": [
    "all_group=set(['A','B','AB','0']) #всі групи крові\n",
    "A=set(['A','AB'])#групи крові, на які реагує антиген А\n",
    "B=set(['B','AB'])#групи крові, на які реагує антиген В"
   ]
  },
  {
   "cell_type": "code",
   "execution_count": 3,
   "metadata": {},
   "outputs": [
    {
     "data": {
      "text/plain": [
       "{'AB'}"
      ]
     },
     "execution_count": 3,
     "metadata": {},
     "output_type": "execute_result"
    }
   ],
   "source": [
    "A.intersection(B) #якшо кров реагує на два антигени, то зразок крові AB(перетин)"
   ]
  },
  {
   "cell_type": "code",
   "execution_count": 4,
   "metadata": {},
   "outputs": [
    {
     "data": {
      "text/plain": [
       "{'A'}"
      ]
     },
     "execution_count": 4,
     "metadata": {},
     "output_type": "execute_result"
    }
   ],
   "source": [
    "A.difference(B) #якшо кров реагує тільки на антиген A і не реагує на антиген В. Тоді це зразок крові А"
   ]
  },
  {
   "cell_type": "code",
   "execution_count": 5,
   "metadata": {},
   "outputs": [
    {
     "data": {
      "text/plain": [
       "{'B'}"
      ]
     },
     "execution_count": 5,
     "metadata": {},
     "output_type": "execute_result"
    }
   ],
   "source": [
    "B.difference(A) #якшо кров реагує тільки на антиген B і не реагує на антиген A. Тоді це зразок крові B"
   ]
  },
  {
   "cell_type": "code",
   "execution_count": 6,
   "metadata": {},
   "outputs": [
    {
     "data": {
      "text/plain": [
       "{'0'}"
      ]
     },
     "execution_count": 6,
     "metadata": {},
     "output_type": "execute_result"
    }
   ],
   "source": [
    "all_group.difference(A.union(B))  #якшо кров не реагує ні на один з антигенів, тоді це зразок крові 0"
   ]
  },
  {
   "cell_type": "markdown",
   "metadata": {
    "id": "_-Xggiy5SEGE"
   },
   "source": [
    "# Вероятность"
   ]
  },
  {
   "cell_type": "markdown",
   "metadata": {
    "id": "LERoC2GySEGE"
   },
   "source": [
    "### Задание 2. У врача"
   ]
  },
  {
   "cell_type": "markdown",
   "metadata": {
    "id": "wIjrkTAfSEGE"
   },
   "source": [
    "Пациент пришел к врачу со слегка повышенной температурой и болью в горле. По мнению врача пациент может имеет бактериальную или вирусную инфекцию, или даже обе инфекции.\n",
    "* А - у пациента бактериальная инфекция\n",
    "* B - у пациента вирусная инфекция \n",
    "* Пусть: P(A) = 0.7 , P(В) = 0.4\n",
    "* Какая вероятность, что у пациента обе инфекции?\n",
    "* Подсказка P(A)+ P(В) > 1, когда такая ситуация может быть?\n",
    "* Напишите решение под задачей в маркдаун"
   ]
  },
  {
   "cell_type": "markdown",
   "metadata": {
    "id": "GElczWfGSEGF"
   },
   "source": [
    "Відповідь:\n",
    "\n",
    "Дано: P(A)=0.7 - хворий на бактериальнe інфекцію. P(В) = 0.4 - хворий на вірусну інфекцію.\n",
    "\n",
    "1.\"Какая вероятность, что у пациента обе инфекции?\" - припускаю, що події сумісні, тоді P(A)*P(B)=0.7*0.4=0.28. Якщо події несумісні тоді перетин дорівнює нулю.\n",
    "\n",
    "2.\"Подсказка P(A)+P(В) > 1, когда такая ситуация может быть?\" - якщо події А та В несумісні, тобто ймовірність отримати одразу дві хвороби дорівнює нулю P(A&B)=0. Тоді ймовірність отримати принаймі одну з хвороб дорівнює: P(A)+P(B)=0.4+0.7=1.1.\n"
   ]
  },
  {
   "cell_type": "markdown",
   "metadata": {
    "id": "zS8UG1YNSEGF"
   },
   "source": [
    "### Задание 3. Независимые события"
   ]
  },
  {
   "cell_type": "markdown",
   "metadata": {
    "id": "9ctdVZ76SEGF"
   },
   "source": [
    "На лекции мы опредили независимость:\n",
    "\n",
    "* Если вероятность А не меняется, даже если мы знаем, что событие B произошло, то события А и B - независимы.\n",
    "\n",
    "Но мы также сказали:\n",
    "* Мы знаем, что события А и B **независимы, если формула P(AB) = P(A)*P(B) верна**\n",
    "\n",
    "Это значит:\n",
    "* **Мы можем доказать независимость между А и B, если мы покажем, что P(AB) = P(A)*P(B), даже если это не ясно с начала**\n"
   ]
  },
  {
   "cell_type": "markdown",
   "metadata": {
    "id": "2xOqvrAzSEGF"
   },
   "source": [
    "#### 3.1 Понимание концепта"
   ]
  },
  {
   "cell_type": "markdown",
   "metadata": {
    "id": "9xmcfMigSEGF"
   },
   "source": [
    "Мы бросаем кость 1 раз:\n",
    "\n",
    "* События А = {1} и B = {4} - элементарные события\n",
    "* Может ли случиться событие (А и B) - А пересечение B?\n",
    "* Что это говорит о независимости А и B?\n",
    "* Почему?"
   ]
  },
  {
   "cell_type": "markdown",
   "metadata": {
    "id": "9CE0PyQESEGG"
   },
   "source": [
    "Відповідь:\n",
    "1. P(A)=1/6, P(B)=1/6.\n",
    "2. Перетин між подіями А та В це пуста множина. Тобто не може статись так, що при випадання кубика буде і 1 і 4.\n",
    "3. P(пустої множини)=0 - ймовірність одначасно події А та В не можлива.\n",
    "Формула для незалежин події P(AB) = P(A)*P(B) - не виконується, тому А та В є залежиними подіями.\n"
   ]
  },
  {
   "cell_type": "markdown",
   "metadata": {
    "id": "6apU5SWTSEGG"
   },
   "source": [
    "#### 3.2 Доказательство независимости"
   ]
  },
  {
   "cell_type": "markdown",
   "metadata": {
    "id": "eSXyIbfmSEGG"
   },
   "source": [
    "Мы бросаем кость 1 раз:\n",
    "\n",
    "**Пусть**\n",
    "\n",
    "* A = {2,4,6}\n",
    "* B = {1,2,3,4}\n",
    "\n",
    "**Вопросы:**\n",
    "* Какая вероятность у события А?\n",
    "* Какая вероятнсть у события В?\n",
    "* Найдите пересечение множеств А и B \n",
    "* Какая вероятность этого пересечения?\n",
    "* Докажите, что А и B независимы, используя эти результаты"
   ]
  },
  {
   "cell_type": "markdown",
   "metadata": {
    "id": "F51gvCy9SEGG"
   },
   "source": [
    "Відповідь:\n",
    "\n",
    "1. P(A)=1/2 - ймовірність події А\n",
    "\n",
    "2. P(B)=2/3  - ймовірність події В\n",
    "\n",
    "3. A&B={2,4}.  - перетин події А та В\n",
    "\n",
    "4. P(AB)=1/3 - ймовірність перетину події А та В\n",
    "\n",
    "5. P(AB)=P(A)*P(B)=1/2*2/3=1/3. - Формула для незалежних подій виконується, результат співпадає з результатом у пункті 4. \n",
    " Тому події А та В є незалежними\n"
   ]
  },
  {
   "cell_type": "markdown",
   "metadata": {
    "id": "x5YuUzYVSEGG"
   },
   "source": [
    "###  Задание 4. Эксперимент"
   ]
  },
  {
   "cell_type": "code",
   "execution_count": 7,
   "metadata": {
    "id": "WZYk2QFPSEGG"
   },
   "outputs": [],
   "source": [
    "from random import sample"
   ]
  },
  {
   "cell_type": "markdown",
   "metadata": {
    "id": "FhsleE4nSEGG"
   },
   "source": [
    "Функция sample из библиотеки random позволяет нам взять случайные выборки из списка.\n",
    "\n",
    "**sample(список, <число элементов>)** дает нам выборку числа элементов из списка, как список.\n",
    "\n",
    "* То есть sample([1,2,3],1) может вернуть [2] как пример\n",
    "* Возможная проверка, является ли ответ частью другого листа, это работа с множествами"
   ]
  },
  {
   "cell_type": "code",
   "execution_count": 8,
   "metadata": {
    "id": "xyq0JwTuSEGH"
   },
   "outputs": [],
   "source": [
    "Omega = [1,2,3,4,5,6]"
   ]
  },
  {
   "cell_type": "code",
   "execution_count": 9,
   "metadata": {
    "id": "5KKWm3_hSEGH",
    "outputId": "8d72ecea-9611-4dfb-f422-c510b7d35b85"
   },
   "outputs": [
    {
     "data": {
      "text/plain": [
       "[6]"
      ]
     },
     "execution_count": 9,
     "metadata": {},
     "output_type": "execute_result"
    }
   ],
   "source": [
    "sample(Omega,1) # виртуальный бросок кости"
   ]
  },
  {
   "cell_type": "code",
   "execution_count": 10,
   "metadata": {
    "id": "w8YD9MZSSEGH",
    "outputId": "6eff2d9b-9940-4c5f-dd96-f8ddf06c2ee1"
   },
   "outputs": [
    {
     "data": {
      "text/plain": [
       "[4]"
      ]
     },
     "execution_count": 10,
     "metadata": {},
     "output_type": "execute_result"
    }
   ],
   "source": [
    "sample (Omega,1)"
   ]
  },
  {
   "cell_type": "code",
   "execution_count": null,
   "metadata": {
    "id": "rxCktLLUSEGH"
   },
   "outputs": [],
   "source": [
    "A = [2,4,6]"
   ]
  },
  {
   "cell_type": "code",
   "execution_count": null,
   "metadata": {
    "id": "HHcn5sanSEGI"
   },
   "outputs": [],
   "source": [
    "B = [1,2,3,4]"
   ]
  },
  {
   "cell_type": "code",
   "execution_count": null,
   "metadata": {
    "id": "oue7zbh5SEGI",
    "outputId": "5237545e-01ef-4a2b-9407-c660c8544975"
   },
   "outputs": [
    {
     "data": {
      "text/plain": [
       "True"
      ]
     },
     "execution_count": 33,
     "metadata": {},
     "output_type": "execute_result"
    }
   ],
   "source": [
    "set(sample(Omega,1)).issubset(set(A))"
   ]
  },
  {
   "cell_type": "markdown",
   "metadata": {
    "id": "NpD0ZIc7SEGI"
   },
   "source": [
    "**Пример**\n",
    "\n",
    "Это одна из возможностей экспериментально выяснить вероятности для А и B, как частотные вероятности, то есть пропорции, с которыми А и B происходят, если мы виртуально бросаем кость."
   ]
  },
  {
   "cell_type": "code",
   "execution_count": null,
   "metadata": {
    "id": "G-mSnw_PSEGI"
   },
   "outputs": [],
   "source": [
    "a = [] # здесь мы будем записывать, был ли результат в А\n",
    "b = [] # здесь мы будем записывать, был ли результат в B\n",
    "\n",
    "for i in range(10): # Бросаем кость 10 раз\n",
    "    x = sample(Omega,1)\n",
    "    issubseta = set(x).issubset(set(A)) # результат в А?\n",
    "    issubsetb = set(x).issubset(set(B)) # результат в B?\n",
    "    a.append(issubseta) # записываем\n",
    "    b.append(issubsetb) # записываем"
   ]
  },
  {
   "cell_type": "code",
   "execution_count": null,
   "metadata": {
    "id": "z5lDkkjNSEGI",
    "outputId": "d4a5ef8c-13fa-4a04-e87d-bab139c4c142"
   },
   "outputs": [
    {
     "data": {
      "text/plain": [
       "[True, True, True, False, True, False, False, True, True, False]"
      ]
     },
     "execution_count": 35,
     "metadata": {},
     "output_type": "execute_result"
    }
   ],
   "source": [
    "a"
   ]
  },
  {
   "cell_type": "code",
   "execution_count": null,
   "metadata": {
    "id": "2zlHPvv_SEGI",
    "outputId": "668d014c-4fd4-4cae-a8c5-71ba872dadfb"
   },
   "outputs": [
    {
     "data": {
      "text/plain": [
       "[True, True, True, True, True, False, True, True, True, True]"
      ]
     },
     "execution_count": 36,
     "metadata": {},
     "output_type": "execute_result"
    }
   ],
   "source": [
    "b"
   ]
  },
  {
   "cell_type": "code",
   "execution_count": null,
   "metadata": {
    "id": "LwvVPDNnSEGI"
   },
   "outputs": [],
   "source": [
    "import numpy as np "
   ]
  },
  {
   "cell_type": "code",
   "execution_count": null,
   "metadata": {
    "id": "O6_uga_jSEGI",
    "outputId": "cca6768b-ba2a-4a1d-c28f-d8375863704b"
   },
   "outputs": [
    {
     "data": {
      "text/plain": [
       "6"
      ]
     },
     "execution_count": 42,
     "metadata": {},
     "output_type": "execute_result"
    }
   ],
   "source": [
    "np.sum(a) # эта функция позволяет нам суммировать списки, True = 1, False = 0"
   ]
  },
  {
   "cell_type": "code",
   "execution_count": null,
   "metadata": {
    "id": "kv4YCbjzSEGI",
    "outputId": "056bb876-bc8a-4cb5-e26c-f417f38368ab"
   },
   "outputs": [
    {
     "data": {
      "text/plain": [
       "9"
      ]
     },
     "execution_count": 40,
     "metadata": {},
     "output_type": "execute_result"
    }
   ],
   "source": [
    "np.sum(b)"
   ]
  },
  {
   "cell_type": "code",
   "execution_count": null,
   "metadata": {
    "id": "ZkPV8i1zSEGJ",
    "outputId": "3de814be-37a0-46ed-9b4c-fc68d3d9df16"
   },
   "outputs": [
    {
     "data": {
      "text/plain": [
       "0.6"
      ]
     },
     "execution_count": 43,
     "metadata": {},
     "output_type": "execute_result"
    }
   ],
   "source": [
    "np.sum(a)/10 "
   ]
  },
  {
   "cell_type": "code",
   "execution_count": null,
   "metadata": {
    "id": "LcWvHhkxSEGJ",
    "outputId": "4a14bfe7-1199-4b7e-d8a7-b9e6d489e15b"
   },
   "outputs": [
    {
     "data": {
      "text/plain": [
       "0.9"
      ]
     },
     "execution_count": 44,
     "metadata": {},
     "output_type": "execute_result"
    }
   ],
   "source": [
    "np.sum(b)/10"
   ]
  },
  {
   "cell_type": "markdown",
   "metadata": {
    "id": "z6zezGMjSEGJ"
   },
   "source": [
    "**10 бросков недостаточно для лимита в бесконечность**"
   ]
  },
  {
   "cell_type": "markdown",
   "metadata": {
    "id": "LuMWBK9FSEGJ"
   },
   "source": [
    "#### Задание 4.1"
   ]
  },
  {
   "cell_type": "markdown",
   "metadata": {
    "id": "0wpc2X0ESEGJ"
   },
   "source": [
    "* Брось кость 1000 раз\n",
    "* Посчитай пропорцию, с которой произошло событие А из задачи 3.2\n",
    "* Посчитай пропорцию, с которой произошло событие B из задачи 3.2\n",
    "* Посчитай пропорцию, с которой произошло событие АB из задачи 3.2\n",
    "* Сравни пропорции с теоретичискими числами и проверь независимость"
   ]
  },
  {
   "cell_type": "code",
   "execution_count": 8,
   "metadata": {
    "id": "k3izrqmUSEGJ"
   },
   "outputs": [],
   "source": [
    "from random import sample\n",
    "import numpy as np\n",
    "Omega = [1,2,3,4,5,6]\n"
   ]
  },
  {
   "cell_type": "code",
   "execution_count": 9,
   "metadata": {},
   "outputs": [],
   "source": [
    "A = [2,4,6]\n",
    "B = [1,2,3,4] \n",
    "if b:\n",
    "    b.clear()\n",
    "if a:\n",
    "    a.clear()"
   ]
  },
  {
   "cell_type": "code",
   "execution_count": 11,
   "metadata": {},
   "outputs": [],
   "source": [
    "a = [] # здесь мы будем записывать, был ли результат в А\n",
    "b = [] # здесь мы будем записывать, был ли результат в B\n",
    "\n",
    "for i in range(1000): # Бросаем кость 1000 раз\n",
    "    x = sample(Omega,1)\n",
    "    issubseta = set(x).issubset(set(A)) # результат в А?\n",
    "    issubsetb = set(x).issubset(set(B)) # результат в B?\n",
    "    a.append(issubseta) # записываем\n",
    "    b.append(issubsetb) # записываем"
   ]
  },
  {
   "cell_type": "code",
   "execution_count": 12,
   "metadata": {},
   "outputs": [
    {
     "data": {
      "text/plain": [
       "0.504"
      ]
     },
     "execution_count": 12,
     "metadata": {},
     "output_type": "execute_result"
    }
   ],
   "source": [
    "np.sum(a)/1000 #probability А"
   ]
  },
  {
   "cell_type": "code",
   "execution_count": 13,
   "metadata": {},
   "outputs": [
    {
     "data": {
      "text/plain": [
       "0.663"
      ]
     },
     "execution_count": 13,
     "metadata": {},
     "output_type": "execute_result"
    }
   ],
   "source": [
    "np.sum(b)/1000 #probability В"
   ]
  },
  {
   "cell_type": "code",
   "execution_count": 14,
   "metadata": {},
   "outputs": [
    {
     "data": {
      "text/plain": [
       "0.334152"
      ]
     },
     "execution_count": 14,
     "metadata": {},
     "output_type": "execute_result"
    }
   ],
   "source": [
    "(np.sum(a)/1000)*(np.sum(b)/1000) #ймовірність події АВ\n"
   ]
  },
  {
   "cell_type": "code",
   "execution_count": 15,
   "metadata": {},
   "outputs": [],
   "source": [
    "#перевірка на незалежність А та В. Подія AB\n",
    "AB=[2,4]\n",
    "c = [] # здесь мы будем записывать, был ли результат в АB\n",
    "\n",
    "for i in range(1000): # Бросаем кость 1000 раз\n",
    "    x = sample(Omega,1)\n",
    "    issubsetc = set(x).issubset(set(AB)) # результат в АВ\n",
    "    c.append(issubsetc) # записываем"
   ]
  },
  {
   "cell_type": "code",
   "execution_count": 16,
   "metadata": {},
   "outputs": [
    {
     "data": {
      "text/plain": [
       "0.339"
      ]
     },
     "execution_count": 16,
     "metadata": {},
     "output_type": "execute_result"
    }
   ],
   "source": [
    "np.sum(c)/1000 #probability AB"
   ]
  },
  {
   "cell_type": "markdown",
   "metadata": {},
   "source": [
    "Висновок: Ймовірності вийшли наближені до теоретичних ймовірностей у задачі 3.2. \n",
    "При перевірці незлежності результат вийшов наближений до теоретичного та практичного. "
   ]
  },
  {
   "cell_type": "markdown",
   "metadata": {
    "id": "ublj-IKpSEGJ"
   },
   "source": [
    "#### Задание 4.2"
   ]
  },
  {
   "cell_type": "markdown",
   "metadata": {
    "id": "omf22ONISEGJ"
   },
   "source": [
    "* Брось кость 1000 раз\n",
    "* Посчитай пропорцию, с которой произошло событие А = {1,2,4,6}\n",
    "* Посчитай пропорцию, с которой произошло событие B = {2,4}\n",
    "* Найди событие AB\n",
    "* Посчитай пропорцию, с которой произошло событие АB\n",
    "* Что можно сказать о независимости А и B"
   ]
  },
  {
   "cell_type": "code",
   "execution_count": 17,
   "metadata": {
    "id": "TtCYHVpDSEGJ"
   },
   "outputs": [],
   "source": [
    "A = [1,2,4,6]\n",
    "B = [2,4] \n",
    "if b:\n",
    "    b.clear()\n",
    "if a:\n",
    "    a.clear()"
   ]
  },
  {
   "cell_type": "code",
   "execution_count": 18,
   "metadata": {},
   "outputs": [],
   "source": [
    "a = [] # здесь мы будем записывать, был ли результат в А\n",
    "b = [] # здесь мы будем записывать, был ли результат в B\n",
    "\n",
    "for i in range(1000): # Бросаем кость 1000 раз\n",
    "    x = sample(Omega,1)\n",
    "    issubseta = set(x).issubset(set(A)) # результат в А\n",
    "    issubsetb = set(x).issubset(set(B)) # результат в B\n",
    "    a.append(issubseta) # записываем\n",
    "    b.append(issubsetb) # записываем"
   ]
  },
  {
   "cell_type": "code",
   "execution_count": 19,
   "metadata": {},
   "outputs": [
    {
     "data": {
      "text/plain": [
       "0.67"
      ]
     },
     "execution_count": 19,
     "metadata": {},
     "output_type": "execute_result"
    }
   ],
   "source": [
    "np.sum(a)/1000 #probability А"
   ]
  },
  {
   "cell_type": "code",
   "execution_count": 20,
   "metadata": {},
   "outputs": [
    {
     "data": {
      "text/plain": [
       "0.332"
      ]
     },
     "execution_count": 20,
     "metadata": {},
     "output_type": "execute_result"
    }
   ],
   "source": [
    "np.sum(b)/1000 #probability В"
   ]
  },
  {
   "cell_type": "code",
   "execution_count": 21,
   "metadata": {},
   "outputs": [
    {
     "data": {
      "text/plain": [
       "0.22244000000000003"
      ]
     },
     "execution_count": 21,
     "metadata": {},
     "output_type": "execute_result"
    }
   ],
   "source": [
    "(np.sum(a)/1000)*(np.sum(b)/1000)"
   ]
  },
  {
   "cell_type": "code",
   "execution_count": 54,
   "metadata": {},
   "outputs": [],
   "source": [
    "c.clear()"
   ]
  },
  {
   "cell_type": "code",
   "execution_count": 23,
   "metadata": {},
   "outputs": [],
   "source": [
    "#перевірка на незалежність подій А та В. Подія AB\n",
    "AB=[2,4]\n",
    "c = [] # здесь мы будем записывать, был ли результат в АB\n",
    "\n",
    "for i in range(1000): # Бросаем кость 1000 раз\n",
    "    x = sample(Omega,1)\n",
    "    issubsetc = set(x).issubset(set(AB)) # результат в АВ\n",
    "    c.append(issubsetc) # записываем"
   ]
  },
  {
   "cell_type": "code",
   "execution_count": 24,
   "metadata": {},
   "outputs": [
    {
     "data": {
      "text/plain": [
       "0.312"
      ]
     },
     "execution_count": 24,
     "metadata": {},
     "output_type": "execute_result"
    }
   ],
   "source": [
    "np.sum(c)/1000 #probability AB"
   ]
  },
  {
   "cell_type": "code",
   "execution_count": null,
   "metadata": {},
   "outputs": [],
   "source": [
    "Висновок: Події А та В є залежними так як не виконується тотожність P(AB) = P(A)*P(B)."
   ]
  },
  {
   "cell_type": "markdown",
   "metadata": {
    "id": "l-aflm0rSEGJ"
   },
   "source": [
    "## Задание 5. Теорема Байеса"
   ]
  },
  {
   "cell_type": "markdown",
   "metadata": {
    "id": "LP7CGJxKSEGK"
   },
   "source": [
    "* Население Киева - 2.8 миллионов\n",
    "* Допустим, в Киеве прячутся 100 террористов\n",
    "* Киев устанавливает новую систему поиска террористов с помощью видеокамер и искусственного интеллекта. Эта система делает только в 0.5% случаев ошибку и думает, что мирный житель террорист. В 0.1% случаев она делает ошибку и не бьет тревогу, видя террориста.\n",
    "* Система бьет тревогу, какая вероятность, что этот житель террорист?\n",
    "* Подсказка: P(тревога|мирный житель) = 0.005, P(нет тревоги|террорист) = 0.001\n",
    "* Подсказка: Подумайте о законе общей вероятности"
   ]
  },
  {
   "cell_type": "markdown",
   "metadata": {
    "id": "VFW6AxIySEGK"
   },
   "source": [
    "формула по, які будемо проводити розрахунок: Р(терорист|тривога)=Р(тривога|терорист)*Р(терорист)/Р(тривога для всіх)"
   ]
  },
  {
   "cell_type": "code",
   "execution_count": 47,
   "metadata": {},
   "outputs": [
    {
     "name": "stdout",
     "output_type": "stream",
     "text": [
      "3.571428571428572e-05\n"
     ]
    }
   ],
   "source": [
    "T=100 #терористи\n",
    "total=2800000 # всі жителі міста Київ\n",
    "P_T=T/total #Р(терорист)\n",
    "print(P_T)"
   ]
  },
  {
   "cell_type": "markdown",
   "metadata": {},
   "source": [
    "Р(терорист&тривога)=Р(тривога|терорист)*Р(терорист).\n",
    "P(немає тривоги|терорист) = 0.001  =>  P(тривога|террорист)=0.999"
   ]
  },
  {
   "cell_type": "code",
   "execution_count": 49,
   "metadata": {},
   "outputs": [
    {
     "name": "stdout",
     "output_type": "stream",
     "text": [
      "3.567857142857143e-05\n"
     ]
    }
   ],
   "source": [
    "P_T_and_alarm=0.999*P_T\n",
    "print(P_T_and_alarm) #ймовірність, що тривога спрацює на терористах"
   ]
  },
  {
   "cell_type": "markdown",
   "metadata": {},
   "source": [
    "Р(мирний&тривога)=Р(тривога|мирний житель)*Р(мирних)."
   ]
  },
  {
   "cell_type": "code",
   "execution_count": 56,
   "metadata": {},
   "outputs": [
    {
     "name": "stdout",
     "output_type": "stream",
     "text": [
      "0.004999821428571429\n"
     ]
    }
   ],
   "source": [
    "P_С_and_alarm=0.005*(1-P_T)\n",
    "print(P_С_and_alarm) #ймовірність, що тривога спрацює на мирних жителях"
   ]
  },
  {
   "cell_type": "code",
   "execution_count": 53,
   "metadata": {},
   "outputs": [
    {
     "name": "stdout",
     "output_type": "stream",
     "text": [
      "0.0050355\n"
     ]
    }
   ],
   "source": [
    "P_alarm=P_T_and_alarm+P_С_and_alarm\n",
    "print(P_alarm)  #ймовірність, що тривога спрацює або мирних або терористах. Р(тривога для всіх)"
   ]
  },
  {
   "cell_type": "code",
   "execution_count": 57,
   "metadata": {},
   "outputs": [
    {
     "data": {
      "text/plain": [
       "0.7085407889697435"
      ]
     },
     "execution_count": 57,
     "metadata": {},
     "output_type": "execute_result"
    }
   ],
   "source": [
    "(P_T_and_alarm/P_alarm)*100 #ймовірність, що система б'є тривогу і це терорист. Р(терорист|тривога)"
   ]
  },
  {
   "cell_type": "code",
   "execution_count": null,
   "metadata": {},
   "outputs": [],
   "source": [
    "Висновок: Звучить тривога, ймовірність, що це терорист 0.7085407889697435%."
   ]
  }
 ],
 "metadata": {
  "colab": {
   "provenance": []
  },
  "kernelspec": {
   "display_name": "Python 3 (ipykernel)",
   "language": "python",
   "name": "python3"
  },
  "language_info": {
   "codemirror_mode": {
    "name": "ipython",
    "version": 3
   },
   "file_extension": ".py",
   "mimetype": "text/x-python",
   "name": "python",
   "nbconvert_exporter": "python",
   "pygments_lexer": "ipython3",
   "version": "3.9.12"
  }
 },
 "nbformat": 4,
 "nbformat_minor": 1
}
