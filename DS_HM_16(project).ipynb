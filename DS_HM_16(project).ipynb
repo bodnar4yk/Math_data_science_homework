{
 "cells": [
  {
   "cell_type": "markdown",
   "metadata": {},
   "source": [
    "Валерія Дружиніна"
   ]
  },
  {
   "cell_type": "code",
   "execution_count": 2,
   "metadata": {},
   "outputs": [],
   "source": [
    "import numpy as np\n",
    "import pandas as pd\n",
    "import matplotlib.pyplot as plt\n",
    "import seaborn as sns\n",
    "import scipy.stats as stats\n",
    "import statsmodels.api as sm\n",
    "from sklearn.linear_model import LogisticRegression\n",
    "\n",
    "from sklearn.metrics import plot_confusion_matrix\n",
    "from sklearn.metrics import accuracy_score\n",
    "from sklearn.metrics import precision_score\n",
    "from sklearn.metrics import recall_score\n",
    "from sklearn.model_selection import train_test_split\n",
    "from sklearn.model_selection import cross_validate"
   ]
  },
  {
   "cell_type": "markdown",
   "metadata": {},
   "source": [
    "## Идентификация мошенников среди покупателей в онлайн-магазине"
   ]
  },
  {
   "cell_type": "markdown",
   "metadata": {},
   "source": [
    "#### Customers_final_ex.csv — данные о покупателях\n",
    "Описание:\n",
    "* Customer_id — уникальный идентификатор учетной записи клиента\n",
    "* age — возраст клиентского счета в месяцах (может быть float)\n",
    "* num_s — количество посылок, отправленных на адрес, по которому покупатель не проживает в течение последнего месяца\n",
    "* num_dev — количество различных физических устройств (смартфонов, планшетов, ПК), связанных на данный момент с учетной записью\n",
    "* gender — мужчина, женщина, другое или нет информации\n",
    "* Preferred color — предпочтительный цвет заказчика"
   ]
  },
  {
   "cell_type": "markdown",
   "metadata": {},
   "source": [
    "#### Transactional_info_new.csv — данные о покупках этих покупателей в последнем месяце\n",
    "Описание:\n",
    "* transaction_id — уникальный идентификатор покупки\n",
    "* Dist — расстояние между адресом доставки и домашним адресом в км\n",
    "* payment_t — тип платежа: 0 — безопасный (кредитные карты, PayPal и т. д.) 1— небезопасный (счет, рассрочка)\n",
    "* count_dev_is_shop — страна, в которой находится устройство, с которого была совершена транзакция, идентифицируется по IP-адресу, идентична стране магазина (0 — да, 1 — нет)\n",
    "* basket — стоимость покупки\n",
    "* product_type — ценность товара в зависимости от типа товара\n",
    "* Fraudulent_Trans — отметка, считалась ли транзакция мошеннической (истинное значение)\n",
    "* Customer_id — идентификатор учетной записи клиента, в которой была создана эта транзакция\n",
    "* Day_of_Week — день недели, когда была создана транзакция (0 - воскресенье, 1 - понедельник и тд)\n"
   ]
  },
  {
   "cell_type": "markdown",
   "metadata": {},
   "source": [
    "#### Задание: \n",
    "* Проведите анализ полученных данных. Выберите метод анализа из изученных на курсе, обоснуйте свой выбор.\n",
    "* Проанализируйте, какие факторы важны для находки покупок мошенников, какие нет? \n",
    "* Создайте модель, которая будет предсказывать на будущее Fraudulent_Trans. \n",
    "* Пришлите файл jupyter notebook с анализом и детальным описанием своей работы: какие методы вы использовали, какие теории и гипотезы вы выдвигали, как вы их проверяли и к каким результатам пришли."
   ]
  },
  {
   "cell_type": "code",
   "execution_count": 3,
   "metadata": {
    "scrolled": true
   },
   "outputs": [
    {
     "data": {
      "text/html": [
       "<div>\n",
       "<style scoped>\n",
       "    .dataframe tbody tr th:only-of-type {\n",
       "        vertical-align: middle;\n",
       "    }\n",
       "\n",
       "    .dataframe tbody tr th {\n",
       "        vertical-align: top;\n",
       "    }\n",
       "\n",
       "    .dataframe thead th {\n",
       "        text-align: right;\n",
       "    }\n",
       "</style>\n",
       "<table border=\"1\" class=\"dataframe\">\n",
       "  <thead>\n",
       "    <tr style=\"text-align: right;\">\n",
       "      <th></th>\n",
       "      <th>age</th>\n",
       "      <th>num_s</th>\n",
       "      <th>num_dev</th>\n",
       "      <th>Preferred_col</th>\n",
       "      <th>Gender</th>\n",
       "    </tr>\n",
       "    <tr>\n",
       "      <th>Customer_id</th>\n",
       "      <th></th>\n",
       "      <th></th>\n",
       "      <th></th>\n",
       "      <th></th>\n",
       "      <th></th>\n",
       "    </tr>\n",
       "  </thead>\n",
       "  <tbody>\n",
       "    <tr>\n",
       "      <th>customer_448</th>\n",
       "      <td>35.724517</td>\n",
       "      <td>2</td>\n",
       "      <td>3</td>\n",
       "      <td>blue</td>\n",
       "      <td>f</td>\n",
       "    </tr>\n",
       "    <tr>\n",
       "      <th>customer_183</th>\n",
       "      <td>17.396979</td>\n",
       "      <td>1</td>\n",
       "      <td>4</td>\n",
       "      <td>brown</td>\n",
       "      <td>f</td>\n",
       "    </tr>\n",
       "    <tr>\n",
       "      <th>customer_261</th>\n",
       "      <td>37.054879</td>\n",
       "      <td>3</td>\n",
       "      <td>4</td>\n",
       "      <td>white</td>\n",
       "      <td>m</td>\n",
       "    </tr>\n",
       "    <tr>\n",
       "      <th>customer_413</th>\n",
       "      <td>37.090268</td>\n",
       "      <td>0</td>\n",
       "      <td>2</td>\n",
       "      <td>yellow</td>\n",
       "      <td>m</td>\n",
       "    </tr>\n",
       "    <tr>\n",
       "      <th>customer_507</th>\n",
       "      <td>47.297710</td>\n",
       "      <td>2</td>\n",
       "      <td>3</td>\n",
       "      <td>yellow</td>\n",
       "      <td>f</td>\n",
       "    </tr>\n",
       "  </tbody>\n",
       "</table>\n",
       "</div>"
      ],
      "text/plain": [
       "                    age  num_s  num_dev Preferred_col Gender\n",
       "Customer_id                                                 \n",
       "customer_448  35.724517      2        3          blue      f\n",
       "customer_183  17.396979      1        4         brown      f\n",
       "customer_261  37.054879      3        4         white      m\n",
       "customer_413  37.090268      0        2        yellow      m\n",
       "customer_507  47.297710      2        3        yellow      f"
      ]
     },
     "execution_count": 3,
     "metadata": {},
     "output_type": "execute_result"
    }
   ],
   "source": [
    "data_customer = pd.read_csv('Customers_final_ex.csv',index_col=0)\n",
    "data_customer.head()"
   ]
  },
  {
   "cell_type": "code",
   "execution_count": 4,
   "metadata": {},
   "outputs": [
    {
     "data": {
      "text/plain": [
       "array(['blue', 'brown', 'white', 'yellow', 'orange', 'black', 'grey',\n",
       "       'green', 'red', 'pink'], dtype=object)"
      ]
     },
     "execution_count": 4,
     "metadata": {},
     "output_type": "execute_result"
    }
   ],
   "source": [
    "data_customer['Preferred_col'].unique()"
   ]
  },
  {
   "cell_type": "code",
   "execution_count": 5,
   "metadata": {},
   "outputs": [
    {
     "data": {
      "text/plain": [
       "array(['f', 'm', 'd', 'unknown'], dtype=object)"
      ]
     },
     "execution_count": 5,
     "metadata": {},
     "output_type": "execute_result"
    }
   ],
   "source": [
    "data_customer['Gender'].unique()"
   ]
  },
  {
   "cell_type": "code",
   "execution_count": 6,
   "metadata": {},
   "outputs": [
    {
     "data": {
      "text/html": [
       "<div>\n",
       "<style scoped>\n",
       "    .dataframe tbody tr th:only-of-type {\n",
       "        vertical-align: middle;\n",
       "    }\n",
       "\n",
       "    .dataframe tbody tr th {\n",
       "        vertical-align: top;\n",
       "    }\n",
       "\n",
       "    .dataframe thead th {\n",
       "        text-align: right;\n",
       "    }\n",
       "</style>\n",
       "<table border=\"1\" class=\"dataframe\">\n",
       "  <thead>\n",
       "    <tr style=\"text-align: right;\">\n",
       "      <th></th>\n",
       "      <th>age</th>\n",
       "      <th>num_s</th>\n",
       "      <th>num_dev</th>\n",
       "      <th>Preferred_col_black</th>\n",
       "      <th>Preferred_col_blue</th>\n",
       "      <th>Preferred_col_brown</th>\n",
       "      <th>Preferred_col_green</th>\n",
       "      <th>Preferred_col_grey</th>\n",
       "      <th>Preferred_col_orange</th>\n",
       "      <th>Preferred_col_pink</th>\n",
       "      <th>Preferred_col_red</th>\n",
       "      <th>Preferred_col_white</th>\n",
       "      <th>Preferred_col_yellow</th>\n",
       "      <th>Gender_d</th>\n",
       "      <th>Gender_f</th>\n",
       "      <th>Gender_m</th>\n",
       "      <th>Gender_unknown</th>\n",
       "    </tr>\n",
       "    <tr>\n",
       "      <th>Customer_id</th>\n",
       "      <th></th>\n",
       "      <th></th>\n",
       "      <th></th>\n",
       "      <th></th>\n",
       "      <th></th>\n",
       "      <th></th>\n",
       "      <th></th>\n",
       "      <th></th>\n",
       "      <th></th>\n",
       "      <th></th>\n",
       "      <th></th>\n",
       "      <th></th>\n",
       "      <th></th>\n",
       "      <th></th>\n",
       "      <th></th>\n",
       "      <th></th>\n",
       "      <th></th>\n",
       "    </tr>\n",
       "  </thead>\n",
       "  <tbody>\n",
       "    <tr>\n",
       "      <th>customer_448</th>\n",
       "      <td>35.724517</td>\n",
       "      <td>2</td>\n",
       "      <td>3</td>\n",
       "      <td>0</td>\n",
       "      <td>1</td>\n",
       "      <td>0</td>\n",
       "      <td>0</td>\n",
       "      <td>0</td>\n",
       "      <td>0</td>\n",
       "      <td>0</td>\n",
       "      <td>0</td>\n",
       "      <td>0</td>\n",
       "      <td>0</td>\n",
       "      <td>0</td>\n",
       "      <td>1</td>\n",
       "      <td>0</td>\n",
       "      <td>0</td>\n",
       "    </tr>\n",
       "    <tr>\n",
       "      <th>customer_183</th>\n",
       "      <td>17.396979</td>\n",
       "      <td>1</td>\n",
       "      <td>4</td>\n",
       "      <td>0</td>\n",
       "      <td>0</td>\n",
       "      <td>1</td>\n",
       "      <td>0</td>\n",
       "      <td>0</td>\n",
       "      <td>0</td>\n",
       "      <td>0</td>\n",
       "      <td>0</td>\n",
       "      <td>0</td>\n",
       "      <td>0</td>\n",
       "      <td>0</td>\n",
       "      <td>1</td>\n",
       "      <td>0</td>\n",
       "      <td>0</td>\n",
       "    </tr>\n",
       "    <tr>\n",
       "      <th>customer_261</th>\n",
       "      <td>37.054879</td>\n",
       "      <td>3</td>\n",
       "      <td>4</td>\n",
       "      <td>0</td>\n",
       "      <td>0</td>\n",
       "      <td>0</td>\n",
       "      <td>0</td>\n",
       "      <td>0</td>\n",
       "      <td>0</td>\n",
       "      <td>0</td>\n",
       "      <td>0</td>\n",
       "      <td>1</td>\n",
       "      <td>0</td>\n",
       "      <td>0</td>\n",
       "      <td>0</td>\n",
       "      <td>1</td>\n",
       "      <td>0</td>\n",
       "    </tr>\n",
       "    <tr>\n",
       "      <th>customer_413</th>\n",
       "      <td>37.090268</td>\n",
       "      <td>0</td>\n",
       "      <td>2</td>\n",
       "      <td>0</td>\n",
       "      <td>0</td>\n",
       "      <td>0</td>\n",
       "      <td>0</td>\n",
       "      <td>0</td>\n",
       "      <td>0</td>\n",
       "      <td>0</td>\n",
       "      <td>0</td>\n",
       "      <td>0</td>\n",
       "      <td>1</td>\n",
       "      <td>0</td>\n",
       "      <td>0</td>\n",
       "      <td>1</td>\n",
       "      <td>0</td>\n",
       "    </tr>\n",
       "    <tr>\n",
       "      <th>customer_507</th>\n",
       "      <td>47.297710</td>\n",
       "      <td>2</td>\n",
       "      <td>3</td>\n",
       "      <td>0</td>\n",
       "      <td>0</td>\n",
       "      <td>0</td>\n",
       "      <td>0</td>\n",
       "      <td>0</td>\n",
       "      <td>0</td>\n",
       "      <td>0</td>\n",
       "      <td>0</td>\n",
       "      <td>0</td>\n",
       "      <td>1</td>\n",
       "      <td>0</td>\n",
       "      <td>1</td>\n",
       "      <td>0</td>\n",
       "      <td>0</td>\n",
       "    </tr>\n",
       "  </tbody>\n",
       "</table>\n",
       "</div>"
      ],
      "text/plain": [
       "                    age  num_s  num_dev  Preferred_col_black  \\\n",
       "Customer_id                                                    \n",
       "customer_448  35.724517      2        3                    0   \n",
       "customer_183  17.396979      1        4                    0   \n",
       "customer_261  37.054879      3        4                    0   \n",
       "customer_413  37.090268      0        2                    0   \n",
       "customer_507  47.297710      2        3                    0   \n",
       "\n",
       "              Preferred_col_blue  Preferred_col_brown  Preferred_col_green  \\\n",
       "Customer_id                                                                  \n",
       "customer_448                   1                    0                    0   \n",
       "customer_183                   0                    1                    0   \n",
       "customer_261                   0                    0                    0   \n",
       "customer_413                   0                    0                    0   \n",
       "customer_507                   0                    0                    0   \n",
       "\n",
       "              Preferred_col_grey  Preferred_col_orange  Preferred_col_pink  \\\n",
       "Customer_id                                                                  \n",
       "customer_448                   0                     0                   0   \n",
       "customer_183                   0                     0                   0   \n",
       "customer_261                   0                     0                   0   \n",
       "customer_413                   0                     0                   0   \n",
       "customer_507                   0                     0                   0   \n",
       "\n",
       "              Preferred_col_red  Preferred_col_white  Preferred_col_yellow  \\\n",
       "Customer_id                                                                  \n",
       "customer_448                  0                    0                     0   \n",
       "customer_183                  0                    0                     0   \n",
       "customer_261                  0                    1                     0   \n",
       "customer_413                  0                    0                     1   \n",
       "customer_507                  0                    0                     1   \n",
       "\n",
       "              Gender_d  Gender_f  Gender_m  Gender_unknown  \n",
       "Customer_id                                                 \n",
       "customer_448         0         1         0               0  \n",
       "customer_183         0         1         0               0  \n",
       "customer_261         0         0         1               0  \n",
       "customer_413         0         0         1               0  \n",
       "customer_507         0         1         0               0  "
      ]
     },
     "execution_count": 6,
     "metadata": {},
     "output_type": "execute_result"
    }
   ],
   "source": [
    "data_customer=pd.get_dummies(data_customer) #преозобрование Preferred_col,Gender в числа в отдельние столбики\n",
    "data_customer.head()"
   ]
  },
  {
   "cell_type": "code",
   "execution_count": 7,
   "metadata": {},
   "outputs": [
    {
     "data": {
      "text/html": [
       "<div>\n",
       "<style scoped>\n",
       "    .dataframe tbody tr th:only-of-type {\n",
       "        vertical-align: middle;\n",
       "    }\n",
       "\n",
       "    .dataframe tbody tr th {\n",
       "        vertical-align: top;\n",
       "    }\n",
       "\n",
       "    .dataframe thead th {\n",
       "        text-align: right;\n",
       "    }\n",
       "</style>\n",
       "<table border=\"1\" class=\"dataframe\">\n",
       "  <thead>\n",
       "    <tr style=\"text-align: right;\">\n",
       "      <th></th>\n",
       "      <th>Dist</th>\n",
       "      <th>payment_t</th>\n",
       "      <th>count_dev_is_shop</th>\n",
       "      <th>basket</th>\n",
       "      <th>product_type</th>\n",
       "      <th>Customer_id</th>\n",
       "      <th>Day_of_week</th>\n",
       "      <th>Fraudulent_trans</th>\n",
       "    </tr>\n",
       "    <tr>\n",
       "      <th>transaction_id</th>\n",
       "      <th></th>\n",
       "      <th></th>\n",
       "      <th></th>\n",
       "      <th></th>\n",
       "      <th></th>\n",
       "      <th></th>\n",
       "      <th></th>\n",
       "      <th></th>\n",
       "    </tr>\n",
       "  </thead>\n",
       "  <tbody>\n",
       "    <tr>\n",
       "      <th>transaction_0</th>\n",
       "      <td>105.926953</td>\n",
       "      <td>0.0</td>\n",
       "      <td>0.0</td>\n",
       "      <td>46.390320</td>\n",
       "      <td>0</td>\n",
       "      <td>customer_448</td>\n",
       "      <td>5</td>\n",
       "      <td>0.0</td>\n",
       "    </tr>\n",
       "    <tr>\n",
       "      <th>transaction_1</th>\n",
       "      <td>185.256711</td>\n",
       "      <td>1.0</td>\n",
       "      <td>0.0</td>\n",
       "      <td>60.701211</td>\n",
       "      <td>1</td>\n",
       "      <td>customer_183</td>\n",
       "      <td>0</td>\n",
       "      <td>0.0</td>\n",
       "    </tr>\n",
       "    <tr>\n",
       "      <th>transaction_2</th>\n",
       "      <td>71.725825</td>\n",
       "      <td>0.0</td>\n",
       "      <td>1.0</td>\n",
       "      <td>79.602869</td>\n",
       "      <td>0</td>\n",
       "      <td>customer_261</td>\n",
       "      <td>2</td>\n",
       "      <td>0.0</td>\n",
       "    </tr>\n",
       "    <tr>\n",
       "      <th>transaction_3</th>\n",
       "      <td>15.232666</td>\n",
       "      <td>1.0</td>\n",
       "      <td>0.0</td>\n",
       "      <td>58.815953</td>\n",
       "      <td>2</td>\n",
       "      <td>customer_413</td>\n",
       "      <td>6</td>\n",
       "      <td>0.0</td>\n",
       "    </tr>\n",
       "    <tr>\n",
       "      <th>transaction_4</th>\n",
       "      <td>37.660455</td>\n",
       "      <td>1.0</td>\n",
       "      <td>0.0</td>\n",
       "      <td>107.884814</td>\n",
       "      <td>2</td>\n",
       "      <td>customer_507</td>\n",
       "      <td>0</td>\n",
       "      <td>0.0</td>\n",
       "    </tr>\n",
       "  </tbody>\n",
       "</table>\n",
       "</div>"
      ],
      "text/plain": [
       "                      Dist  payment_t  count_dev_is_shop      basket  \\\n",
       "transaction_id                                                         \n",
       "transaction_0   105.926953        0.0                0.0   46.390320   \n",
       "transaction_1   185.256711        1.0                0.0   60.701211   \n",
       "transaction_2    71.725825        0.0                1.0   79.602869   \n",
       "transaction_3    15.232666        1.0                0.0   58.815953   \n",
       "transaction_4    37.660455        1.0                0.0  107.884814   \n",
       "\n",
       "                product_type   Customer_id  Day_of_week  Fraudulent_trans  \n",
       "transaction_id                                                             \n",
       "transaction_0              0  customer_448            5               0.0  \n",
       "transaction_1              1  customer_183            0               0.0  \n",
       "transaction_2              0  customer_261            2               0.0  \n",
       "transaction_3              2  customer_413            6               0.0  \n",
       "transaction_4              2  customer_507            0               0.0  "
      ]
     },
     "execution_count": 7,
     "metadata": {},
     "output_type": "execute_result"
    }
   ],
   "source": [
    "data_transac = pd.read_csv('transactions_final_ex.csv',index_col=0)\n",
    "data_transac.head()"
   ]
  },
  {
   "cell_type": "code",
   "execution_count": 8,
   "metadata": {},
   "outputs": [],
   "source": [
    "full_data=data_transac.merge(data_customer, on='Customer_id', how='left')"
   ]
  },
  {
   "cell_type": "code",
   "execution_count": 9,
   "metadata": {
    "scrolled": true
   },
   "outputs": [
    {
     "name": "stdout",
     "output_type": "stream",
     "text": [
      "<class 'pandas.core.frame.DataFrame'>\n",
      "Int64Index: 1000 entries, 0 to 999\n",
      "Data columns (total 25 columns):\n",
      " #   Column                Non-Null Count  Dtype  \n",
      "---  ------                --------------  -----  \n",
      " 0   Dist                  1000 non-null   float64\n",
      " 1   payment_t             1000 non-null   float64\n",
      " 2   count_dev_is_shop     1000 non-null   float64\n",
      " 3   basket                1000 non-null   float64\n",
      " 4   product_type          1000 non-null   int64  \n",
      " 5   Customer_id           1000 non-null   object \n",
      " 6   Day_of_week           1000 non-null   int64  \n",
      " 7   Fraudulent_trans      1000 non-null   float64\n",
      " 8   age                   977 non-null    float64\n",
      " 9   num_s                 977 non-null    float64\n",
      " 10  num_dev               977 non-null    float64\n",
      " 11  Preferred_col_black   977 non-null    float64\n",
      " 12  Preferred_col_blue    977 non-null    float64\n",
      " 13  Preferred_col_brown   977 non-null    float64\n",
      " 14  Preferred_col_green   977 non-null    float64\n",
      " 15  Preferred_col_grey    977 non-null    float64\n",
      " 16  Preferred_col_orange  977 non-null    float64\n",
      " 17  Preferred_col_pink    977 non-null    float64\n",
      " 18  Preferred_col_red     977 non-null    float64\n",
      " 19  Preferred_col_white   977 non-null    float64\n",
      " 20  Preferred_col_yellow  977 non-null    float64\n",
      " 21  Gender_d              977 non-null    float64\n",
      " 22  Gender_f              977 non-null    float64\n",
      " 23  Gender_m              977 non-null    float64\n",
      " 24  Gender_unknown        977 non-null    float64\n",
      "dtypes: float64(22), int64(2), object(1)\n",
      "memory usage: 203.1+ KB\n"
     ]
    }
   ],
   "source": [
    "full_data.info() #є 23 клієнти по яким є транзакції, але немає інформації"
   ]
  },
  {
   "cell_type": "code",
   "execution_count": 10,
   "metadata": {
    "scrolled": true
   },
   "outputs": [
    {
     "data": {
      "text/html": [
       "<div>\n",
       "<style scoped>\n",
       "    .dataframe tbody tr th:only-of-type {\n",
       "        vertical-align: middle;\n",
       "    }\n",
       "\n",
       "    .dataframe tbody tr th {\n",
       "        vertical-align: top;\n",
       "    }\n",
       "\n",
       "    .dataframe thead th {\n",
       "        text-align: right;\n",
       "    }\n",
       "</style>\n",
       "<table border=\"1\" class=\"dataframe\">\n",
       "  <thead>\n",
       "    <tr style=\"text-align: right;\">\n",
       "      <th></th>\n",
       "      <th>Dist</th>\n",
       "      <th>payment_t</th>\n",
       "      <th>count_dev_is_shop</th>\n",
       "      <th>basket</th>\n",
       "      <th>product_type</th>\n",
       "      <th>Customer_id</th>\n",
       "      <th>Day_of_week</th>\n",
       "      <th>Fraudulent_trans</th>\n",
       "      <th>age</th>\n",
       "      <th>num_s</th>\n",
       "      <th>...</th>\n",
       "      <th>Preferred_col_grey</th>\n",
       "      <th>Preferred_col_orange</th>\n",
       "      <th>Preferred_col_pink</th>\n",
       "      <th>Preferred_col_red</th>\n",
       "      <th>Preferred_col_white</th>\n",
       "      <th>Preferred_col_yellow</th>\n",
       "      <th>Gender_d</th>\n",
       "      <th>Gender_f</th>\n",
       "      <th>Gender_m</th>\n",
       "      <th>Gender_unknown</th>\n",
       "    </tr>\n",
       "  </thead>\n",
       "  <tbody>\n",
       "    <tr>\n",
       "      <th>61</th>\n",
       "      <td>57.264814</td>\n",
       "      <td>1.0</td>\n",
       "      <td>1.0</td>\n",
       "      <td>135.965644</td>\n",
       "      <td>2</td>\n",
       "      <td>customer_344</td>\n",
       "      <td>0</td>\n",
       "      <td>0.0</td>\n",
       "      <td>NaN</td>\n",
       "      <td>NaN</td>\n",
       "      <td>...</td>\n",
       "      <td>NaN</td>\n",
       "      <td>NaN</td>\n",
       "      <td>NaN</td>\n",
       "      <td>NaN</td>\n",
       "      <td>NaN</td>\n",
       "      <td>NaN</td>\n",
       "      <td>NaN</td>\n",
       "      <td>NaN</td>\n",
       "      <td>NaN</td>\n",
       "      <td>NaN</td>\n",
       "    </tr>\n",
       "    <tr>\n",
       "      <th>67</th>\n",
       "      <td>130.511068</td>\n",
       "      <td>1.0</td>\n",
       "      <td>1.0</td>\n",
       "      <td>179.867087</td>\n",
       "      <td>0</td>\n",
       "      <td>customer_131</td>\n",
       "      <td>1</td>\n",
       "      <td>1.0</td>\n",
       "      <td>NaN</td>\n",
       "      <td>NaN</td>\n",
       "      <td>...</td>\n",
       "      <td>NaN</td>\n",
       "      <td>NaN</td>\n",
       "      <td>NaN</td>\n",
       "      <td>NaN</td>\n",
       "      <td>NaN</td>\n",
       "      <td>NaN</td>\n",
       "      <td>NaN</td>\n",
       "      <td>NaN</td>\n",
       "      <td>NaN</td>\n",
       "      <td>NaN</td>\n",
       "    </tr>\n",
       "    <tr>\n",
       "      <th>101</th>\n",
       "      <td>53.530077</td>\n",
       "      <td>0.0</td>\n",
       "      <td>0.0</td>\n",
       "      <td>185.777788</td>\n",
       "      <td>1</td>\n",
       "      <td>customer_347</td>\n",
       "      <td>3</td>\n",
       "      <td>0.0</td>\n",
       "      <td>NaN</td>\n",
       "      <td>NaN</td>\n",
       "      <td>...</td>\n",
       "      <td>NaN</td>\n",
       "      <td>NaN</td>\n",
       "      <td>NaN</td>\n",
       "      <td>NaN</td>\n",
       "      <td>NaN</td>\n",
       "      <td>NaN</td>\n",
       "      <td>NaN</td>\n",
       "      <td>NaN</td>\n",
       "      <td>NaN</td>\n",
       "      <td>NaN</td>\n",
       "    </tr>\n",
       "    <tr>\n",
       "      <th>180</th>\n",
       "      <td>103.593813</td>\n",
       "      <td>1.0</td>\n",
       "      <td>0.0</td>\n",
       "      <td>59.244052</td>\n",
       "      <td>0</td>\n",
       "      <td>customer_258</td>\n",
       "      <td>4</td>\n",
       "      <td>1.0</td>\n",
       "      <td>NaN</td>\n",
       "      <td>NaN</td>\n",
       "      <td>...</td>\n",
       "      <td>NaN</td>\n",
       "      <td>NaN</td>\n",
       "      <td>NaN</td>\n",
       "      <td>NaN</td>\n",
       "      <td>NaN</td>\n",
       "      <td>NaN</td>\n",
       "      <td>NaN</td>\n",
       "      <td>NaN</td>\n",
       "      <td>NaN</td>\n",
       "      <td>NaN</td>\n",
       "    </tr>\n",
       "    <tr>\n",
       "      <th>187</th>\n",
       "      <td>0.000000</td>\n",
       "      <td>0.0</td>\n",
       "      <td>0.0</td>\n",
       "      <td>78.264047</td>\n",
       "      <td>2</td>\n",
       "      <td>customer_352</td>\n",
       "      <td>4</td>\n",
       "      <td>0.0</td>\n",
       "      <td>NaN</td>\n",
       "      <td>NaN</td>\n",
       "      <td>...</td>\n",
       "      <td>NaN</td>\n",
       "      <td>NaN</td>\n",
       "      <td>NaN</td>\n",
       "      <td>NaN</td>\n",
       "      <td>NaN</td>\n",
       "      <td>NaN</td>\n",
       "      <td>NaN</td>\n",
       "      <td>NaN</td>\n",
       "      <td>NaN</td>\n",
       "      <td>NaN</td>\n",
       "    </tr>\n",
       "    <tr>\n",
       "      <th>270</th>\n",
       "      <td>252.946057</td>\n",
       "      <td>1.0</td>\n",
       "      <td>1.0</td>\n",
       "      <td>266.900696</td>\n",
       "      <td>2</td>\n",
       "      <td>customer_210</td>\n",
       "      <td>3</td>\n",
       "      <td>1.0</td>\n",
       "      <td>NaN</td>\n",
       "      <td>NaN</td>\n",
       "      <td>...</td>\n",
       "      <td>NaN</td>\n",
       "      <td>NaN</td>\n",
       "      <td>NaN</td>\n",
       "      <td>NaN</td>\n",
       "      <td>NaN</td>\n",
       "      <td>NaN</td>\n",
       "      <td>NaN</td>\n",
       "      <td>NaN</td>\n",
       "      <td>NaN</td>\n",
       "      <td>NaN</td>\n",
       "    </tr>\n",
       "    <tr>\n",
       "      <th>435</th>\n",
       "      <td>0.000000</td>\n",
       "      <td>1.0</td>\n",
       "      <td>0.0</td>\n",
       "      <td>169.710731</td>\n",
       "      <td>0</td>\n",
       "      <td>customer_352</td>\n",
       "      <td>0</td>\n",
       "      <td>0.0</td>\n",
       "      <td>NaN</td>\n",
       "      <td>NaN</td>\n",
       "      <td>...</td>\n",
       "      <td>NaN</td>\n",
       "      <td>NaN</td>\n",
       "      <td>NaN</td>\n",
       "      <td>NaN</td>\n",
       "      <td>NaN</td>\n",
       "      <td>NaN</td>\n",
       "      <td>NaN</td>\n",
       "      <td>NaN</td>\n",
       "      <td>NaN</td>\n",
       "      <td>NaN</td>\n",
       "    </tr>\n",
       "    <tr>\n",
       "      <th>438</th>\n",
       "      <td>0.000000</td>\n",
       "      <td>0.0</td>\n",
       "      <td>0.0</td>\n",
       "      <td>77.001978</td>\n",
       "      <td>0</td>\n",
       "      <td>customer_352</td>\n",
       "      <td>4</td>\n",
       "      <td>0.0</td>\n",
       "      <td>NaN</td>\n",
       "      <td>NaN</td>\n",
       "      <td>...</td>\n",
       "      <td>NaN</td>\n",
       "      <td>NaN</td>\n",
       "      <td>NaN</td>\n",
       "      <td>NaN</td>\n",
       "      <td>NaN</td>\n",
       "      <td>NaN</td>\n",
       "      <td>NaN</td>\n",
       "      <td>NaN</td>\n",
       "      <td>NaN</td>\n",
       "      <td>NaN</td>\n",
       "    </tr>\n",
       "    <tr>\n",
       "      <th>448</th>\n",
       "      <td>118.893192</td>\n",
       "      <td>1.0</td>\n",
       "      <td>0.0</td>\n",
       "      <td>98.633436</td>\n",
       "      <td>1</td>\n",
       "      <td>customer_75</td>\n",
       "      <td>6</td>\n",
       "      <td>0.0</td>\n",
       "      <td>NaN</td>\n",
       "      <td>NaN</td>\n",
       "      <td>...</td>\n",
       "      <td>NaN</td>\n",
       "      <td>NaN</td>\n",
       "      <td>NaN</td>\n",
       "      <td>NaN</td>\n",
       "      <td>NaN</td>\n",
       "      <td>NaN</td>\n",
       "      <td>NaN</td>\n",
       "      <td>NaN</td>\n",
       "      <td>NaN</td>\n",
       "      <td>NaN</td>\n",
       "    </tr>\n",
       "    <tr>\n",
       "      <th>486</th>\n",
       "      <td>86.797662</td>\n",
       "      <td>0.0</td>\n",
       "      <td>0.0</td>\n",
       "      <td>46.888961</td>\n",
       "      <td>0</td>\n",
       "      <td>customer_7</td>\n",
       "      <td>0</td>\n",
       "      <td>0.0</td>\n",
       "      <td>NaN</td>\n",
       "      <td>NaN</td>\n",
       "      <td>...</td>\n",
       "      <td>NaN</td>\n",
       "      <td>NaN</td>\n",
       "      <td>NaN</td>\n",
       "      <td>NaN</td>\n",
       "      <td>NaN</td>\n",
       "      <td>NaN</td>\n",
       "      <td>NaN</td>\n",
       "      <td>NaN</td>\n",
       "      <td>NaN</td>\n",
       "      <td>NaN</td>\n",
       "    </tr>\n",
       "    <tr>\n",
       "      <th>529</th>\n",
       "      <td>0.000000</td>\n",
       "      <td>0.0</td>\n",
       "      <td>0.0</td>\n",
       "      <td>87.668904</td>\n",
       "      <td>1</td>\n",
       "      <td>customer_226</td>\n",
       "      <td>4</td>\n",
       "      <td>0.0</td>\n",
       "      <td>NaN</td>\n",
       "      <td>NaN</td>\n",
       "      <td>...</td>\n",
       "      <td>NaN</td>\n",
       "      <td>NaN</td>\n",
       "      <td>NaN</td>\n",
       "      <td>NaN</td>\n",
       "      <td>NaN</td>\n",
       "      <td>NaN</td>\n",
       "      <td>NaN</td>\n",
       "      <td>NaN</td>\n",
       "      <td>NaN</td>\n",
       "      <td>NaN</td>\n",
       "    </tr>\n",
       "    <tr>\n",
       "      <th>566</th>\n",
       "      <td>0.000000</td>\n",
       "      <td>0.0</td>\n",
       "      <td>0.0</td>\n",
       "      <td>49.481117</td>\n",
       "      <td>2</td>\n",
       "      <td>customer_258</td>\n",
       "      <td>3</td>\n",
       "      <td>0.0</td>\n",
       "      <td>NaN</td>\n",
       "      <td>NaN</td>\n",
       "      <td>...</td>\n",
       "      <td>NaN</td>\n",
       "      <td>NaN</td>\n",
       "      <td>NaN</td>\n",
       "      <td>NaN</td>\n",
       "      <td>NaN</td>\n",
       "      <td>NaN</td>\n",
       "      <td>NaN</td>\n",
       "      <td>NaN</td>\n",
       "      <td>NaN</td>\n",
       "      <td>NaN</td>\n",
       "    </tr>\n",
       "    <tr>\n",
       "      <th>637</th>\n",
       "      <td>107.338226</td>\n",
       "      <td>1.0</td>\n",
       "      <td>0.0</td>\n",
       "      <td>403.094777</td>\n",
       "      <td>1</td>\n",
       "      <td>customer_210</td>\n",
       "      <td>0</td>\n",
       "      <td>0.0</td>\n",
       "      <td>NaN</td>\n",
       "      <td>NaN</td>\n",
       "      <td>...</td>\n",
       "      <td>NaN</td>\n",
       "      <td>NaN</td>\n",
       "      <td>NaN</td>\n",
       "      <td>NaN</td>\n",
       "      <td>NaN</td>\n",
       "      <td>NaN</td>\n",
       "      <td>NaN</td>\n",
       "      <td>NaN</td>\n",
       "      <td>NaN</td>\n",
       "      <td>NaN</td>\n",
       "    </tr>\n",
       "    <tr>\n",
       "      <th>688</th>\n",
       "      <td>0.000000</td>\n",
       "      <td>1.0</td>\n",
       "      <td>0.0</td>\n",
       "      <td>87.585373</td>\n",
       "      <td>0</td>\n",
       "      <td>customer_400</td>\n",
       "      <td>2</td>\n",
       "      <td>0.0</td>\n",
       "      <td>NaN</td>\n",
       "      <td>NaN</td>\n",
       "      <td>...</td>\n",
       "      <td>NaN</td>\n",
       "      <td>NaN</td>\n",
       "      <td>NaN</td>\n",
       "      <td>NaN</td>\n",
       "      <td>NaN</td>\n",
       "      <td>NaN</td>\n",
       "      <td>NaN</td>\n",
       "      <td>NaN</td>\n",
       "      <td>NaN</td>\n",
       "      <td>NaN</td>\n",
       "    </tr>\n",
       "    <tr>\n",
       "      <th>732</th>\n",
       "      <td>143.833952</td>\n",
       "      <td>0.0</td>\n",
       "      <td>0.0</td>\n",
       "      <td>31.347049</td>\n",
       "      <td>1</td>\n",
       "      <td>customer_100</td>\n",
       "      <td>2</td>\n",
       "      <td>0.0</td>\n",
       "      <td>NaN</td>\n",
       "      <td>NaN</td>\n",
       "      <td>...</td>\n",
       "      <td>NaN</td>\n",
       "      <td>NaN</td>\n",
       "      <td>NaN</td>\n",
       "      <td>NaN</td>\n",
       "      <td>NaN</td>\n",
       "      <td>NaN</td>\n",
       "      <td>NaN</td>\n",
       "      <td>NaN</td>\n",
       "      <td>NaN</td>\n",
       "      <td>NaN</td>\n",
       "    </tr>\n",
       "    <tr>\n",
       "      <th>758</th>\n",
       "      <td>0.000000</td>\n",
       "      <td>1.0</td>\n",
       "      <td>0.0</td>\n",
       "      <td>40.153044</td>\n",
       "      <td>0</td>\n",
       "      <td>customer_55</td>\n",
       "      <td>1</td>\n",
       "      <td>0.0</td>\n",
       "      <td>NaN</td>\n",
       "      <td>NaN</td>\n",
       "      <td>...</td>\n",
       "      <td>NaN</td>\n",
       "      <td>NaN</td>\n",
       "      <td>NaN</td>\n",
       "      <td>NaN</td>\n",
       "      <td>NaN</td>\n",
       "      <td>NaN</td>\n",
       "      <td>NaN</td>\n",
       "      <td>NaN</td>\n",
       "      <td>NaN</td>\n",
       "      <td>NaN</td>\n",
       "    </tr>\n",
       "    <tr>\n",
       "      <th>782</th>\n",
       "      <td>326.258470</td>\n",
       "      <td>1.0</td>\n",
       "      <td>1.0</td>\n",
       "      <td>334.206571</td>\n",
       "      <td>1</td>\n",
       "      <td>customer_344</td>\n",
       "      <td>0</td>\n",
       "      <td>1.0</td>\n",
       "      <td>NaN</td>\n",
       "      <td>NaN</td>\n",
       "      <td>...</td>\n",
       "      <td>NaN</td>\n",
       "      <td>NaN</td>\n",
       "      <td>NaN</td>\n",
       "      <td>NaN</td>\n",
       "      <td>NaN</td>\n",
       "      <td>NaN</td>\n",
       "      <td>NaN</td>\n",
       "      <td>NaN</td>\n",
       "      <td>NaN</td>\n",
       "      <td>NaN</td>\n",
       "    </tr>\n",
       "    <tr>\n",
       "      <th>816</th>\n",
       "      <td>18.070155</td>\n",
       "      <td>1.0</td>\n",
       "      <td>0.0</td>\n",
       "      <td>117.284225</td>\n",
       "      <td>2</td>\n",
       "      <td>customer_75</td>\n",
       "      <td>6</td>\n",
       "      <td>0.0</td>\n",
       "      <td>NaN</td>\n",
       "      <td>NaN</td>\n",
       "      <td>...</td>\n",
       "      <td>NaN</td>\n",
       "      <td>NaN</td>\n",
       "      <td>NaN</td>\n",
       "      <td>NaN</td>\n",
       "      <td>NaN</td>\n",
       "      <td>NaN</td>\n",
       "      <td>NaN</td>\n",
       "      <td>NaN</td>\n",
       "      <td>NaN</td>\n",
       "      <td>NaN</td>\n",
       "    </tr>\n",
       "    <tr>\n",
       "      <th>817</th>\n",
       "      <td>71.035029</td>\n",
       "      <td>1.0</td>\n",
       "      <td>1.0</td>\n",
       "      <td>144.540074</td>\n",
       "      <td>0</td>\n",
       "      <td>customer_55</td>\n",
       "      <td>0</td>\n",
       "      <td>0.0</td>\n",
       "      <td>NaN</td>\n",
       "      <td>NaN</td>\n",
       "      <td>...</td>\n",
       "      <td>NaN</td>\n",
       "      <td>NaN</td>\n",
       "      <td>NaN</td>\n",
       "      <td>NaN</td>\n",
       "      <td>NaN</td>\n",
       "      <td>NaN</td>\n",
       "      <td>NaN</td>\n",
       "      <td>NaN</td>\n",
       "      <td>NaN</td>\n",
       "      <td>NaN</td>\n",
       "    </tr>\n",
       "    <tr>\n",
       "      <th>834</th>\n",
       "      <td>70.003389</td>\n",
       "      <td>1.0</td>\n",
       "      <td>1.0</td>\n",
       "      <td>142.022379</td>\n",
       "      <td>2</td>\n",
       "      <td>customer_258</td>\n",
       "      <td>5</td>\n",
       "      <td>0.0</td>\n",
       "      <td>NaN</td>\n",
       "      <td>NaN</td>\n",
       "      <td>...</td>\n",
       "      <td>NaN</td>\n",
       "      <td>NaN</td>\n",
       "      <td>NaN</td>\n",
       "      <td>NaN</td>\n",
       "      <td>NaN</td>\n",
       "      <td>NaN</td>\n",
       "      <td>NaN</td>\n",
       "      <td>NaN</td>\n",
       "      <td>NaN</td>\n",
       "      <td>NaN</td>\n",
       "    </tr>\n",
       "    <tr>\n",
       "      <th>888</th>\n",
       "      <td>0.000000</td>\n",
       "      <td>1.0</td>\n",
       "      <td>0.0</td>\n",
       "      <td>24.372779</td>\n",
       "      <td>0</td>\n",
       "      <td>customer_100</td>\n",
       "      <td>6</td>\n",
       "      <td>1.0</td>\n",
       "      <td>NaN</td>\n",
       "      <td>NaN</td>\n",
       "      <td>...</td>\n",
       "      <td>NaN</td>\n",
       "      <td>NaN</td>\n",
       "      <td>NaN</td>\n",
       "      <td>NaN</td>\n",
       "      <td>NaN</td>\n",
       "      <td>NaN</td>\n",
       "      <td>NaN</td>\n",
       "      <td>NaN</td>\n",
       "      <td>NaN</td>\n",
       "      <td>NaN</td>\n",
       "    </tr>\n",
       "    <tr>\n",
       "      <th>962</th>\n",
       "      <td>0.000000</td>\n",
       "      <td>0.0</td>\n",
       "      <td>0.0</td>\n",
       "      <td>105.856318</td>\n",
       "      <td>0</td>\n",
       "      <td>customer_527</td>\n",
       "      <td>1</td>\n",
       "      <td>0.0</td>\n",
       "      <td>NaN</td>\n",
       "      <td>NaN</td>\n",
       "      <td>...</td>\n",
       "      <td>NaN</td>\n",
       "      <td>NaN</td>\n",
       "      <td>NaN</td>\n",
       "      <td>NaN</td>\n",
       "      <td>NaN</td>\n",
       "      <td>NaN</td>\n",
       "      <td>NaN</td>\n",
       "      <td>NaN</td>\n",
       "      <td>NaN</td>\n",
       "      <td>NaN</td>\n",
       "    </tr>\n",
       "    <tr>\n",
       "      <th>988</th>\n",
       "      <td>359.120019</td>\n",
       "      <td>1.0</td>\n",
       "      <td>0.0</td>\n",
       "      <td>60.799100</td>\n",
       "      <td>1</td>\n",
       "      <td>customer_11</td>\n",
       "      <td>6</td>\n",
       "      <td>0.0</td>\n",
       "      <td>NaN</td>\n",
       "      <td>NaN</td>\n",
       "      <td>...</td>\n",
       "      <td>NaN</td>\n",
       "      <td>NaN</td>\n",
       "      <td>NaN</td>\n",
       "      <td>NaN</td>\n",
       "      <td>NaN</td>\n",
       "      <td>NaN</td>\n",
       "      <td>NaN</td>\n",
       "      <td>NaN</td>\n",
       "      <td>NaN</td>\n",
       "      <td>NaN</td>\n",
       "    </tr>\n",
       "  </tbody>\n",
       "</table>\n",
       "<p>23 rows × 25 columns</p>\n",
       "</div>"
      ],
      "text/plain": [
       "           Dist  payment_t  count_dev_is_shop      basket  product_type  \\\n",
       "61    57.264814        1.0                1.0  135.965644             2   \n",
       "67   130.511068        1.0                1.0  179.867087             0   \n",
       "101   53.530077        0.0                0.0  185.777788             1   \n",
       "180  103.593813        1.0                0.0   59.244052             0   \n",
       "187    0.000000        0.0                0.0   78.264047             2   \n",
       "270  252.946057        1.0                1.0  266.900696             2   \n",
       "435    0.000000        1.0                0.0  169.710731             0   \n",
       "438    0.000000        0.0                0.0   77.001978             0   \n",
       "448  118.893192        1.0                0.0   98.633436             1   \n",
       "486   86.797662        0.0                0.0   46.888961             0   \n",
       "529    0.000000        0.0                0.0   87.668904             1   \n",
       "566    0.000000        0.0                0.0   49.481117             2   \n",
       "637  107.338226        1.0                0.0  403.094777             1   \n",
       "688    0.000000        1.0                0.0   87.585373             0   \n",
       "732  143.833952        0.0                0.0   31.347049             1   \n",
       "758    0.000000        1.0                0.0   40.153044             0   \n",
       "782  326.258470        1.0                1.0  334.206571             1   \n",
       "816   18.070155        1.0                0.0  117.284225             2   \n",
       "817   71.035029        1.0                1.0  144.540074             0   \n",
       "834   70.003389        1.0                1.0  142.022379             2   \n",
       "888    0.000000        1.0                0.0   24.372779             0   \n",
       "962    0.000000        0.0                0.0  105.856318             0   \n",
       "988  359.120019        1.0                0.0   60.799100             1   \n",
       "\n",
       "      Customer_id  Day_of_week  Fraudulent_trans  age  num_s  ...  \\\n",
       "61   customer_344            0               0.0  NaN    NaN  ...   \n",
       "67   customer_131            1               1.0  NaN    NaN  ...   \n",
       "101  customer_347            3               0.0  NaN    NaN  ...   \n",
       "180  customer_258            4               1.0  NaN    NaN  ...   \n",
       "187  customer_352            4               0.0  NaN    NaN  ...   \n",
       "270  customer_210            3               1.0  NaN    NaN  ...   \n",
       "435  customer_352            0               0.0  NaN    NaN  ...   \n",
       "438  customer_352            4               0.0  NaN    NaN  ...   \n",
       "448   customer_75            6               0.0  NaN    NaN  ...   \n",
       "486    customer_7            0               0.0  NaN    NaN  ...   \n",
       "529  customer_226            4               0.0  NaN    NaN  ...   \n",
       "566  customer_258            3               0.0  NaN    NaN  ...   \n",
       "637  customer_210            0               0.0  NaN    NaN  ...   \n",
       "688  customer_400            2               0.0  NaN    NaN  ...   \n",
       "732  customer_100            2               0.0  NaN    NaN  ...   \n",
       "758   customer_55            1               0.0  NaN    NaN  ...   \n",
       "782  customer_344            0               1.0  NaN    NaN  ...   \n",
       "816   customer_75            6               0.0  NaN    NaN  ...   \n",
       "817   customer_55            0               0.0  NaN    NaN  ...   \n",
       "834  customer_258            5               0.0  NaN    NaN  ...   \n",
       "888  customer_100            6               1.0  NaN    NaN  ...   \n",
       "962  customer_527            1               0.0  NaN    NaN  ...   \n",
       "988   customer_11            6               0.0  NaN    NaN  ...   \n",
       "\n",
       "     Preferred_col_grey  Preferred_col_orange  Preferred_col_pink  \\\n",
       "61                  NaN                   NaN                 NaN   \n",
       "67                  NaN                   NaN                 NaN   \n",
       "101                 NaN                   NaN                 NaN   \n",
       "180                 NaN                   NaN                 NaN   \n",
       "187                 NaN                   NaN                 NaN   \n",
       "270                 NaN                   NaN                 NaN   \n",
       "435                 NaN                   NaN                 NaN   \n",
       "438                 NaN                   NaN                 NaN   \n",
       "448                 NaN                   NaN                 NaN   \n",
       "486                 NaN                   NaN                 NaN   \n",
       "529                 NaN                   NaN                 NaN   \n",
       "566                 NaN                   NaN                 NaN   \n",
       "637                 NaN                   NaN                 NaN   \n",
       "688                 NaN                   NaN                 NaN   \n",
       "732                 NaN                   NaN                 NaN   \n",
       "758                 NaN                   NaN                 NaN   \n",
       "782                 NaN                   NaN                 NaN   \n",
       "816                 NaN                   NaN                 NaN   \n",
       "817                 NaN                   NaN                 NaN   \n",
       "834                 NaN                   NaN                 NaN   \n",
       "888                 NaN                   NaN                 NaN   \n",
       "962                 NaN                   NaN                 NaN   \n",
       "988                 NaN                   NaN                 NaN   \n",
       "\n",
       "     Preferred_col_red  Preferred_col_white  Preferred_col_yellow  Gender_d  \\\n",
       "61                 NaN                  NaN                   NaN       NaN   \n",
       "67                 NaN                  NaN                   NaN       NaN   \n",
       "101                NaN                  NaN                   NaN       NaN   \n",
       "180                NaN                  NaN                   NaN       NaN   \n",
       "187                NaN                  NaN                   NaN       NaN   \n",
       "270                NaN                  NaN                   NaN       NaN   \n",
       "435                NaN                  NaN                   NaN       NaN   \n",
       "438                NaN                  NaN                   NaN       NaN   \n",
       "448                NaN                  NaN                   NaN       NaN   \n",
       "486                NaN                  NaN                   NaN       NaN   \n",
       "529                NaN                  NaN                   NaN       NaN   \n",
       "566                NaN                  NaN                   NaN       NaN   \n",
       "637                NaN                  NaN                   NaN       NaN   \n",
       "688                NaN                  NaN                   NaN       NaN   \n",
       "732                NaN                  NaN                   NaN       NaN   \n",
       "758                NaN                  NaN                   NaN       NaN   \n",
       "782                NaN                  NaN                   NaN       NaN   \n",
       "816                NaN                  NaN                   NaN       NaN   \n",
       "817                NaN                  NaN                   NaN       NaN   \n",
       "834                NaN                  NaN                   NaN       NaN   \n",
       "888                NaN                  NaN                   NaN       NaN   \n",
       "962                NaN                  NaN                   NaN       NaN   \n",
       "988                NaN                  NaN                   NaN       NaN   \n",
       "\n",
       "     Gender_f  Gender_m  Gender_unknown  \n",
       "61        NaN       NaN             NaN  \n",
       "67        NaN       NaN             NaN  \n",
       "101       NaN       NaN             NaN  \n",
       "180       NaN       NaN             NaN  \n",
       "187       NaN       NaN             NaN  \n",
       "270       NaN       NaN             NaN  \n",
       "435       NaN       NaN             NaN  \n",
       "438       NaN       NaN             NaN  \n",
       "448       NaN       NaN             NaN  \n",
       "486       NaN       NaN             NaN  \n",
       "529       NaN       NaN             NaN  \n",
       "566       NaN       NaN             NaN  \n",
       "637       NaN       NaN             NaN  \n",
       "688       NaN       NaN             NaN  \n",
       "732       NaN       NaN             NaN  \n",
       "758       NaN       NaN             NaN  \n",
       "782       NaN       NaN             NaN  \n",
       "816       NaN       NaN             NaN  \n",
       "817       NaN       NaN             NaN  \n",
       "834       NaN       NaN             NaN  \n",
       "888       NaN       NaN             NaN  \n",
       "962       NaN       NaN             NaN  \n",
       "988       NaN       NaN             NaN  \n",
       "\n",
       "[23 rows x 25 columns]"
      ]
     },
     "execution_count": 10,
     "metadata": {},
     "output_type": "execute_result"
    }
   ],
   "source": [
    "full_data[full_data.isnull().any(1)] #перевіряємо їх"
   ]
  },
  {
   "cell_type": "markdown",
   "metadata": {},
   "source": [
    "Inner JOIN"
   ]
  },
  {
   "cell_type": "code",
   "execution_count": 11,
   "metadata": {},
   "outputs": [],
   "source": [
    "full_data=data_transac.merge(data_customer, on='Customer_id', how='inner')"
   ]
  },
  {
   "cell_type": "code",
   "execution_count": 12,
   "metadata": {
    "scrolled": true
   },
   "outputs": [
    {
     "data": {
      "text/html": [
       "<div>\n",
       "<style scoped>\n",
       "    .dataframe tbody tr th:only-of-type {\n",
       "        vertical-align: middle;\n",
       "    }\n",
       "\n",
       "    .dataframe tbody tr th {\n",
       "        vertical-align: top;\n",
       "    }\n",
       "\n",
       "    .dataframe thead th {\n",
       "        text-align: right;\n",
       "    }\n",
       "</style>\n",
       "<table border=\"1\" class=\"dataframe\">\n",
       "  <thead>\n",
       "    <tr style=\"text-align: right;\">\n",
       "      <th></th>\n",
       "      <th>Dist</th>\n",
       "      <th>payment_t</th>\n",
       "      <th>count_dev_is_shop</th>\n",
       "      <th>basket</th>\n",
       "      <th>product_type</th>\n",
       "      <th>Customer_id</th>\n",
       "      <th>Day_of_week</th>\n",
       "      <th>Fraudulent_trans</th>\n",
       "      <th>age</th>\n",
       "      <th>num_s</th>\n",
       "      <th>...</th>\n",
       "      <th>Preferred_col_grey</th>\n",
       "      <th>Preferred_col_orange</th>\n",
       "      <th>Preferred_col_pink</th>\n",
       "      <th>Preferred_col_red</th>\n",
       "      <th>Preferred_col_white</th>\n",
       "      <th>Preferred_col_yellow</th>\n",
       "      <th>Gender_d</th>\n",
       "      <th>Gender_f</th>\n",
       "      <th>Gender_m</th>\n",
       "      <th>Gender_unknown</th>\n",
       "    </tr>\n",
       "  </thead>\n",
       "  <tbody>\n",
       "    <tr>\n",
       "      <th>0</th>\n",
       "      <td>105.926953</td>\n",
       "      <td>0.0</td>\n",
       "      <td>0.0</td>\n",
       "      <td>46.390320</td>\n",
       "      <td>0</td>\n",
       "      <td>customer_448</td>\n",
       "      <td>5</td>\n",
       "      <td>0.0</td>\n",
       "      <td>35.724517</td>\n",
       "      <td>2</td>\n",
       "      <td>...</td>\n",
       "      <td>0</td>\n",
       "      <td>0</td>\n",
       "      <td>0</td>\n",
       "      <td>0</td>\n",
       "      <td>0</td>\n",
       "      <td>0</td>\n",
       "      <td>0</td>\n",
       "      <td>1</td>\n",
       "      <td>0</td>\n",
       "      <td>0</td>\n",
       "    </tr>\n",
       "    <tr>\n",
       "      <th>1</th>\n",
       "      <td>185.256711</td>\n",
       "      <td>1.0</td>\n",
       "      <td>0.0</td>\n",
       "      <td>60.701211</td>\n",
       "      <td>1</td>\n",
       "      <td>customer_183</td>\n",
       "      <td>0</td>\n",
       "      <td>0.0</td>\n",
       "      <td>17.396979</td>\n",
       "      <td>1</td>\n",
       "      <td>...</td>\n",
       "      <td>0</td>\n",
       "      <td>0</td>\n",
       "      <td>0</td>\n",
       "      <td>0</td>\n",
       "      <td>0</td>\n",
       "      <td>0</td>\n",
       "      <td>0</td>\n",
       "      <td>1</td>\n",
       "      <td>0</td>\n",
       "      <td>0</td>\n",
       "    </tr>\n",
       "    <tr>\n",
       "      <th>2</th>\n",
       "      <td>0.000000</td>\n",
       "      <td>1.0</td>\n",
       "      <td>0.0</td>\n",
       "      <td>114.037251</td>\n",
       "      <td>1</td>\n",
       "      <td>customer_183</td>\n",
       "      <td>5</td>\n",
       "      <td>0.0</td>\n",
       "      <td>17.396979</td>\n",
       "      <td>1</td>\n",
       "      <td>...</td>\n",
       "      <td>0</td>\n",
       "      <td>0</td>\n",
       "      <td>0</td>\n",
       "      <td>0</td>\n",
       "      <td>0</td>\n",
       "      <td>0</td>\n",
       "      <td>0</td>\n",
       "      <td>1</td>\n",
       "      <td>0</td>\n",
       "      <td>0</td>\n",
       "    </tr>\n",
       "    <tr>\n",
       "      <th>3</th>\n",
       "      <td>71.725825</td>\n",
       "      <td>0.0</td>\n",
       "      <td>1.0</td>\n",
       "      <td>79.602869</td>\n",
       "      <td>0</td>\n",
       "      <td>customer_261</td>\n",
       "      <td>2</td>\n",
       "      <td>0.0</td>\n",
       "      <td>37.054879</td>\n",
       "      <td>3</td>\n",
       "      <td>...</td>\n",
       "      <td>0</td>\n",
       "      <td>0</td>\n",
       "      <td>0</td>\n",
       "      <td>0</td>\n",
       "      <td>1</td>\n",
       "      <td>0</td>\n",
       "      <td>0</td>\n",
       "      <td>0</td>\n",
       "      <td>1</td>\n",
       "      <td>0</td>\n",
       "    </tr>\n",
       "    <tr>\n",
       "      <th>4</th>\n",
       "      <td>86.797662</td>\n",
       "      <td>1.0</td>\n",
       "      <td>1.0</td>\n",
       "      <td>155.420436</td>\n",
       "      <td>0</td>\n",
       "      <td>customer_261</td>\n",
       "      <td>6</td>\n",
       "      <td>0.0</td>\n",
       "      <td>37.054879</td>\n",
       "      <td>3</td>\n",
       "      <td>...</td>\n",
       "      <td>0</td>\n",
       "      <td>0</td>\n",
       "      <td>0</td>\n",
       "      <td>0</td>\n",
       "      <td>1</td>\n",
       "      <td>0</td>\n",
       "      <td>0</td>\n",
       "      <td>0</td>\n",
       "      <td>1</td>\n",
       "      <td>0</td>\n",
       "    </tr>\n",
       "  </tbody>\n",
       "</table>\n",
       "<p>5 rows × 25 columns</p>\n",
       "</div>"
      ],
      "text/plain": [
       "         Dist  payment_t  count_dev_is_shop      basket  product_type  \\\n",
       "0  105.926953        0.0                0.0   46.390320             0   \n",
       "1  185.256711        1.0                0.0   60.701211             1   \n",
       "2    0.000000        1.0                0.0  114.037251             1   \n",
       "3   71.725825        0.0                1.0   79.602869             0   \n",
       "4   86.797662        1.0                1.0  155.420436             0   \n",
       "\n",
       "    Customer_id  Day_of_week  Fraudulent_trans        age  num_s  ...  \\\n",
       "0  customer_448            5               0.0  35.724517      2  ...   \n",
       "1  customer_183            0               0.0  17.396979      1  ...   \n",
       "2  customer_183            5               0.0  17.396979      1  ...   \n",
       "3  customer_261            2               0.0  37.054879      3  ...   \n",
       "4  customer_261            6               0.0  37.054879      3  ...   \n",
       "\n",
       "   Preferred_col_grey  Preferred_col_orange  Preferred_col_pink  \\\n",
       "0                   0                     0                   0   \n",
       "1                   0                     0                   0   \n",
       "2                   0                     0                   0   \n",
       "3                   0                     0                   0   \n",
       "4                   0                     0                   0   \n",
       "\n",
       "   Preferred_col_red  Preferred_col_white  Preferred_col_yellow  Gender_d  \\\n",
       "0                  0                    0                     0         0   \n",
       "1                  0                    0                     0         0   \n",
       "2                  0                    0                     0         0   \n",
       "3                  0                    1                     0         0   \n",
       "4                  0                    1                     0         0   \n",
       "\n",
       "   Gender_f  Gender_m  Gender_unknown  \n",
       "0         1         0               0  \n",
       "1         1         0               0  \n",
       "2         1         0               0  \n",
       "3         0         1               0  \n",
       "4         0         1               0  \n",
       "\n",
       "[5 rows x 25 columns]"
      ]
     },
     "execution_count": 12,
     "metadata": {},
     "output_type": "execute_result"
    }
   ],
   "source": [
    "full_data.head()"
   ]
  },
  {
   "cell_type": "code",
   "execution_count": 13,
   "metadata": {},
   "outputs": [
    {
     "data": {
      "text/html": [
       "<div>\n",
       "<style scoped>\n",
       "    .dataframe tbody tr th:only-of-type {\n",
       "        vertical-align: middle;\n",
       "    }\n",
       "\n",
       "    .dataframe tbody tr th {\n",
       "        vertical-align: top;\n",
       "    }\n",
       "\n",
       "    .dataframe thead th {\n",
       "        text-align: right;\n",
       "    }\n",
       "</style>\n",
       "<table border=\"1\" class=\"dataframe\">\n",
       "  <thead>\n",
       "    <tr style=\"text-align: right;\">\n",
       "      <th></th>\n",
       "      <th>Customer_id</th>\n",
       "      <th>Fraudulent_trans</th>\n",
       "    </tr>\n",
       "  </thead>\n",
       "  <tbody>\n",
       "    <tr>\n",
       "      <th>1</th>\n",
       "      <td>customer_183</td>\n",
       "      <td>0.0</td>\n",
       "    </tr>\n",
       "    <tr>\n",
       "      <th>3</th>\n",
       "      <td>customer_261</td>\n",
       "      <td>0.0</td>\n",
       "    </tr>\n",
       "    <tr>\n",
       "      <th>4</th>\n",
       "      <td>customer_261</td>\n",
       "      <td>0.0</td>\n",
       "    </tr>\n",
       "    <tr>\n",
       "      <th>6</th>\n",
       "      <td>customer_413</td>\n",
       "      <td>0.0</td>\n",
       "    </tr>\n",
       "    <tr>\n",
       "      <th>8</th>\n",
       "      <td>customer_507</td>\n",
       "      <td>0.0</td>\n",
       "    </tr>\n",
       "    <tr>\n",
       "      <th>...</th>\n",
       "      <td>...</td>\n",
       "      <td>...</td>\n",
       "    </tr>\n",
       "    <tr>\n",
       "      <th>949</th>\n",
       "      <td>customer_68</td>\n",
       "      <td>0.0</td>\n",
       "    </tr>\n",
       "    <tr>\n",
       "      <th>951</th>\n",
       "      <td>customer_361</td>\n",
       "      <td>0.0</td>\n",
       "    </tr>\n",
       "    <tr>\n",
       "      <th>956</th>\n",
       "      <td>customer_350</td>\n",
       "      <td>0.0</td>\n",
       "    </tr>\n",
       "    <tr>\n",
       "      <th>963</th>\n",
       "      <td>customer_112</td>\n",
       "      <td>0.0</td>\n",
       "    </tr>\n",
       "    <tr>\n",
       "      <th>970</th>\n",
       "      <td>customer_372</td>\n",
       "      <td>0.0</td>\n",
       "    </tr>\n",
       "  </tbody>\n",
       "</table>\n",
       "<p>443 rows × 2 columns</p>\n",
       "</div>"
      ],
      "text/plain": [
       "      Customer_id  Fraudulent_trans\n",
       "1    customer_183               0.0\n",
       "3    customer_261               0.0\n",
       "4    customer_261               0.0\n",
       "6    customer_413               0.0\n",
       "8    customer_507               0.0\n",
       "..            ...               ...\n",
       "949   customer_68               0.0\n",
       "951  customer_361               0.0\n",
       "956  customer_350               0.0\n",
       "963  customer_112               0.0\n",
       "970  customer_372               0.0\n",
       "\n",
       "[443 rows x 2 columns]"
      ]
     },
     "execution_count": 13,
     "metadata": {},
     "output_type": "execute_result"
    }
   ],
   "source": [
    "dupl = full_data[[\"Customer_id\", \"Fraudulent_trans\"]]\n",
    "#duplicateRows = dupl[dupl.duplicated(['Customer_id', 'Fraudulent_trans'])] #проверка на дубликаты\n",
    "duplicateRows = dupl[dupl.duplicated(keep='last')] # вся таблица\n",
    "duplicateRows"
   ]
  },
  {
   "cell_type": "code",
   "execution_count": 14,
   "metadata": {},
   "outputs": [
    {
     "data": {
      "text/html": [
       "<div>\n",
       "<style scoped>\n",
       "    .dataframe tbody tr th:only-of-type {\n",
       "        vertical-align: middle;\n",
       "    }\n",
       "\n",
       "    .dataframe tbody tr th {\n",
       "        vertical-align: top;\n",
       "    }\n",
       "\n",
       "    .dataframe thead th {\n",
       "        text-align: right;\n",
       "    }\n",
       "</style>\n",
       "<table border=\"1\" class=\"dataframe\">\n",
       "  <thead>\n",
       "    <tr style=\"text-align: right;\">\n",
       "      <th></th>\n",
       "      <th>Dist</th>\n",
       "      <th>payment_t</th>\n",
       "      <th>count_dev_is_shop</th>\n",
       "      <th>basket</th>\n",
       "      <th>product_type</th>\n",
       "      <th>Day_of_week</th>\n",
       "      <th>Fraudulent_trans</th>\n",
       "      <th>age</th>\n",
       "      <th>num_s</th>\n",
       "      <th>num_dev</th>\n",
       "      <th>...</th>\n",
       "      <th>Preferred_col_grey</th>\n",
       "      <th>Preferred_col_orange</th>\n",
       "      <th>Preferred_col_pink</th>\n",
       "      <th>Preferred_col_red</th>\n",
       "      <th>Preferred_col_white</th>\n",
       "      <th>Preferred_col_yellow</th>\n",
       "      <th>Gender_d</th>\n",
       "      <th>Gender_f</th>\n",
       "      <th>Gender_m</th>\n",
       "      <th>Gender_unknown</th>\n",
       "    </tr>\n",
       "  </thead>\n",
       "  <tbody>\n",
       "    <tr>\n",
       "      <th>count</th>\n",
       "      <td>856.000000</td>\n",
       "      <td>856.000000</td>\n",
       "      <td>856.000000</td>\n",
       "      <td>856.000000</td>\n",
       "      <td>856.000000</td>\n",
       "      <td>856.000000</td>\n",
       "      <td>856.0</td>\n",
       "      <td>856.000000</td>\n",
       "      <td>856.000000</td>\n",
       "      <td>856.000000</td>\n",
       "      <td>...</td>\n",
       "      <td>856.000000</td>\n",
       "      <td>856.000000</td>\n",
       "      <td>856.000000</td>\n",
       "      <td>856.000000</td>\n",
       "      <td>856.000000</td>\n",
       "      <td>856.000000</td>\n",
       "      <td>856.000000</td>\n",
       "      <td>856.000000</td>\n",
       "      <td>856.000000</td>\n",
       "      <td>856.000000</td>\n",
       "    </tr>\n",
       "    <tr>\n",
       "      <th>mean</th>\n",
       "      <td>35.111419</td>\n",
       "      <td>0.573598</td>\n",
       "      <td>0.051402</td>\n",
       "      <td>101.557438</td>\n",
       "      <td>1.017523</td>\n",
       "      <td>2.646028</td>\n",
       "      <td>0.0</td>\n",
       "      <td>35.259406</td>\n",
       "      <td>1.613318</td>\n",
       "      <td>3.627336</td>\n",
       "      <td>...</td>\n",
       "      <td>0.108645</td>\n",
       "      <td>0.112150</td>\n",
       "      <td>0.088785</td>\n",
       "      <td>0.099299</td>\n",
       "      <td>0.096963</td>\n",
       "      <td>0.119159</td>\n",
       "      <td>0.088785</td>\n",
       "      <td>0.489486</td>\n",
       "      <td>0.323598</td>\n",
       "      <td>0.098131</td>\n",
       "    </tr>\n",
       "    <tr>\n",
       "      <th>std</th>\n",
       "      <td>64.908882</td>\n",
       "      <td>0.494843</td>\n",
       "      <td>0.220945</td>\n",
       "      <td>89.876044</td>\n",
       "      <td>0.815592</td>\n",
       "      <td>2.359935</td>\n",
       "      <td>0.0</td>\n",
       "      <td>11.365614</td>\n",
       "      <td>1.612455</td>\n",
       "      <td>1.343000</td>\n",
       "      <td>...</td>\n",
       "      <td>0.311375</td>\n",
       "      <td>0.315735</td>\n",
       "      <td>0.284600</td>\n",
       "      <td>0.299238</td>\n",
       "      <td>0.296080</td>\n",
       "      <td>0.324165</td>\n",
       "      <td>0.284600</td>\n",
       "      <td>0.500182</td>\n",
       "      <td>0.468122</td>\n",
       "      <td>0.297665</td>\n",
       "    </tr>\n",
       "    <tr>\n",
       "      <th>min</th>\n",
       "      <td>0.000000</td>\n",
       "      <td>0.000000</td>\n",
       "      <td>0.000000</td>\n",
       "      <td>24.022646</td>\n",
       "      <td>0.000000</td>\n",
       "      <td>0.000000</td>\n",
       "      <td>0.0</td>\n",
       "      <td>0.464860</td>\n",
       "      <td>0.000000</td>\n",
       "      <td>2.000000</td>\n",
       "      <td>...</td>\n",
       "      <td>0.000000</td>\n",
       "      <td>0.000000</td>\n",
       "      <td>0.000000</td>\n",
       "      <td>0.000000</td>\n",
       "      <td>0.000000</td>\n",
       "      <td>0.000000</td>\n",
       "      <td>0.000000</td>\n",
       "      <td>0.000000</td>\n",
       "      <td>0.000000</td>\n",
       "      <td>0.000000</td>\n",
       "    </tr>\n",
       "    <tr>\n",
       "      <th>25%</th>\n",
       "      <td>0.000000</td>\n",
       "      <td>0.000000</td>\n",
       "      <td>0.000000</td>\n",
       "      <td>50.818905</td>\n",
       "      <td>0.000000</td>\n",
       "      <td>0.000000</td>\n",
       "      <td>0.0</td>\n",
       "      <td>29.850369</td>\n",
       "      <td>0.000000</td>\n",
       "      <td>3.000000</td>\n",
       "      <td>...</td>\n",
       "      <td>0.000000</td>\n",
       "      <td>0.000000</td>\n",
       "      <td>0.000000</td>\n",
       "      <td>0.000000</td>\n",
       "      <td>0.000000</td>\n",
       "      <td>0.000000</td>\n",
       "      <td>0.000000</td>\n",
       "      <td>0.000000</td>\n",
       "      <td>0.000000</td>\n",
       "      <td>0.000000</td>\n",
       "    </tr>\n",
       "    <tr>\n",
       "      <th>50%</th>\n",
       "      <td>0.000000</td>\n",
       "      <td>1.000000</td>\n",
       "      <td>0.000000</td>\n",
       "      <td>78.102659</td>\n",
       "      <td>1.000000</td>\n",
       "      <td>2.000000</td>\n",
       "      <td>0.0</td>\n",
       "      <td>38.300640</td>\n",
       "      <td>1.000000</td>\n",
       "      <td>4.000000</td>\n",
       "      <td>...</td>\n",
       "      <td>0.000000</td>\n",
       "      <td>0.000000</td>\n",
       "      <td>0.000000</td>\n",
       "      <td>0.000000</td>\n",
       "      <td>0.000000</td>\n",
       "      <td>0.000000</td>\n",
       "      <td>0.000000</td>\n",
       "      <td>0.000000</td>\n",
       "      <td>0.000000</td>\n",
       "      <td>0.000000</td>\n",
       "    </tr>\n",
       "    <tr>\n",
       "      <th>75%</th>\n",
       "      <td>48.643786</td>\n",
       "      <td>1.000000</td>\n",
       "      <td>0.000000</td>\n",
       "      <td>122.557635</td>\n",
       "      <td>2.000000</td>\n",
       "      <td>5.000000</td>\n",
       "      <td>0.0</td>\n",
       "      <td>44.644014</td>\n",
       "      <td>3.000000</td>\n",
       "      <td>4.000000</td>\n",
       "      <td>...</td>\n",
       "      <td>0.000000</td>\n",
       "      <td>0.000000</td>\n",
       "      <td>0.000000</td>\n",
       "      <td>0.000000</td>\n",
       "      <td>0.000000</td>\n",
       "      <td>0.000000</td>\n",
       "      <td>0.000000</td>\n",
       "      <td>1.000000</td>\n",
       "      <td>1.000000</td>\n",
       "      <td>0.000000</td>\n",
       "    </tr>\n",
       "    <tr>\n",
       "      <th>max</th>\n",
       "      <td>507.146572</td>\n",
       "      <td>1.000000</td>\n",
       "      <td>1.000000</td>\n",
       "      <td>1406.004465</td>\n",
       "      <td>2.000000</td>\n",
       "      <td>6.000000</td>\n",
       "      <td>0.0</td>\n",
       "      <td>47.914771</td>\n",
       "      <td>11.000000</td>\n",
       "      <td>10.000000</td>\n",
       "      <td>...</td>\n",
       "      <td>1.000000</td>\n",
       "      <td>1.000000</td>\n",
       "      <td>1.000000</td>\n",
       "      <td>1.000000</td>\n",
       "      <td>1.000000</td>\n",
       "      <td>1.000000</td>\n",
       "      <td>1.000000</td>\n",
       "      <td>1.000000</td>\n",
       "      <td>1.000000</td>\n",
       "      <td>1.000000</td>\n",
       "    </tr>\n",
       "  </tbody>\n",
       "</table>\n",
       "<p>8 rows × 24 columns</p>\n",
       "</div>"
      ],
      "text/plain": [
       "             Dist   payment_t  count_dev_is_shop       basket  product_type  \\\n",
       "count  856.000000  856.000000         856.000000   856.000000    856.000000   \n",
       "mean    35.111419    0.573598           0.051402   101.557438      1.017523   \n",
       "std     64.908882    0.494843           0.220945    89.876044      0.815592   \n",
       "min      0.000000    0.000000           0.000000    24.022646      0.000000   \n",
       "25%      0.000000    0.000000           0.000000    50.818905      0.000000   \n",
       "50%      0.000000    1.000000           0.000000    78.102659      1.000000   \n",
       "75%     48.643786    1.000000           0.000000   122.557635      2.000000   \n",
       "max    507.146572    1.000000           1.000000  1406.004465      2.000000   \n",
       "\n",
       "       Day_of_week  Fraudulent_trans         age       num_s     num_dev  ...  \\\n",
       "count   856.000000             856.0  856.000000  856.000000  856.000000  ...   \n",
       "mean      2.646028               0.0   35.259406    1.613318    3.627336  ...   \n",
       "std       2.359935               0.0   11.365614    1.612455    1.343000  ...   \n",
       "min       0.000000               0.0    0.464860    0.000000    2.000000  ...   \n",
       "25%       0.000000               0.0   29.850369    0.000000    3.000000  ...   \n",
       "50%       2.000000               0.0   38.300640    1.000000    4.000000  ...   \n",
       "75%       5.000000               0.0   44.644014    3.000000    4.000000  ...   \n",
       "max       6.000000               0.0   47.914771   11.000000   10.000000  ...   \n",
       "\n",
       "       Preferred_col_grey  Preferred_col_orange  Preferred_col_pink  \\\n",
       "count          856.000000            856.000000          856.000000   \n",
       "mean             0.108645              0.112150            0.088785   \n",
       "std              0.311375              0.315735            0.284600   \n",
       "min              0.000000              0.000000            0.000000   \n",
       "25%              0.000000              0.000000            0.000000   \n",
       "50%              0.000000              0.000000            0.000000   \n",
       "75%              0.000000              0.000000            0.000000   \n",
       "max              1.000000              1.000000            1.000000   \n",
       "\n",
       "       Preferred_col_red  Preferred_col_white  Preferred_col_yellow  \\\n",
       "count         856.000000           856.000000            856.000000   \n",
       "mean            0.099299             0.096963              0.119159   \n",
       "std             0.299238             0.296080              0.324165   \n",
       "min             0.000000             0.000000              0.000000   \n",
       "25%             0.000000             0.000000              0.000000   \n",
       "50%             0.000000             0.000000              0.000000   \n",
       "75%             0.000000             0.000000              0.000000   \n",
       "max             1.000000             1.000000              1.000000   \n",
       "\n",
       "         Gender_d    Gender_f    Gender_m  Gender_unknown  \n",
       "count  856.000000  856.000000  856.000000      856.000000  \n",
       "mean     0.088785    0.489486    0.323598        0.098131  \n",
       "std      0.284600    0.500182    0.468122        0.297665  \n",
       "min      0.000000    0.000000    0.000000        0.000000  \n",
       "25%      0.000000    0.000000    0.000000        0.000000  \n",
       "50%      0.000000    0.000000    0.000000        0.000000  \n",
       "75%      0.000000    1.000000    1.000000        0.000000  \n",
       "max      1.000000    1.000000    1.000000        1.000000  \n",
       "\n",
       "[8 rows x 24 columns]"
      ]
     },
     "execution_count": 14,
     "metadata": {},
     "output_type": "execute_result"
    }
   ],
   "source": [
    "NFrau=full_data[(full_data['Fraudulent_trans']==0)]\n",
    "NFrau.describe()"
   ]
  },
  {
   "cell_type": "code",
   "execution_count": 15,
   "metadata": {
    "scrolled": true
   },
   "outputs": [
    {
     "data": {
      "text/html": [
       "<div>\n",
       "<style scoped>\n",
       "    .dataframe tbody tr th:only-of-type {\n",
       "        vertical-align: middle;\n",
       "    }\n",
       "\n",
       "    .dataframe tbody tr th {\n",
       "        vertical-align: top;\n",
       "    }\n",
       "\n",
       "    .dataframe thead th {\n",
       "        text-align: right;\n",
       "    }\n",
       "</style>\n",
       "<table border=\"1\" class=\"dataframe\">\n",
       "  <thead>\n",
       "    <tr style=\"text-align: right;\">\n",
       "      <th></th>\n",
       "      <th>Dist</th>\n",
       "      <th>payment_t</th>\n",
       "      <th>count_dev_is_shop</th>\n",
       "      <th>basket</th>\n",
       "      <th>product_type</th>\n",
       "      <th>Day_of_week</th>\n",
       "      <th>Fraudulent_trans</th>\n",
       "      <th>age</th>\n",
       "      <th>num_s</th>\n",
       "      <th>num_dev</th>\n",
       "      <th>...</th>\n",
       "      <th>Preferred_col_grey</th>\n",
       "      <th>Preferred_col_orange</th>\n",
       "      <th>Preferred_col_pink</th>\n",
       "      <th>Preferred_col_red</th>\n",
       "      <th>Preferred_col_white</th>\n",
       "      <th>Preferred_col_yellow</th>\n",
       "      <th>Gender_d</th>\n",
       "      <th>Gender_f</th>\n",
       "      <th>Gender_m</th>\n",
       "      <th>Gender_unknown</th>\n",
       "    </tr>\n",
       "  </thead>\n",
       "  <tbody>\n",
       "    <tr>\n",
       "      <th>count</th>\n",
       "      <td>121.000000</td>\n",
       "      <td>121.000000</td>\n",
       "      <td>121.000000</td>\n",
       "      <td>121.000000</td>\n",
       "      <td>121.000000</td>\n",
       "      <td>121.000000</td>\n",
       "      <td>121.0</td>\n",
       "      <td>121.000000</td>\n",
       "      <td>121.000000</td>\n",
       "      <td>121.000000</td>\n",
       "      <td>...</td>\n",
       "      <td>121.000000</td>\n",
       "      <td>121.00000</td>\n",
       "      <td>121.000000</td>\n",
       "      <td>121.000000</td>\n",
       "      <td>121.00000</td>\n",
       "      <td>121.000000</td>\n",
       "      <td>121.000000</td>\n",
       "      <td>121.000000</td>\n",
       "      <td>121.000000</td>\n",
       "      <td>121.000000</td>\n",
       "    </tr>\n",
       "    <tr>\n",
       "      <th>mean</th>\n",
       "      <td>111.618110</td>\n",
       "      <td>0.776860</td>\n",
       "      <td>0.578512</td>\n",
       "      <td>157.964043</td>\n",
       "      <td>0.958678</td>\n",
       "      <td>2.297521</td>\n",
       "      <td>1.0</td>\n",
       "      <td>33.173543</td>\n",
       "      <td>2.727273</td>\n",
       "      <td>4.446281</td>\n",
       "      <td>...</td>\n",
       "      <td>0.099174</td>\n",
       "      <td>0.07438</td>\n",
       "      <td>0.107438</td>\n",
       "      <td>0.090909</td>\n",
       "      <td>0.07438</td>\n",
       "      <td>0.132231</td>\n",
       "      <td>0.057851</td>\n",
       "      <td>0.528926</td>\n",
       "      <td>0.280992</td>\n",
       "      <td>0.132231</td>\n",
       "    </tr>\n",
       "    <tr>\n",
       "      <th>std</th>\n",
       "      <td>120.112744</td>\n",
       "      <td>0.418083</td>\n",
       "      <td>0.495851</td>\n",
       "      <td>112.530299</td>\n",
       "      <td>0.768079</td>\n",
       "      <td>2.238469</td>\n",
       "      <td>0.0</td>\n",
       "      <td>13.372837</td>\n",
       "      <td>1.746425</td>\n",
       "      <td>1.466006</td>\n",
       "      <td>...</td>\n",
       "      <td>0.300138</td>\n",
       "      <td>0.26348</td>\n",
       "      <td>0.310957</td>\n",
       "      <td>0.288675</td>\n",
       "      <td>0.26348</td>\n",
       "      <td>0.340151</td>\n",
       "      <td>0.234433</td>\n",
       "      <td>0.501238</td>\n",
       "      <td>0.451352</td>\n",
       "      <td>0.340151</td>\n",
       "    </tr>\n",
       "    <tr>\n",
       "      <th>min</th>\n",
       "      <td>0.000000</td>\n",
       "      <td>0.000000</td>\n",
       "      <td>0.000000</td>\n",
       "      <td>24.820839</td>\n",
       "      <td>0.000000</td>\n",
       "      <td>0.000000</td>\n",
       "      <td>1.0</td>\n",
       "      <td>0.032075</td>\n",
       "      <td>0.000000</td>\n",
       "      <td>2.000000</td>\n",
       "      <td>...</td>\n",
       "      <td>0.000000</td>\n",
       "      <td>0.00000</td>\n",
       "      <td>0.000000</td>\n",
       "      <td>0.000000</td>\n",
       "      <td>0.00000</td>\n",
       "      <td>0.000000</td>\n",
       "      <td>0.000000</td>\n",
       "      <td>0.000000</td>\n",
       "      <td>0.000000</td>\n",
       "      <td>0.000000</td>\n",
       "    </tr>\n",
       "    <tr>\n",
       "      <th>25%</th>\n",
       "      <td>0.000000</td>\n",
       "      <td>1.000000</td>\n",
       "      <td>0.000000</td>\n",
       "      <td>77.026904</td>\n",
       "      <td>0.000000</td>\n",
       "      <td>0.000000</td>\n",
       "      <td>1.0</td>\n",
       "      <td>25.040922</td>\n",
       "      <td>1.000000</td>\n",
       "      <td>4.000000</td>\n",
       "      <td>...</td>\n",
       "      <td>0.000000</td>\n",
       "      <td>0.00000</td>\n",
       "      <td>0.000000</td>\n",
       "      <td>0.000000</td>\n",
       "      <td>0.00000</td>\n",
       "      <td>0.000000</td>\n",
       "      <td>0.000000</td>\n",
       "      <td>0.000000</td>\n",
       "      <td>0.000000</td>\n",
       "      <td>0.000000</td>\n",
       "    </tr>\n",
       "    <tr>\n",
       "      <th>50%</th>\n",
       "      <td>87.447677</td>\n",
       "      <td>1.000000</td>\n",
       "      <td>1.000000</td>\n",
       "      <td>153.512484</td>\n",
       "      <td>1.000000</td>\n",
       "      <td>2.000000</td>\n",
       "      <td>1.0</td>\n",
       "      <td>37.699140</td>\n",
       "      <td>3.000000</td>\n",
       "      <td>5.000000</td>\n",
       "      <td>...</td>\n",
       "      <td>0.000000</td>\n",
       "      <td>0.00000</td>\n",
       "      <td>0.000000</td>\n",
       "      <td>0.000000</td>\n",
       "      <td>0.00000</td>\n",
       "      <td>0.000000</td>\n",
       "      <td>0.000000</td>\n",
       "      <td>1.000000</td>\n",
       "      <td>0.000000</td>\n",
       "      <td>0.000000</td>\n",
       "    </tr>\n",
       "    <tr>\n",
       "      <th>75%</th>\n",
       "      <td>156.107310</td>\n",
       "      <td>1.000000</td>\n",
       "      <td>1.000000</td>\n",
       "      <td>189.967475</td>\n",
       "      <td>2.000000</td>\n",
       "      <td>4.000000</td>\n",
       "      <td>1.0</td>\n",
       "      <td>43.968090</td>\n",
       "      <td>4.000000</td>\n",
       "      <td>5.000000</td>\n",
       "      <td>...</td>\n",
       "      <td>0.000000</td>\n",
       "      <td>0.00000</td>\n",
       "      <td>0.000000</td>\n",
       "      <td>0.000000</td>\n",
       "      <td>0.00000</td>\n",
       "      <td>0.000000</td>\n",
       "      <td>0.000000</td>\n",
       "      <td>1.000000</td>\n",
       "      <td>1.000000</td>\n",
       "      <td>0.000000</td>\n",
       "    </tr>\n",
       "    <tr>\n",
       "      <th>max</th>\n",
       "      <td>543.151902</td>\n",
       "      <td>1.000000</td>\n",
       "      <td>1.000000</td>\n",
       "      <td>808.495981</td>\n",
       "      <td>2.000000</td>\n",
       "      <td>6.000000</td>\n",
       "      <td>1.0</td>\n",
       "      <td>47.914771</td>\n",
       "      <td>7.000000</td>\n",
       "      <td>8.000000</td>\n",
       "      <td>...</td>\n",
       "      <td>1.000000</td>\n",
       "      <td>1.00000</td>\n",
       "      <td>1.000000</td>\n",
       "      <td>1.000000</td>\n",
       "      <td>1.00000</td>\n",
       "      <td>1.000000</td>\n",
       "      <td>1.000000</td>\n",
       "      <td>1.000000</td>\n",
       "      <td>1.000000</td>\n",
       "      <td>1.000000</td>\n",
       "    </tr>\n",
       "  </tbody>\n",
       "</table>\n",
       "<p>8 rows × 24 columns</p>\n",
       "</div>"
      ],
      "text/plain": [
       "             Dist   payment_t  count_dev_is_shop      basket  product_type  \\\n",
       "count  121.000000  121.000000         121.000000  121.000000    121.000000   \n",
       "mean   111.618110    0.776860           0.578512  157.964043      0.958678   \n",
       "std    120.112744    0.418083           0.495851  112.530299      0.768079   \n",
       "min      0.000000    0.000000           0.000000   24.820839      0.000000   \n",
       "25%      0.000000    1.000000           0.000000   77.026904      0.000000   \n",
       "50%     87.447677    1.000000           1.000000  153.512484      1.000000   \n",
       "75%    156.107310    1.000000           1.000000  189.967475      2.000000   \n",
       "max    543.151902    1.000000           1.000000  808.495981      2.000000   \n",
       "\n",
       "       Day_of_week  Fraudulent_trans         age       num_s     num_dev  ...  \\\n",
       "count   121.000000             121.0  121.000000  121.000000  121.000000  ...   \n",
       "mean      2.297521               1.0   33.173543    2.727273    4.446281  ...   \n",
       "std       2.238469               0.0   13.372837    1.746425    1.466006  ...   \n",
       "min       0.000000               1.0    0.032075    0.000000    2.000000  ...   \n",
       "25%       0.000000               1.0   25.040922    1.000000    4.000000  ...   \n",
       "50%       2.000000               1.0   37.699140    3.000000    5.000000  ...   \n",
       "75%       4.000000               1.0   43.968090    4.000000    5.000000  ...   \n",
       "max       6.000000               1.0   47.914771    7.000000    8.000000  ...   \n",
       "\n",
       "       Preferred_col_grey  Preferred_col_orange  Preferred_col_pink  \\\n",
       "count          121.000000             121.00000          121.000000   \n",
       "mean             0.099174               0.07438            0.107438   \n",
       "std              0.300138               0.26348            0.310957   \n",
       "min              0.000000               0.00000            0.000000   \n",
       "25%              0.000000               0.00000            0.000000   \n",
       "50%              0.000000               0.00000            0.000000   \n",
       "75%              0.000000               0.00000            0.000000   \n",
       "max              1.000000               1.00000            1.000000   \n",
       "\n",
       "       Preferred_col_red  Preferred_col_white  Preferred_col_yellow  \\\n",
       "count         121.000000            121.00000            121.000000   \n",
       "mean            0.090909              0.07438              0.132231   \n",
       "std             0.288675              0.26348              0.340151   \n",
       "min             0.000000              0.00000              0.000000   \n",
       "25%             0.000000              0.00000              0.000000   \n",
       "50%             0.000000              0.00000              0.000000   \n",
       "75%             0.000000              0.00000              0.000000   \n",
       "max             1.000000              1.00000              1.000000   \n",
       "\n",
       "         Gender_d    Gender_f    Gender_m  Gender_unknown  \n",
       "count  121.000000  121.000000  121.000000      121.000000  \n",
       "mean     0.057851    0.528926    0.280992        0.132231  \n",
       "std      0.234433    0.501238    0.451352        0.340151  \n",
       "min      0.000000    0.000000    0.000000        0.000000  \n",
       "25%      0.000000    0.000000    0.000000        0.000000  \n",
       "50%      0.000000    1.000000    0.000000        0.000000  \n",
       "75%      0.000000    1.000000    1.000000        0.000000  \n",
       "max      1.000000    1.000000    1.000000        1.000000  \n",
       "\n",
       "[8 rows x 24 columns]"
      ]
     },
     "execution_count": 15,
     "metadata": {},
     "output_type": "execute_result"
    }
   ],
   "source": [
    "Fraud=full_data[(full_data['Fraudulent_trans']==1)]\n",
    "Fraud.describe()"
   ]
  },
  {
   "cell_type": "code",
   "execution_count": 16,
   "metadata": {},
   "outputs": [
    {
     "data": {
      "text/plain": [
       "856"
      ]
     },
     "execution_count": 16,
     "metadata": {},
     "output_type": "execute_result"
    }
   ],
   "source": [
    "NFrau['Dist'].count()"
   ]
  },
  {
   "cell_type": "code",
   "execution_count": 17,
   "metadata": {},
   "outputs": [
    {
     "data": {
      "text/plain": [
       "6.591446774254829e-12"
      ]
     },
     "execution_count": 17,
     "metadata": {},
     "output_type": "execute_result"
    }
   ],
   "source": [
    "#застосуємо Вальд тести для зміних\n",
    "s=np.sqrt(NFrau['Dist'].var()/NFrau['Dist'].count()+Fraud['Dist'].var()/Fraud['Dist'].count())\n",
    "d=NFrau['Dist'].mean()-Fraud['Dist'].mean()\n",
    "W=d/np.sqrt(NFrau['Dist'].var()/NFrau['Dist'].count()+Fraud['Dist'].var()/Fraud['Dist'].count())\n",
    "p=2*stats.norm.cdf(-np.abs(W))\n",
    "p #різниця між сред у змінній є"
   ]
  },
  {
   "cell_type": "code",
   "execution_count": 18,
   "metadata": {},
   "outputs": [
    {
     "data": {
      "text/plain": [
       "1.029137237559469e-06"
      ]
     },
     "execution_count": 18,
     "metadata": {},
     "output_type": "execute_result"
    }
   ],
   "source": [
    "#застосуємо Вальд тести для зміних\n",
    "s=np.sqrt(NFrau['payment_t'].var()/NFrau['payment_t'].count()+Fraud['payment_t'].var()/Fraud['payment_t'].count())\n",
    "d=NFrau['payment_t'].mean()-Fraud['payment_t'].mean()\n",
    "W=d/np.sqrt(NFrau['payment_t'].var()/NFrau['payment_t'].count()+Fraud['payment_t'].var()/Fraud['payment_t'].count())\n",
    "p=2*stats.norm.cdf(-np.abs(W))\n",
    "p #різниця між сред у змінній є"
   ]
  },
  {
   "cell_type": "code",
   "execution_count": 19,
   "metadata": {},
   "outputs": [
    {
     "data": {
      "text/plain": [
       "9.020895415742054e-31"
      ]
     },
     "execution_count": 19,
     "metadata": {},
     "output_type": "execute_result"
    }
   ],
   "source": [
    "#застосуємо Вальд тести для зміних\n",
    "s=np.sqrt(NFrau['count_dev_is_shop'].var()/NFrau['count_dev_is_shop'].count()+Fraud['count_dev_is_shop'].var()/Fraud['count_dev_is_shop'].count())\n",
    "d=NFrau['count_dev_is_shop'].mean()-Fraud['count_dev_is_shop'].mean()\n",
    "W=d/np.sqrt(NFrau['count_dev_is_shop'].var()/NFrau['count_dev_is_shop'].count()+Fraud['count_dev_is_shop'].var()/Fraud['count_dev_is_shop'].count())\n",
    "p=2*stats.norm.cdf(-np.abs(W))\n",
    "p #різниця між сред у змінній є\n"
   ]
  },
  {
   "cell_type": "code",
   "execution_count": 20,
   "metadata": {},
   "outputs": [
    {
     "data": {
      "text/plain": [
       "1.2856642929454343e-07"
      ]
     },
     "execution_count": 20,
     "metadata": {},
     "output_type": "execute_result"
    }
   ],
   "source": [
    "#застосуємо Вальд тести для зміних\n",
    "s=np.sqrt(NFrau['basket'].var()/NFrau['basket'].count()+Fraud['basket'].var()/Fraud['basket'].count())\n",
    "d=NFrau['basket'].mean()-Fraud['basket'].mean()\n",
    "W=d/np.sqrt(NFrau['basket'].var()/NFrau['basket'].count()+Fraud['basket'].var()/Fraud['basket'].count())\n",
    "p=2*stats.norm.cdf(-np.abs(W))\n",
    "p #різниця між сред у змінній є"
   ]
  },
  {
   "cell_type": "code",
   "execution_count": 21,
   "metadata": {},
   "outputs": [
    {
     "data": {
      "text/plain": [
       "0.43381125696425693"
      ]
     },
     "execution_count": 21,
     "metadata": {},
     "output_type": "execute_result"
    }
   ],
   "source": [
    "#застосуємо Вальд тести для зміних\n",
    "s=np.sqrt(NFrau['product_type'].var()/NFrau['product_type'].count()+Fraud['product_type'].var()/Fraud['product_type'].count())\n",
    "d=NFrau['product_type'].mean()-Fraud['product_type'].mean()\n",
    "W=d/np.sqrt(NFrau['product_type'].var()/NFrau['product_type'].count()+Fraud['product_type'].var()/Fraud['product_type'].count())\n",
    "p=2*stats.norm.cdf(-np.abs(W))\n",
    "p #приймаємо Гіпотезу НО"
   ]
  },
  {
   "cell_type": "code",
   "execution_count": 22,
   "metadata": {},
   "outputs": [
    {
     "data": {
      "text/plain": [
       "0.11136593870222139"
      ]
     },
     "execution_count": 22,
     "metadata": {},
     "output_type": "execute_result"
    }
   ],
   "source": [
    "#застосуємо Вальд тести для зміних\n",
    "s=np.sqrt(NFrau['Day_of_week'].var()/NFrau['Day_of_week'].count()+Fraud['Day_of_week'].var()/Fraud['Day_of_week'].count())\n",
    "d=NFrau['Day_of_week'].mean()-Fraud['Day_of_week'].mean()\n",
    "W=d/np.sqrt(NFrau['Day_of_week'].var()/NFrau['Day_of_week'].count()+Fraud['Day_of_week'].var()/Fraud['Day_of_week'].count())\n",
    "p=2*stats.norm.cdf(-np.abs(W))\n",
    "p #приймаємо Гіпотезу НО"
   ]
  },
  {
   "cell_type": "code",
   "execution_count": 23,
   "metadata": {},
   "outputs": [
    {
     "data": {
      "text/plain": [
       "0.10218678068334094"
      ]
     },
     "execution_count": 23,
     "metadata": {},
     "output_type": "execute_result"
    }
   ],
   "source": [
    "#застосуємо Вальд тести для зміних\n",
    "s=np.sqrt(NFrau['age'].var()/NFrau['age'].count()+Fraud['age'].var()/Fraud['age'].count())\n",
    "d=NFrau['age'].mean()-Fraud['age'].mean()\n",
    "W=d/np.sqrt(NFrau['age'].var()/NFrau['age'].count()+Fraud['age'].var()/Fraud['age'].count())\n",
    "p=2*stats.norm.cdf(-np.abs(W))\n",
    "p #приймаємо Гіпотезу НО"
   ]
  },
  {
   "cell_type": "code",
   "execution_count": 24,
   "metadata": {},
   "outputs": [
    {
     "data": {
      "text/plain": [
       "3.3949295392996446e-11"
      ]
     },
     "execution_count": 24,
     "metadata": {},
     "output_type": "execute_result"
    }
   ],
   "source": [
    "#застосуємо Вальд тести для зміних\n",
    "s=np.sqrt(NFrau['num_s'].var()/NFrau['num_s'].count()+Fraud['num_s'].var()/Fraud['num_s'].count())\n",
    "d=NFrau['num_s'].mean()-Fraud['num_s'].mean()\n",
    "W=d/np.sqrt(NFrau['num_s'].var()/NFrau['num_s'].count()+Fraud['num_s'].var()/Fraud['num_s'].count())\n",
    "p=2*stats.norm.cdf(-np.abs(W))\n",
    "p #різниця між сред у змінній є"
   ]
  },
  {
   "cell_type": "code",
   "execution_count": 25,
   "metadata": {},
   "outputs": [
    {
     "data": {
      "text/plain": [
       "6.251183626143432e-09"
      ]
     },
     "execution_count": 25,
     "metadata": {},
     "output_type": "execute_result"
    }
   ],
   "source": [
    "#застосуємо Вальд тести для зміних\n",
    "s=np.sqrt(NFrau['num_dev'].var()/NFrau['num_dev'].count()+Fraud['num_dev'].var()/Fraud['num_dev'].count())\n",
    "d=NFrau['num_dev'].mean()-Fraud['num_dev'].mean()\n",
    "W=d/np.sqrt(NFrau['num_dev'].var()/NFrau['num_dev'].count()+Fraud['num_dev'].var()/Fraud['num_dev'].count())\n",
    "p=2*stats.norm.cdf(-np.abs(W))\n",
    "p #різниця між сред у змінній є"
   ]
  },
  {
   "cell_type": "code",
   "execution_count": 26,
   "metadata": {},
   "outputs": [
    {
     "data": {
      "text/plain": [
       "0.4846828521829546"
      ]
     },
     "execution_count": 26,
     "metadata": {},
     "output_type": "execute_result"
    }
   ],
   "source": [
    "#застосуємо Вальд тести для зміних\n",
    "s=np.sqrt(NFrau['Preferred_col_black'].var()/NFrau['Preferred_col_black'].count()+Fraud['Preferred_col_black'].var()/Fraud['Preferred_col_black'].count())\n",
    "d=NFrau['Preferred_col_black'].mean()-Fraud['Preferred_col_black'].mean()\n",
    "W=d/np.sqrt(NFrau['Preferred_col_black'].var()/NFrau['Preferred_col_black'].count()+Fraud['Preferred_col_black'].var()/Fraud['Preferred_col_black'].count())\n",
    "p=2*stats.norm.cdf(-np.abs(W))\n",
    "p #приймаємо Гіпотезу НО"
   ]
  },
  {
   "cell_type": "code",
   "execution_count": 27,
   "metadata": {},
   "outputs": [
    {
     "data": {
      "text/plain": [
       "0.5195838953718912"
      ]
     },
     "execution_count": 27,
     "metadata": {},
     "output_type": "execute_result"
    }
   ],
   "source": [
    "#застосуємо Вальд тести для зміних\n",
    "s=np.sqrt(NFrau['Preferred_col_blue'].var()/NFrau['Preferred_col_blue'].count()+Fraud['Preferred_col_blue'].var()/Fraud['Preferred_col_blue'].count())\n",
    "d=NFrau['Preferred_col_blue'].mean()-Fraud['Preferred_col_blue'].mean()\n",
    "W=d/np.sqrt(NFrau['Preferred_col_blue'].var()/NFrau['Preferred_col_blue'].count()+Fraud['Preferred_col_blue'].var()/Fraud['Preferred_col_blue'].count())\n",
    "p=2*stats.norm.cdf(-np.abs(W))\n",
    "p #приймаємо Гіпотезу НО"
   ]
  },
  {
   "cell_type": "code",
   "execution_count": 28,
   "metadata": {},
   "outputs": [
    {
     "data": {
      "text/plain": [
       "0.3465250393188156"
      ]
     },
     "execution_count": 28,
     "metadata": {},
     "output_type": "execute_result"
    }
   ],
   "source": [
    "#застосуємо Вальд тести для зміних\n",
    "s=np.sqrt(NFrau['Preferred_col_green'].var()/NFrau['Preferred_col_green'].count()+Fraud['Preferred_col_green'].var()/Fraud['Preferred_col_green'].count())\n",
    "d=NFrau['Preferred_col_green'].mean()-Fraud['Preferred_col_green'].mean()\n",
    "W=d/np.sqrt(NFrau['Preferred_col_green'].var()/NFrau['Preferred_col_green'].count()+Fraud['Preferred_col_green'].var()/Fraud['Preferred_col_green'].count())\n",
    "p=2*stats.norm.cdf(-np.abs(W))\n",
    "p #приймаємо Гіпотезу НО"
   ]
  },
  {
   "cell_type": "code",
   "execution_count": 29,
   "metadata": {},
   "outputs": [
    {
     "data": {
      "text/plain": [
       "0.3465250393188156"
      ]
     },
     "execution_count": 29,
     "metadata": {},
     "output_type": "execute_result"
    }
   ],
   "source": [
    "#застосуємо Вальд тести для зміних\n",
    "s=np.sqrt(NFrau['Preferred_col_green'].var()/NFrau['Preferred_col_green'].count()+Fraud['Preferred_col_green'].var()/Fraud['Preferred_col_green'].count())\n",
    "d=NFrau['Preferred_col_green'].mean()-Fraud['Preferred_col_green'].mean()\n",
    "W=d/np.sqrt(NFrau['Preferred_col_green'].var()/NFrau['Preferred_col_green'].count()+Fraud['Preferred_col_green'].var()/Fraud['Preferred_col_green'].count())\n",
    "p=2*stats.norm.cdf(-np.abs(W))\n",
    "p #приймаємо Гіпотезу НО"
   ]
  },
  {
   "cell_type": "code",
   "execution_count": 30,
   "metadata": {},
   "outputs": [
    {
     "data": {
      "text/plain": [
       "0.7463981360067854"
      ]
     },
     "execution_count": 30,
     "metadata": {},
     "output_type": "execute_result"
    }
   ],
   "source": [
    "#застосуємо Вальд тести для зміних\n",
    "s=np.sqrt(NFrau['Preferred_col_grey'].var()/NFrau['Preferred_col_grey'].count()+Fraud['Preferred_col_grey'].var()/Fraud['Preferred_col_grey'].count())\n",
    "d=NFrau['Preferred_col_grey'].mean()-Fraud['Preferred_col_grey'].mean()\n",
    "W=d/np.sqrt(NFrau['Preferred_col_grey'].var()/NFrau['Preferred_col_grey'].count()+Fraud['Preferred_col_grey'].var()/Fraud['Preferred_col_grey'].count())\n",
    "p=2*stats.norm.cdf(-np.abs(W))\n",
    "p #приймаємо Гіпотезу НО"
   ]
  },
  {
   "cell_type": "code",
   "execution_count": 31,
   "metadata": {},
   "outputs": [
    {
     "data": {
      "text/plain": [
       "0.1505312494090593"
      ]
     },
     "execution_count": 31,
     "metadata": {},
     "output_type": "execute_result"
    }
   ],
   "source": [
    "#застосуємо Вальд тести для зміних\n",
    "s=np.sqrt(NFrau['Preferred_col_orange'].var()/NFrau['Preferred_col_orange'].count()+Fraud['Preferred_col_orange'].var()/Fraud['Preferred_col_orange'].count())\n",
    "d=NFrau['Preferred_col_orange'].mean()-Fraud['Preferred_col_orange'].mean()\n",
    "W=d/np.sqrt(NFrau['Preferred_col_orange'].var()/NFrau['Preferred_col_orange'].count()+Fraud['Preferred_col_orange'].var()/Fraud['Preferred_col_orange'].count())\n",
    "p=2*stats.norm.cdf(-np.abs(W))\n",
    "p #приймаємо Гіпотезу НО"
   ]
  },
  {
   "cell_type": "code",
   "execution_count": 32,
   "metadata": {},
   "outputs": [
    {
     "data": {
      "text/plain": [
       "0.5326693004526998"
      ]
     },
     "execution_count": 32,
     "metadata": {},
     "output_type": "execute_result"
    }
   ],
   "source": [
    "#застосуємо Вальд тести для зміних\n",
    "s=np.sqrt(NFrau['Preferred_col_pink'].var()/NFrau['Preferred_col_pink'].count()+Fraud['Preferred_col_pink'].var()/Fraud['Preferred_col_pink'].count())\n",
    "d=NFrau['Preferred_col_pink'].mean()-Fraud['Preferred_col_pink'].mean()\n",
    "W=d/np.sqrt(NFrau['Preferred_col_pink'].var()/NFrau['Preferred_col_pink'].count()+Fraud['Preferred_col_pink'].var()/Fraud['Preferred_col_pink'].count())\n",
    "p=2*stats.norm.cdf(-np.abs(W))\n",
    "p  #приймаємо Гіпотезу НО"
   ]
  },
  {
   "cell_type": "code",
   "execution_count": 33,
   "metadata": {},
   "outputs": [
    {
     "data": {
      "text/plain": [
       "0.765796170734756"
      ]
     },
     "execution_count": 33,
     "metadata": {},
     "output_type": "execute_result"
    }
   ],
   "source": [
    "#застосуємо Вальд тести для зміних\n",
    "s=np.sqrt(NFrau['Preferred_col_red'].var()/NFrau['Preferred_col_red'].count()+Fraud['Preferred_col_red'].var()/Fraud['Preferred_col_red'].count())\n",
    "d=NFrau['Preferred_col_red'].mean()-Fraud['Preferred_col_red'].mean()\n",
    "W=d/np.sqrt(NFrau['Preferred_col_red'].var()/NFrau['Preferred_col_red'].count()+Fraud['Preferred_col_red'].var()/Fraud['Preferred_col_red'].count())\n",
    "p=2*stats.norm.cdf(-np.abs(W))\n",
    "p  #приймаємо Гіпотезу НО"
   ]
  },
  {
   "cell_type": "code",
   "execution_count": 34,
   "metadata": {},
   "outputs": [
    {
     "data": {
      "text/plain": [
       "0.3851399189040754"
      ]
     },
     "execution_count": 34,
     "metadata": {},
     "output_type": "execute_result"
    }
   ],
   "source": [
    "#застосуємо Вальд тести для зміних\n",
    "s=np.sqrt(NFrau['Preferred_col_white'].var()/NFrau['Preferred_col_white'].count()+Fraud['Preferred_col_white'].var()/Fraud['Preferred_col_white'].count())\n",
    "d=NFrau['Preferred_col_white'].mean()-Fraud['Preferred_col_white'].mean()\n",
    "W=d/np.sqrt(NFrau['Preferred_col_white'].var()/NFrau['Preferred_col_white'].count()+Fraud['Preferred_col_white'].var()/Fraud['Preferred_col_white'].count())\n",
    "p=2*stats.norm.cdf(-np.abs(W))\n",
    "p  #приймаємо Гіпотезу НО"
   ]
  },
  {
   "cell_type": "code",
   "execution_count": 35,
   "metadata": {},
   "outputs": [
    {
     "data": {
      "text/plain": [
       "0.6906504932331164"
      ]
     },
     "execution_count": 35,
     "metadata": {},
     "output_type": "execute_result"
    }
   ],
   "source": [
    "#застосуємо Вальд тести для зміних\n",
    "s=np.sqrt(NFrau['Preferred_col_yellow'].var()/NFrau['Preferred_col_yellow'].count()+Fraud['Preferred_col_yellow'].var()/Fraud['Preferred_col_yellow'].count())\n",
    "d=NFrau['Preferred_col_yellow'].mean()-Fraud['Preferred_col_yellow'].mean()\n",
    "W=d/np.sqrt(NFrau['Preferred_col_yellow'].var()/NFrau['Preferred_col_yellow'].count()+Fraud['Preferred_col_yellow'].var()/Fraud['Preferred_col_yellow'].count())\n",
    "p=2*stats.norm.cdf(-np.abs(W))\n",
    "p  #приймаємо Гіпотезу НО"
   ]
  },
  {
   "cell_type": "code",
   "execution_count": 36,
   "metadata": {},
   "outputs": [
    {
     "data": {
      "text/plain": [
       "0.1866910239290177"
      ]
     },
     "execution_count": 36,
     "metadata": {},
     "output_type": "execute_result"
    }
   ],
   "source": [
    "#застосуємо Вальд тести для зміних\n",
    "s=np.sqrt(NFrau['Gender_d'].var()/NFrau['Gender_d'].count()+Fraud['Gender_d'].var()/Fraud['Gender_d'].count())\n",
    "d=NFrau['Gender_d'].mean()-Fraud['Gender_d'].mean()\n",
    "W=d/np.sqrt(NFrau['Gender_d'].var()/NFrau['Gender_d'].count()+Fraud['Gender_d'].var()/Fraud['Gender_d'].count())\n",
    "p=2*stats.norm.cdf(-np.abs(W))\n",
    "p  #приймаємо Гіпотезу НО"
   ]
  },
  {
   "cell_type": "code",
   "execution_count": 37,
   "metadata": {},
   "outputs": [
    {
     "data": {
      "text/plain": [
       "0.4177264560239252"
      ]
     },
     "execution_count": 37,
     "metadata": {},
     "output_type": "execute_result"
    }
   ],
   "source": [
    "#застосуємо Вальд тести для зміних\n",
    "s=np.sqrt(NFrau['Gender_f'].var()/NFrau['Gender_f'].count()+Fraud['Gender_f'].var()/Fraud['Gender_f'].count())\n",
    "d=NFrau['Gender_f'].mean()-Fraud['Gender_f'].mean()\n",
    "W=d/np.sqrt(NFrau['Gender_f'].var()/NFrau['Gender_f'].count()+Fraud['Gender_f'].var()/Fraud['Gender_f'].count())\n",
    "p=2*stats.norm.cdf(-np.abs(W))\n",
    "p  #приймаємо Гіпотезу НО"
   ]
  },
  {
   "cell_type": "code",
   "execution_count": 38,
   "metadata": {},
   "outputs": [
    {
     "data": {
      "text/plain": [
       "0.3333339177650855"
      ]
     },
     "execution_count": 38,
     "metadata": {},
     "output_type": "execute_result"
    }
   ],
   "source": [
    "#застосуємо Вальд тести для зміних\n",
    "s=np.sqrt(NFrau['Gender_m'].var()/NFrau['Gender_m'].count()+Fraud['Gender_m'].var()/Fraud['Gender_m'].count())\n",
    "d=NFrau['Gender_m'].mean()-Fraud['Gender_m'].mean()\n",
    "W=d/np.sqrt(NFrau['Gender_m'].var()/NFrau['Gender_m'].count()+Fraud['Gender_m'].var()/Fraud['Gender_m'].count())\n",
    "p=2*stats.norm.cdf(-np.abs(W))\n",
    "p  #приймаємо Гіпотезу НО"
   ]
  },
  {
   "cell_type": "code",
   "execution_count": 39,
   "metadata": {},
   "outputs": [
    {
     "data": {
      "text/plain": [
       "0.2948577791907312"
      ]
     },
     "execution_count": 39,
     "metadata": {},
     "output_type": "execute_result"
    }
   ],
   "source": [
    "#застосуємо Вальд тести для зміних\n",
    "s=np.sqrt(NFrau['Gender_unknown'].var()/NFrau['Gender_unknown'].count()+Fraud['Gender_unknown'].var()/Fraud['Gender_unknown'].count())\n",
    "d=NFrau['Gender_unknown'].mean()-Fraud['Gender_unknown'].mean()\n",
    "W=d/np.sqrt(NFrau['Gender_unknown'].var()/NFrau['Gender_unknown'].count()+Fraud['Gender_unknown'].var()/Fraud['Gender_unknown'].count())\n",
    "p=2*stats.norm.cdf(-np.abs(W))\n",
    "p  #приймаємо Гіпотезу НО"
   ]
  },
  {
   "cell_type": "code",
   "execution_count": 40,
   "metadata": {
    "scrolled": true
   },
   "outputs": [
    {
     "data": {
      "text/plain": [
       "Index(['Dist', 'payment_t', 'count_dev_is_shop', 'basket', 'product_type',\n",
       "       'Customer_id', 'Day_of_week', 'Fraudulent_trans', 'age', 'num_s',\n",
       "       'num_dev', 'Preferred_col_black', 'Preferred_col_blue',\n",
       "       'Preferred_col_brown', 'Preferred_col_green', 'Preferred_col_grey',\n",
       "       'Preferred_col_orange', 'Preferred_col_pink', 'Preferred_col_red',\n",
       "       'Preferred_col_white', 'Preferred_col_yellow', 'Gender_d', 'Gender_f',\n",
       "       'Gender_m', 'Gender_unknown'],\n",
       "      dtype='object')"
      ]
     },
     "execution_count": 40,
     "metadata": {},
     "output_type": "execute_result"
    }
   ],
   "source": [
    "NFrau.columns"
   ]
  },
  {
   "cell_type": "code",
   "execution_count": 44,
   "metadata": {},
   "outputs": [],
   "source": [
    "test_2 = full_data[[\"Dist\", \"payment_t\",\"count_dev_is_shop\",\"num_s\",\"num_dev\",\"basket\",\"Fraudulent_trans\"]] \n",
    "#вибрали тільки тих у кого відхили теорію Н0"
   ]
  },
  {
   "cell_type": "code",
   "execution_count": 45,
   "metadata": {},
   "outputs": [
    {
     "data": {
      "text/html": [
       "<div>\n",
       "<style scoped>\n",
       "    .dataframe tbody tr th:only-of-type {\n",
       "        vertical-align: middle;\n",
       "    }\n",
       "\n",
       "    .dataframe tbody tr th {\n",
       "        vertical-align: top;\n",
       "    }\n",
       "\n",
       "    .dataframe thead th {\n",
       "        text-align: right;\n",
       "    }\n",
       "</style>\n",
       "<table border=\"1\" class=\"dataframe\">\n",
       "  <thead>\n",
       "    <tr style=\"text-align: right;\">\n",
       "      <th></th>\n",
       "      <th>Dist</th>\n",
       "      <th>payment_t</th>\n",
       "      <th>count_dev_is_shop</th>\n",
       "      <th>num_s</th>\n",
       "      <th>num_dev</th>\n",
       "      <th>basket</th>\n",
       "      <th>Fraudulent_trans</th>\n",
       "    </tr>\n",
       "  </thead>\n",
       "  <tbody>\n",
       "    <tr>\n",
       "      <th>Dist</th>\n",
       "      <td>1.000000</td>\n",
       "      <td>0.119277</td>\n",
       "      <td>0.370733</td>\n",
       "      <td>0.240812</td>\n",
       "      <td>0.213032</td>\n",
       "      <td>0.237649</td>\n",
       "      <td>0.322832</td>\n",
       "    </tr>\n",
       "    <tr>\n",
       "      <th>payment_t</th>\n",
       "      <td>0.119277</td>\n",
       "      <td>1.000000</td>\n",
       "      <td>0.264995</td>\n",
       "      <td>0.083220</td>\n",
       "      <td>0.061376</td>\n",
       "      <td>0.109096</td>\n",
       "      <td>0.136604</td>\n",
       "    </tr>\n",
       "    <tr>\n",
       "      <th>count_dev_is_shop</th>\n",
       "      <td>0.370733</td>\n",
       "      <td>0.264995</td>\n",
       "      <td>1.000000</td>\n",
       "      <td>0.356040</td>\n",
       "      <td>0.283182</td>\n",
       "      <td>0.259125</td>\n",
       "      <td>0.540846</td>\n",
       "    </tr>\n",
       "    <tr>\n",
       "      <th>num_s</th>\n",
       "      <td>0.240812</td>\n",
       "      <td>0.083220</td>\n",
       "      <td>0.356040</td>\n",
       "      <td>1.000000</td>\n",
       "      <td>0.443703</td>\n",
       "      <td>0.187177</td>\n",
       "      <td>0.219898</td>\n",
       "    </tr>\n",
       "    <tr>\n",
       "      <th>num_dev</th>\n",
       "      <td>0.213032</td>\n",
       "      <td>0.061376</td>\n",
       "      <td>0.283182</td>\n",
       "      <td>0.443703</td>\n",
       "      <td>1.000000</td>\n",
       "      <td>0.203568</td>\n",
       "      <td>0.194933</td>\n",
       "    </tr>\n",
       "    <tr>\n",
       "      <th>basket</th>\n",
       "      <td>0.237649</td>\n",
       "      <td>0.109096</td>\n",
       "      <td>0.259125</td>\n",
       "      <td>0.187177</td>\n",
       "      <td>0.203568</td>\n",
       "      <td>1.000000</td>\n",
       "      <td>0.196191</td>\n",
       "    </tr>\n",
       "    <tr>\n",
       "      <th>Fraudulent_trans</th>\n",
       "      <td>0.322832</td>\n",
       "      <td>0.136604</td>\n",
       "      <td>0.540846</td>\n",
       "      <td>0.219898</td>\n",
       "      <td>0.194933</td>\n",
       "      <td>0.196191</td>\n",
       "      <td>1.000000</td>\n",
       "    </tr>\n",
       "  </tbody>\n",
       "</table>\n",
       "</div>"
      ],
      "text/plain": [
       "                       Dist  payment_t  count_dev_is_shop     num_s   num_dev  \\\n",
       "Dist               1.000000   0.119277           0.370733  0.240812  0.213032   \n",
       "payment_t          0.119277   1.000000           0.264995  0.083220  0.061376   \n",
       "count_dev_is_shop  0.370733   0.264995           1.000000  0.356040  0.283182   \n",
       "num_s              0.240812   0.083220           0.356040  1.000000  0.443703   \n",
       "num_dev            0.213032   0.061376           0.283182  0.443703  1.000000   \n",
       "basket             0.237649   0.109096           0.259125  0.187177  0.203568   \n",
       "Fraudulent_trans   0.322832   0.136604           0.540846  0.219898  0.194933   \n",
       "\n",
       "                     basket  Fraudulent_trans  \n",
       "Dist               0.237649          0.322832  \n",
       "payment_t          0.109096          0.136604  \n",
       "count_dev_is_shop  0.259125          0.540846  \n",
       "num_s              0.187177          0.219898  \n",
       "num_dev            0.203568          0.194933  \n",
       "basket             1.000000          0.196191  \n",
       "Fraudulent_trans   0.196191          1.000000  "
      ]
     },
     "execution_count": 45,
     "metadata": {},
     "output_type": "execute_result"
    }
   ],
   "source": [
    "test_2.corr()"
   ]
  },
  {
   "cell_type": "code",
   "execution_count": 46,
   "metadata": {},
   "outputs": [
    {
     "data": {
      "image/png": "[encoded data removed]",
      "text/plain": [
       "<Figure size 864x432 with 6 Axes>"
      ]
     },
     "metadata": {
      "needs_background": "light"
     },
     "output_type": "display_data"
    }
   ],
   "source": [
    "fig, ax = plt.subplots(2,3,figsize=(12,6))\n",
    "sns.boxplot(ax=ax[0,0],x=\"Fraudulent_trans\", y=\"Dist\",\n",
    "            palette=[\"m\", \"g\"],\n",
    "            data=full_data)\n",
    "sns.boxplot(ax=ax[0,1],x=\"Fraudulent_trans\", y=\"payment_t\",\n",
    "            palette=[\"m\", \"g\"],\n",
    "            data=full_data)\n",
    "sns.boxplot(ax=ax[0,2],x=\"Fraudulent_trans\", y=\"count_dev_is_shop\",\n",
    "            palette=[\"m\", \"g\"],\n",
    "            data=full_data)\n",
    "sns.boxplot(ax=ax[1,0],x=\"Fraudulent_trans\", y=\"basket\",\n",
    "            palette=[\"m\", \"g\"],\n",
    "            data=full_data)\n",
    "sns.boxplot(ax=ax[1,1],x=\"Fraudulent_trans\", y=\"num_dev\",\n",
    "            palette=[\"m\", \"g\"],\n",
    "            data=full_data)\n",
    "sns.boxplot(ax=ax[1,2],x=\"Fraudulent_trans\", y=\"num_s\",\n",
    "            palette=[\"m\", \"g\"],\n",
    "            data=full_data)\n",
    "sns.despine(offset=10, trim=True)"
   ]
  },
  {
   "cell_type": "code",
   "execution_count": 54,
   "metadata": {},
   "outputs": [],
   "source": [
    "X = full_data[['Dist','payment_t','count_dev_is_shop','num_s','num_dev']]#,'basket'\n",
    "y = full_data['Fraudulent_trans']   "
   ]
  },
  {
   "cell_type": "code",
   "execution_count": 55,
   "metadata": {
    "scrolled": false
   },
   "outputs": [],
   "source": [
    "X_train, X_test, y_train, y_test = train_test_split(X,y,test_size=0.2, random_state=42)"
   ]
  },
  {
   "cell_type": "code",
   "execution_count": 56,
   "metadata": {},
   "outputs": [],
   "source": [
    "clf = LogisticRegression(random_state=0).fit(X, y)\n",
    "p = clf.predict_proba(X)# вероятности\n",
    "clas = clf.predict(X) # классы "
   ]
  },
  {
   "cell_type": "code",
   "execution_count": 57,
   "metadata": {},
   "outputs": [
    {
     "data": {
      "text/plain": [
       "<AxesSubplot:xlabel='Fraudulent_trans', ylabel='Count'>"
      ]
     },
     "execution_count": 57,
     "metadata": {},
     "output_type": "execute_result"
    },
    {
     "data": {
      "image/png": "[encoded data removed]",
      "text/plain": [
       "<Figure size 432x288 with 1 Axes>"
      ]
     },
     "metadata": {
      "needs_background": "light"
     },
     "output_type": "display_data"
    }
   ],
   "source": [
    "sns.histplot(y_train,discrete=True)"
   ]
  },
  {
   "cell_type": "code",
   "execution_count": 58,
   "metadata": {},
   "outputs": [
    {
     "data": {
      "text/plain": [
       "0.12548015364916773"
      ]
     },
     "execution_count": 58,
     "metadata": {},
     "output_type": "execute_result"
    }
   ],
   "source": [
    "len(y_train[y_train==1])/len(y_train)"
   ]
  },
  {
   "cell_type": "code",
   "execution_count": 59,
   "metadata": {},
   "outputs": [
    {
     "data": {
      "text/plain": [
       "LogisticRegression(random_state=0)"
      ]
     },
     "execution_count": 59,
     "metadata": {},
     "output_type": "execute_result"
    }
   ],
   "source": [
    "new_model= LogisticRegression(random_state=0).fit(X_train, y_train)\n",
    "new_model"
   ]
  },
  {
   "cell_type": "code",
   "execution_count": 60,
   "metadata": {},
   "outputs": [],
   "source": [
    "results_train = new_model.predict(X_train)"
   ]
  },
  {
   "cell_type": "code",
   "execution_count": 61,
   "metadata": {},
   "outputs": [],
   "source": [
    "results_test = new_model.predict(X_test)"
   ]
  },
  {
   "cell_type": "code",
   "execution_count": 62,
   "metadata": {},
   "outputs": [
    {
     "data": {
      "text/plain": [
       "0.9231754161331626"
      ]
     },
     "execution_count": 62,
     "metadata": {},
     "output_type": "execute_result"
    }
   ],
   "source": [
    "accuracy_score(y_train, results_train)"
   ]
  },
  {
   "cell_type": "code",
   "execution_count": 63,
   "metadata": {},
   "outputs": [
    {
     "data": {
      "text/plain": [
       "0.7317073170731707"
      ]
     },
     "execution_count": 63,
     "metadata": {},
     "output_type": "execute_result"
    }
   ],
   "source": [
    "precision_score(y_train,results_train)"
   ]
  },
  {
   "cell_type": "code",
   "execution_count": 64,
   "metadata": {},
   "outputs": [
    {
     "data": {
      "text/plain": [
       "0.6122448979591837"
      ]
     },
     "execution_count": 64,
     "metadata": {},
     "output_type": "execute_result"
    }
   ],
   "source": [
    "recall_score(y_train,results_train)"
   ]
  },
  {
   "cell_type": "code",
   "execution_count": 65,
   "metadata": {},
   "outputs": [
    {
     "data": {
      "text/plain": [
       "0.8928571428571429"
      ]
     },
     "execution_count": 65,
     "metadata": {},
     "output_type": "execute_result"
    }
   ],
   "source": [
    "#TEST\n",
    "accuracy_score(y_test,results_test)"
   ]
  },
  {
   "cell_type": "code",
   "execution_count": 66,
   "metadata": {},
   "outputs": [
    {
     "data": {
      "text/plain": [
       "0.5625"
      ]
     },
     "execution_count": 66,
     "metadata": {},
     "output_type": "execute_result"
    }
   ],
   "source": [
    "precision_score(y_test,results_test)"
   ]
  },
  {
   "cell_type": "code",
   "execution_count": 67,
   "metadata": {},
   "outputs": [
    {
     "data": {
      "text/plain": [
       "0.391304347826087"
      ]
     },
     "execution_count": 67,
     "metadata": {},
     "output_type": "execute_result"
    }
   ],
   "source": [
    "recall_score(y_test,results_test)"
   ]
  },
  {
   "cell_type": "code",
   "execution_count": 68,
   "metadata": {},
   "outputs": [
    {
     "data": {
      "text/plain": [
       "0.5532051282051282"
      ]
     },
     "execution_count": 68,
     "metadata": {},
     "output_type": "execute_result"
    }
   ],
   "source": [
    "#Перекресная проверка\n",
    "log_model = LogisticRegression()\n",
    "res = cross_validate(log_model,X,y,cv=10,scoring=['recall','precision'])\n",
    "res['test_recall'].mean()\n"
   ]
  },
  {
   "cell_type": "code",
   "execution_count": 69,
   "metadata": {},
   "outputs": [
    {
     "data": {
      "text/plain": [
       "0.7439646464646464"
      ]
     },
     "execution_count": 69,
     "metadata": {},
     "output_type": "execute_result"
    }
   ],
   "source": [
    "res['test_precision'].mean()"
   ]
  },
  {
   "cell_type": "code",
   "execution_count": 70,
   "metadata": {},
   "outputs": [
    {
     "data": {
      "text/plain": [
       "0.8928571428571429"
      ]
     },
     "execution_count": 70,
     "metadata": {},
     "output_type": "execute_result"
    }
   ],
   "source": [
    "accuracy_score(y_test,results_test)"
   ]
  },
  {
   "cell_type": "code",
   "execution_count": 71,
   "metadata": {},
   "outputs": [
    {
     "data": {
      "text/plain": [
       "0.6122448979591837"
      ]
     },
     "execution_count": 71,
     "metadata": {},
     "output_type": "execute_result"
    }
   ],
   "source": [
    "recall_score(y_train,results_train)"
   ]
  },
  {
   "cell_type": "code",
   "execution_count": null,
   "metadata": {},
   "outputs": [],
   "source": []
  }
 ],
 "metadata": {
  "kernelspec": {
   "display_name": "Python 3 (ipykernel)",
   "language": "python",
   "name": "python3"
  },
  "language_info": {
   "codemirror_mode": {
    "name": "ipython",
    "version": 3
   },
   "file_extension": ".py",
   "mimetype": "text/x-python",
   "name": "python",
   "nbconvert_exporter": "python",
   "pygments_lexer": "ipython3",
   "version": "3.9.12"
  }
 },
 "nbformat": 4,
 "nbformat_minor": 4
}
