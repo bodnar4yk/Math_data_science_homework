{
 "cells": [
  {
   "cell_type": "markdown",
   "metadata": {
    "id": "sQQBUetBYQfU"
   },
   "source": [
    "# Проверка статистических гипотез"
   ]
  },
  {
   "cell_type": "markdown",
   "metadata": {
    "id": "nRehX1BMYQfY"
   },
   "source": [
    "## Задание 1: Опрос населения"
   ]
  },
  {
   "cell_type": "code",
   "execution_count": 3,
   "metadata": {
    "id": "W_FcBmznYazL"
   },
   "outputs": [],
   "source": [
    "import numpy as np\n",
    "import pandas as pd\n",
    "import matplotlib.pyplot as plt\n",
    "import scipy.stats as stats\n",
    "import math\n",
    "import seaborn as sns"
   ]
  },
  {
   "cell_type": "code",
   "execution_count": null,
   "metadata": {
    "id": "fMLpxPmYYTuV"
   },
   "outputs": [],
   "source": []
  },
  {
   "cell_type": "markdown",
   "metadata": {
    "id": "vmqPGGO3YQfZ"
   },
   "source": [
    "Вы работаете аналитиком в журнале и получили следующую информацию: \"Простая случайная выборка из 1028 взрослых показывает, что 55% поддерживают уменьшение ядерных арсеналов.\" \n",
    "Перед тем, как печатать в журнале, что большинство поддерживает сокращение ядерных вооружений, вы хотите проверить, предоставляют ли данные убедительное свидетельство того, что это так, на уровне значимости 5%. Какая у вас основная и какая альтернативная гипотеза? Используйте Р-значение для теста."
   ]
  },
  {
   "cell_type": "code",
   "execution_count": 4,
   "metadata": {
    "id": "pwk5-4XwYQfa"
   },
   "outputs": [],
   "source": [
    "n=1028\n",
    "p=0.55\n",
    "#H_0: мнение равномерно разделено\n",
    "#H_1: большенство поддерживают уменшение ядерных арсеналов"
   ]
  },
  {
   "cell_type": "code",
   "execution_count": 2,
   "metadata": {},
   "outputs": [
    {
     "data": {
      "text/plain": [
       "565.4000000000001"
      ]
     },
     "execution_count": 2,
     "metadata": {},
     "output_type": "execute_result"
    }
   ],
   "source": [
    "#Тест с помощью доверительных интервалов\n",
    "n*p"
   ]
  },
  {
   "cell_type": "code",
   "execution_count": 3,
   "metadata": {},
   "outputs": [
    {
     "data": {
      "text/plain": [
       "462.59999999999997"
      ]
     },
     "execution_count": 3,
     "metadata": {},
     "output_type": "execute_result"
    }
   ],
   "source": [
    "n*(1-p)"
   ]
  },
  {
   "cell_type": "code",
   "execution_count": 6,
   "metadata": {},
   "outputs": [
    {
     "data": {
      "text/plain": [
       "0.01551640276816161"
      ]
     },
     "execution_count": 6,
     "metadata": {},
     "output_type": "execute_result"
    }
   ],
   "source": [
    "np.sqrt(p*(1-p)/n) #отклонение"
   ]
  },
  {
   "cell_type": "code",
   "execution_count": 9,
   "metadata": {},
   "outputs": [
    {
     "data": {
      "text/plain": [
       "0.030412149425596755"
      ]
     },
     "execution_count": 9,
     "metadata": {},
     "output_type": "execute_result"
    }
   ],
   "source": [
    "1.96*np.sqrt(p*(1-p)/n) #уровнь значимости 5%"
   ]
  },
  {
   "cell_type": "code",
   "execution_count": 13,
   "metadata": {},
   "outputs": [
    {
     "data": {
      "text/plain": [
       "(0.5195878505744033, 0.5804121494255968)"
      ]
     },
     "execution_count": 13,
     "metadata": {},
     "output_type": "execute_result"
    }
   ],
   "source": [
    "(0.55-0.030412149425596755,0.55+0.030412149425596755)"
   ]
  },
  {
   "cell_type": "code",
   "execution_count": 12,
   "metadata": {},
   "outputs": [],
   "source": [
    "#Основная гипотеза не неправдоподобная"
   ]
  },
  {
   "cell_type": "code",
   "execution_count": 14,
   "metadata": {},
   "outputs": [],
   "source": [
    "#Р-значение\n",
    "p=0.5 #гипотеза H0 правда"
   ]
  },
  {
   "cell_type": "code",
   "execution_count": 7,
   "metadata": {},
   "outputs": [],
   "source": [
    "s=np.sqrt(p*(1-p)/n)"
   ]
  },
  {
   "cell_type": "code",
   "execution_count": 8,
   "metadata": {},
   "outputs": [],
   "source": [
    "#Вероятность получить другое значение, если H0 правда\n",
    "p=2*(1-stats.norm.cdf(0.55,0.5,s))"
   ]
  },
  {
   "cell_type": "code",
   "execution_count": 9,
   "metadata": {},
   "outputs": [
    {
     "data": {
      "text/plain": [
       "0.0012712314047778062"
      ]
     },
     "execution_count": 9,
     "metadata": {},
     "output_type": "execute_result"
    }
   ],
   "source": [
    "p #<0.01, мы опровергаем основную гипотез H0 "
   ]
  },
  {
   "cell_type": "markdown",
   "metadata": {
    "id": "bA4_HktiYQfa"
   },
   "source": [
    "## Задание 2: Курение"
   ]
  },
  {
   "cell_type": "markdown",
   "metadata": {
    "id": "dZ0dAu5QYQfb"
   },
   "source": [
    "Набор данных под названием **ncbirths** представляет собой случайную выборку матерей и их новорожденных в Северной Каролине. Нас особенно интересуют две переменные: *weight* и *habit*. Переменная 'weight' представляет собой вес новорожденных, а переменная 'habit' описывает, какие матери курили во время беременности. Мы хотели бы знать, есть ли убедительные доказательства того, что новорожденные от курящих матерей имеют другой средний вес при рождении, чем новорожденные от матерей, которые не курят? Мы будем использовать\n",
    "пример Северной Каролины, чтобы попытаться ответить на этот вопрос."
   ]
  },
  {
   "cell_type": "markdown",
   "metadata": {
    "id": "RBTBrB7cYQfb"
   },
   "source": [
    "    1. Введите данные с помощью Пандас.\n",
    "    2. Установите соответствующие гипотезы, чтобы оценить, существует ли связь между курением матери и средней  массой тела при рождении.\n",
    "    3. Оцените нужные переменные как среднии значения и дисперсии выборок для курящих/некурящих.\n",
    "    4. Проверьте ваши гипотезы с помощью Wald теста, нас интересует уровень значимости 5%.\n",
    "    "
   ]
  },
  {
   "cell_type": "code",
   "execution_count": 139,
   "metadata": {
    "id": "yRb2F6awYQfc"
   },
   "outputs": [
    {
     "data": {
      "text/html": [
       "<div>\n",
       "<style scoped>\n",
       "    .dataframe tbody tr th:only-of-type {\n",
       "        vertical-align: middle;\n",
       "    }\n",
       "\n",
       "    .dataframe tbody tr th {\n",
       "        vertical-align: top;\n",
       "    }\n",
       "\n",
       "    .dataframe thead th {\n",
       "        text-align: right;\n",
       "    }\n",
       "</style>\n",
       "<table border=\"1\" class=\"dataframe\">\n",
       "  <thead>\n",
       "    <tr style=\"text-align: right;\">\n",
       "      <th></th>\n",
       "      <th>fage</th>\n",
       "      <th>mage</th>\n",
       "      <th>mature</th>\n",
       "      <th>weeks</th>\n",
       "      <th>premie</th>\n",
       "      <th>visits</th>\n",
       "      <th>marital</th>\n",
       "      <th>gained</th>\n",
       "      <th>weight</th>\n",
       "      <th>lowbirthweight</th>\n",
       "      <th>gender</th>\n",
       "      <th>habit</th>\n",
       "      <th>whitemom</th>\n",
       "    </tr>\n",
       "  </thead>\n",
       "  <tbody>\n",
       "    <tr>\n",
       "      <th>0</th>\n",
       "      <td>NaN</td>\n",
       "      <td>13</td>\n",
       "      <td>younger mom</td>\n",
       "      <td>39.0</td>\n",
       "      <td>full term</td>\n",
       "      <td>10.0</td>\n",
       "      <td>not married</td>\n",
       "      <td>38.0</td>\n",
       "      <td>7.63</td>\n",
       "      <td>not low</td>\n",
       "      <td>male</td>\n",
       "      <td>nonsmoker</td>\n",
       "      <td>not white</td>\n",
       "    </tr>\n",
       "    <tr>\n",
       "      <th>1</th>\n",
       "      <td>NaN</td>\n",
       "      <td>14</td>\n",
       "      <td>younger mom</td>\n",
       "      <td>42.0</td>\n",
       "      <td>full term</td>\n",
       "      <td>15.0</td>\n",
       "      <td>not married</td>\n",
       "      <td>20.0</td>\n",
       "      <td>7.88</td>\n",
       "      <td>not low</td>\n",
       "      <td>male</td>\n",
       "      <td>nonsmoker</td>\n",
       "      <td>not white</td>\n",
       "    </tr>\n",
       "    <tr>\n",
       "      <th>2</th>\n",
       "      <td>19.0</td>\n",
       "      <td>15</td>\n",
       "      <td>younger mom</td>\n",
       "      <td>37.0</td>\n",
       "      <td>full term</td>\n",
       "      <td>11.0</td>\n",
       "      <td>not married</td>\n",
       "      <td>38.0</td>\n",
       "      <td>6.63</td>\n",
       "      <td>not low</td>\n",
       "      <td>female</td>\n",
       "      <td>nonsmoker</td>\n",
       "      <td>white</td>\n",
       "    </tr>\n",
       "    <tr>\n",
       "      <th>3</th>\n",
       "      <td>21.0</td>\n",
       "      <td>15</td>\n",
       "      <td>younger mom</td>\n",
       "      <td>41.0</td>\n",
       "      <td>full term</td>\n",
       "      <td>6.0</td>\n",
       "      <td>not married</td>\n",
       "      <td>34.0</td>\n",
       "      <td>8.00</td>\n",
       "      <td>not low</td>\n",
       "      <td>male</td>\n",
       "      <td>nonsmoker</td>\n",
       "      <td>white</td>\n",
       "    </tr>\n",
       "    <tr>\n",
       "      <th>4</th>\n",
       "      <td>NaN</td>\n",
       "      <td>15</td>\n",
       "      <td>younger mom</td>\n",
       "      <td>39.0</td>\n",
       "      <td>full term</td>\n",
       "      <td>9.0</td>\n",
       "      <td>not married</td>\n",
       "      <td>27.0</td>\n",
       "      <td>6.38</td>\n",
       "      <td>not low</td>\n",
       "      <td>female</td>\n",
       "      <td>nonsmoker</td>\n",
       "      <td>not white</td>\n",
       "    </tr>\n",
       "  </tbody>\n",
       "</table>\n",
       "</div>"
      ],
      "text/plain": [
       "   fage  mage       mature  weeks     premie  visits      marital  gained  \\\n",
       "0   NaN    13  younger mom   39.0  full term    10.0  not married    38.0   \n",
       "1   NaN    14  younger mom   42.0  full term    15.0  not married    20.0   \n",
       "2  19.0    15  younger mom   37.0  full term    11.0  not married    38.0   \n",
       "3  21.0    15  younger mom   41.0  full term     6.0  not married    34.0   \n",
       "4   NaN    15  younger mom   39.0  full term     9.0  not married    27.0   \n",
       "\n",
       "   weight lowbirthweight  gender      habit   whitemom  \n",
       "0    7.63        not low    male  nonsmoker  not white  \n",
       "1    7.88        not low    male  nonsmoker  not white  \n",
       "2    6.63        not low  female  nonsmoker      white  \n",
       "3    8.00        not low    male  nonsmoker      white  \n",
       "4    6.38        not low  female  nonsmoker  not white  "
      ]
     },
     "execution_count": 139,
     "metadata": {},
     "output_type": "execute_result"
    }
   ],
   "source": [
    "data=pd.read_csv(\"ncbirths.csv\")\n",
    "data.head()"
   ]
  },
  {
   "cell_type": "code",
   "execution_count": 99,
   "metadata": {},
   "outputs": [],
   "source": [
    "#H_0: зависимости нет между курением матери и средней массой тела при рождении\n",
    "#H_1: зависимсть есть"
   ]
  },
  {
   "cell_type": "code",
   "execution_count": 140,
   "metadata": {},
   "outputs": [
    {
     "data": {
      "text/plain": [
       "7.101000000000028"
      ]
     },
     "execution_count": 140,
     "metadata": {},
     "output_type": "execute_result"
    }
   ],
   "source": [
    "mean=data['weight'].mean()\n",
    "mean"
   ]
  },
  {
   "cell_type": "code",
   "execution_count": 141,
   "metadata": {},
   "outputs": [
    {
     "data": {
      "text/plain": [
       "873"
      ]
     },
     "execution_count": 141,
     "metadata": {},
     "output_type": "execute_result"
    }
   ],
   "source": [
    "сount_non=len(data[data['habit']=='nonsmoker'])\n",
    "сount_non"
   ]
  },
  {
   "cell_type": "code",
   "execution_count": 142,
   "metadata": {},
   "outputs": [
    {
     "data": {
      "text/plain": [
       "126"
      ]
     },
     "execution_count": 142,
     "metadata": {},
     "output_type": "execute_result"
    }
   ],
   "source": [
    "count_smok=len(data[data['habit']=='smoker'])\n",
    "count_smok"
   ]
  },
  {
   "cell_type": "code",
   "execution_count": 143,
   "metadata": {
    "scrolled": true
   },
   "outputs": [
    {
     "data": {
      "text/html": [
       "<div>\n",
       "<style scoped>\n",
       "    .dataframe tbody tr th:only-of-type {\n",
       "        vertical-align: middle;\n",
       "    }\n",
       "\n",
       "    .dataframe tbody tr th {\n",
       "        vertical-align: top;\n",
       "    }\n",
       "\n",
       "    .dataframe thead th {\n",
       "        text-align: right;\n",
       "    }\n",
       "</style>\n",
       "<table border=\"1\" class=\"dataframe\">\n",
       "  <thead>\n",
       "    <tr style=\"text-align: right;\">\n",
       "      <th></th>\n",
       "      <th>fage</th>\n",
       "      <th>mage</th>\n",
       "      <th>mature</th>\n",
       "      <th>weeks</th>\n",
       "      <th>premie</th>\n",
       "      <th>visits</th>\n",
       "      <th>marital</th>\n",
       "      <th>gained</th>\n",
       "      <th>weight</th>\n",
       "      <th>lowbirthweight</th>\n",
       "      <th>gender</th>\n",
       "      <th>habit</th>\n",
       "      <th>whitemom</th>\n",
       "    </tr>\n",
       "  </thead>\n",
       "  <tbody>\n",
       "    <tr>\n",
       "      <th>0</th>\n",
       "      <td>NaN</td>\n",
       "      <td>13</td>\n",
       "      <td>younger mom</td>\n",
       "      <td>39.0</td>\n",
       "      <td>full term</td>\n",
       "      <td>10.0</td>\n",
       "      <td>not married</td>\n",
       "      <td>38.0</td>\n",
       "      <td>7.63</td>\n",
       "      <td>not low</td>\n",
       "      <td>male</td>\n",
       "      <td>nonsmoker</td>\n",
       "      <td>not white</td>\n",
       "    </tr>\n",
       "    <tr>\n",
       "      <th>1</th>\n",
       "      <td>NaN</td>\n",
       "      <td>14</td>\n",
       "      <td>younger mom</td>\n",
       "      <td>42.0</td>\n",
       "      <td>full term</td>\n",
       "      <td>15.0</td>\n",
       "      <td>not married</td>\n",
       "      <td>20.0</td>\n",
       "      <td>7.88</td>\n",
       "      <td>not low</td>\n",
       "      <td>male</td>\n",
       "      <td>nonsmoker</td>\n",
       "      <td>not white</td>\n",
       "    </tr>\n",
       "    <tr>\n",
       "      <th>2</th>\n",
       "      <td>19.0</td>\n",
       "      <td>15</td>\n",
       "      <td>younger mom</td>\n",
       "      <td>37.0</td>\n",
       "      <td>full term</td>\n",
       "      <td>11.0</td>\n",
       "      <td>not married</td>\n",
       "      <td>38.0</td>\n",
       "      <td>6.63</td>\n",
       "      <td>not low</td>\n",
       "      <td>female</td>\n",
       "      <td>nonsmoker</td>\n",
       "      <td>white</td>\n",
       "    </tr>\n",
       "    <tr>\n",
       "      <th>3</th>\n",
       "      <td>21.0</td>\n",
       "      <td>15</td>\n",
       "      <td>younger mom</td>\n",
       "      <td>41.0</td>\n",
       "      <td>full term</td>\n",
       "      <td>6.0</td>\n",
       "      <td>not married</td>\n",
       "      <td>34.0</td>\n",
       "      <td>8.00</td>\n",
       "      <td>not low</td>\n",
       "      <td>male</td>\n",
       "      <td>nonsmoker</td>\n",
       "      <td>white</td>\n",
       "    </tr>\n",
       "    <tr>\n",
       "      <th>4</th>\n",
       "      <td>NaN</td>\n",
       "      <td>15</td>\n",
       "      <td>younger mom</td>\n",
       "      <td>39.0</td>\n",
       "      <td>full term</td>\n",
       "      <td>9.0</td>\n",
       "      <td>not married</td>\n",
       "      <td>27.0</td>\n",
       "      <td>6.38</td>\n",
       "      <td>not low</td>\n",
       "      <td>female</td>\n",
       "      <td>nonsmoker</td>\n",
       "      <td>not white</td>\n",
       "    </tr>\n",
       "  </tbody>\n",
       "</table>\n",
       "</div>"
      ],
      "text/plain": [
       "   fage  mage       mature  weeks     premie  visits      marital  gained  \\\n",
       "0   NaN    13  younger mom   39.0  full term    10.0  not married    38.0   \n",
       "1   NaN    14  younger mom   42.0  full term    15.0  not married    20.0   \n",
       "2  19.0    15  younger mom   37.0  full term    11.0  not married    38.0   \n",
       "3  21.0    15  younger mom   41.0  full term     6.0  not married    34.0   \n",
       "4   NaN    15  younger mom   39.0  full term     9.0  not married    27.0   \n",
       "\n",
       "   weight lowbirthweight  gender      habit   whitemom  \n",
       "0    7.63        not low    male  nonsmoker  not white  \n",
       "1    7.88        not low    male  nonsmoker  not white  \n",
       "2    6.63        not low  female  nonsmoker      white  \n",
       "3    8.00        not low    male  nonsmoker      white  \n",
       "4    6.38        not low  female  nonsmoker  not white  "
      ]
     },
     "execution_count": 143,
     "metadata": {},
     "output_type": "execute_result"
    }
   ],
   "source": [
    "data_non=data[data['habit']=='nonsmoker']\n",
    "data_non.head()\n",
    "#data_non.count()"
   ]
  },
  {
   "cell_type": "code",
   "execution_count": 144,
   "metadata": {},
   "outputs": [
    {
     "data": {
      "text/html": [
       "<div>\n",
       "<style scoped>\n",
       "    .dataframe tbody tr th:only-of-type {\n",
       "        vertical-align: middle;\n",
       "    }\n",
       "\n",
       "    .dataframe tbody tr th {\n",
       "        vertical-align: top;\n",
       "    }\n",
       "\n",
       "    .dataframe thead th {\n",
       "        text-align: right;\n",
       "    }\n",
       "</style>\n",
       "<table border=\"1\" class=\"dataframe\">\n",
       "  <thead>\n",
       "    <tr style=\"text-align: right;\">\n",
       "      <th></th>\n",
       "      <th>fage</th>\n",
       "      <th>mage</th>\n",
       "      <th>mature</th>\n",
       "      <th>weeks</th>\n",
       "      <th>premie</th>\n",
       "      <th>visits</th>\n",
       "      <th>marital</th>\n",
       "      <th>gained</th>\n",
       "      <th>weight</th>\n",
       "      <th>lowbirthweight</th>\n",
       "      <th>gender</th>\n",
       "      <th>habit</th>\n",
       "      <th>whitemom</th>\n",
       "    </tr>\n",
       "  </thead>\n",
       "  <tbody>\n",
       "    <tr>\n",
       "      <th>14</th>\n",
       "      <td>21.0</td>\n",
       "      <td>16</td>\n",
       "      <td>younger mom</td>\n",
       "      <td>38.0</td>\n",
       "      <td>full term</td>\n",
       "      <td>15.0</td>\n",
       "      <td>not married</td>\n",
       "      <td>75.0</td>\n",
       "      <td>7.56</td>\n",
       "      <td>not low</td>\n",
       "      <td>female</td>\n",
       "      <td>smoker</td>\n",
       "      <td>white</td>\n",
       "    </tr>\n",
       "    <tr>\n",
       "      <th>15</th>\n",
       "      <td>NaN</td>\n",
       "      <td>16</td>\n",
       "      <td>younger mom</td>\n",
       "      <td>40.0</td>\n",
       "      <td>full term</td>\n",
       "      <td>7.0</td>\n",
       "      <td>not married</td>\n",
       "      <td>35.0</td>\n",
       "      <td>6.88</td>\n",
       "      <td>not low</td>\n",
       "      <td>male</td>\n",
       "      <td>smoker</td>\n",
       "      <td>white</td>\n",
       "    </tr>\n",
       "    <tr>\n",
       "      <th>16</th>\n",
       "      <td>14.0</td>\n",
       "      <td>16</td>\n",
       "      <td>younger mom</td>\n",
       "      <td>40.0</td>\n",
       "      <td>full term</td>\n",
       "      <td>12.0</td>\n",
       "      <td>not married</td>\n",
       "      <td>9.0</td>\n",
       "      <td>5.81</td>\n",
       "      <td>not low</td>\n",
       "      <td>female</td>\n",
       "      <td>smoker</td>\n",
       "      <td>white</td>\n",
       "    </tr>\n",
       "    <tr>\n",
       "      <th>30</th>\n",
       "      <td>NaN</td>\n",
       "      <td>17</td>\n",
       "      <td>younger mom</td>\n",
       "      <td>42.0</td>\n",
       "      <td>full term</td>\n",
       "      <td>8.0</td>\n",
       "      <td>not married</td>\n",
       "      <td>72.0</td>\n",
       "      <td>7.44</td>\n",
       "      <td>not low</td>\n",
       "      <td>male</td>\n",
       "      <td>smoker</td>\n",
       "      <td>white</td>\n",
       "    </tr>\n",
       "    <tr>\n",
       "      <th>65</th>\n",
       "      <td>24.0</td>\n",
       "      <td>18</td>\n",
       "      <td>younger mom</td>\n",
       "      <td>40.0</td>\n",
       "      <td>full term</td>\n",
       "      <td>14.0</td>\n",
       "      <td>married</td>\n",
       "      <td>47.0</td>\n",
       "      <td>7.06</td>\n",
       "      <td>not low</td>\n",
       "      <td>female</td>\n",
       "      <td>smoker</td>\n",
       "      <td>white</td>\n",
       "    </tr>\n",
       "  </tbody>\n",
       "</table>\n",
       "</div>"
      ],
      "text/plain": [
       "    fage  mage       mature  weeks     premie  visits      marital  gained  \\\n",
       "14  21.0    16  younger mom   38.0  full term    15.0  not married    75.0   \n",
       "15   NaN    16  younger mom   40.0  full term     7.0  not married    35.0   \n",
       "16  14.0    16  younger mom   40.0  full term    12.0  not married     9.0   \n",
       "30   NaN    17  younger mom   42.0  full term     8.0  not married    72.0   \n",
       "65  24.0    18  younger mom   40.0  full term    14.0      married    47.0   \n",
       "\n",
       "    weight lowbirthweight  gender   habit whitemom  \n",
       "14    7.56        not low  female  smoker    white  \n",
       "15    6.88        not low    male  smoker    white  \n",
       "16    5.81        not low  female  smoker    white  \n",
       "30    7.44        not low    male  smoker    white  \n",
       "65    7.06        not low  female  smoker    white  "
      ]
     },
     "execution_count": 144,
     "metadata": {},
     "output_type": "execute_result"
    }
   ],
   "source": [
    "data_smok=data[data['habit']=='smoker']\n",
    "data_smok.head()\n",
    "#data_smok.count()"
   ]
  },
  {
   "cell_type": "code",
   "execution_count": 145,
   "metadata": {},
   "outputs": [
    {
     "data": {
      "text/plain": [
       "7.144272623138631"
      ]
     },
     "execution_count": 145,
     "metadata": {},
     "output_type": "execute_result"
    }
   ],
   "source": [
    "mean_non=data_non['weight'].mean()\n",
    "mean_non"
   ]
  },
  {
   "cell_type": "code",
   "execution_count": 146,
   "metadata": {},
   "outputs": [
    {
     "data": {
      "text/plain": [
       "6.828730158730158"
      ]
     },
     "execution_count": 146,
     "metadata": {},
     "output_type": "execute_result"
    }
   ],
   "source": [
    "mean_smok=data_smok['weight'].mean()\n",
    "mean_smok"
   ]
  },
  {
   "cell_type": "code",
   "execution_count": 147,
   "metadata": {
    "scrolled": true
   },
   "outputs": [
    {
     "data": {
      "text/plain": [
       "0.13376049190705974"
      ]
     },
     "execution_count": 147,
     "metadata": {},
     "output_type": "execute_result"
    }
   ],
   "source": [
    "s=np.sqrt(data_non['weight'].var()/сount_non+data_smok['weight'].var()/count_smok)\n",
    "s"
   ]
  },
  {
   "cell_type": "code",
   "execution_count": 148,
   "metadata": {},
   "outputs": [
    {
     "data": {
      "text/plain": [
       "0.3155424644084732"
      ]
     },
     "execution_count": 148,
     "metadata": {},
     "output_type": "execute_result"
    }
   ],
   "source": [
    "d=mean_non-mean_smok\n",
    "d"
   ]
  },
  {
   "cell_type": "code",
   "execution_count": 165,
   "metadata": {},
   "outputs": [
    {
     "data": {
      "text/plain": [
       "-3.3278397025430406"
      ]
     },
     "execution_count": 165,
     "metadata": {},
     "output_type": "execute_result"
    }
   ],
   "source": [
    "W=d/np.sqrt(data_non['weight'].var()/сount_non+data_smok['weight'].var()/count_smok)\n",
    "W"
   ]
  },
  {
   "cell_type": "code",
   "execution_count": 166,
   "metadata": {},
   "outputs": [],
   "source": [
    "p=2*stats.norm.cdf(-np.abs(W))"
   ]
  },
  {
   "cell_type": "code",
   "execution_count": 167,
   "metadata": {},
   "outputs": [
    {
     "data": {
      "text/plain": [
       "0.0008752221073140895"
      ]
     },
     "execution_count": 167,
     "metadata": {},
     "output_type": "execute_result"
    }
   ],
   "source": [
    "p #з рівнем значущості 5%, гіпотеза H0 може бути відхилена"
   ]
  },
  {
   "cell_type": "markdown",
   "metadata": {
    "id": "xoezvultYQfd"
   },
   "source": [
    "## Задание 3: Станок на производстве"
   ]
  },
  {
   "cell_type": "code",
   "execution_count": null,
   "metadata": {
    "id": "h6tR7yZNYnlr"
   },
   "outputs": [],
   "source": []
  },
  {
   "cell_type": "markdown",
   "metadata": {
    "id": "Jm2LwGlUYQfd"
   },
   "source": [
    "Вы работаете аналитиком на фабрике и к вам пришел начальник цеха по производству деталей и просит вас помочь найти причину, почему одна из двух автоматических машин производит больше брака. Его коллеги собрали данные с обоих машин во время производства 50 деталей. Эти данные находятся в файле 'Machine_example.csv'. Переменная 'Machine' говорит, какой из двух машин принадлежат данные. Другие переменные соответствуют разным параметрам машин при производстве деталей. Что вы ответите начальнику цеха? "
   ]
  },
  {
   "cell_type": "code",
   "execution_count": 5,
   "metadata": {
    "id": "fSO8EnCdYQfe",
    "scrolled": true
   },
   "outputs": [
    {
     "data": {
      "text/html": [
       "<div>\n",
       "<style scoped>\n",
       "    .dataframe tbody tr th:only-of-type {\n",
       "        vertical-align: middle;\n",
       "    }\n",
       "\n",
       "    .dataframe tbody tr th {\n",
       "        vertical-align: top;\n",
       "    }\n",
       "\n",
       "    .dataframe thead th {\n",
       "        text-align: right;\n",
       "    }\n",
       "</style>\n",
       "<table border=\"1\" class=\"dataframe\">\n",
       "  <thead>\n",
       "    <tr style=\"text-align: right;\">\n",
       "      <th></th>\n",
       "      <th>Machine</th>\n",
       "      <th>Param_1</th>\n",
       "      <th>Param_2</th>\n",
       "      <th>Param_3</th>\n",
       "      <th>Param_4</th>\n",
       "      <th>Param_5</th>\n",
       "      <th>Param_6</th>\n",
       "      <th>Param_7</th>\n",
       "      <th>Param_8</th>\n",
       "      <th>Param_9</th>\n",
       "      <th>Param_10</th>\n",
       "    </tr>\n",
       "  </thead>\n",
       "  <tbody>\n",
       "    <tr>\n",
       "      <th>0</th>\n",
       "      <td>Machine_1</td>\n",
       "      <td>0.623109</td>\n",
       "      <td>0.684335</td>\n",
       "      <td>7.914026</td>\n",
       "      <td>3.337340</td>\n",
       "      <td>0.302885</td>\n",
       "      <td>126.279441</td>\n",
       "      <td>4.098384</td>\n",
       "      <td>15.673653</td>\n",
       "      <td>53.076597</td>\n",
       "      <td>97.775208</td>\n",
       "    </tr>\n",
       "    <tr>\n",
       "      <th>1</th>\n",
       "      <td>Machine_1</td>\n",
       "      <td>3.967669</td>\n",
       "      <td>0.675796</td>\n",
       "      <td>12.569927</td>\n",
       "      <td>3.004854</td>\n",
       "      <td>0.303522</td>\n",
       "      <td>116.149786</td>\n",
       "      <td>3.820179</td>\n",
       "      <td>19.535909</td>\n",
       "      <td>42.421251</td>\n",
       "      <td>83.871174</td>\n",
       "    </tr>\n",
       "    <tr>\n",
       "      <th>2</th>\n",
       "      <td>Machine_1</td>\n",
       "      <td>1.636526</td>\n",
       "      <td>0.712062</td>\n",
       "      <td>9.115165</td>\n",
       "      <td>3.018322</td>\n",
       "      <td>0.299979</td>\n",
       "      <td>127.675531</td>\n",
       "      <td>3.896752</td>\n",
       "      <td>24.544040</td>\n",
       "      <td>44.100223</td>\n",
       "      <td>66.432834</td>\n",
       "    </tr>\n",
       "    <tr>\n",
       "      <th>3</th>\n",
       "      <td>Machine_1</td>\n",
       "      <td>1.985883</td>\n",
       "      <td>0.760357</td>\n",
       "      <td>8.196033</td>\n",
       "      <td>2.725621</td>\n",
       "      <td>0.300013</td>\n",
       "      <td>132.984342</td>\n",
       "      <td>3.554923</td>\n",
       "      <td>15.498113</td>\n",
       "      <td>39.543432</td>\n",
       "      <td>83.055755</td>\n",
       "    </tr>\n",
       "    <tr>\n",
       "      <th>4</th>\n",
       "      <td>Machine_1</td>\n",
       "      <td>3.204048</td>\n",
       "      <td>0.721569</td>\n",
       "      <td>8.657109</td>\n",
       "      <td>3.014473</td>\n",
       "      <td>0.294855</td>\n",
       "      <td>119.097573</td>\n",
       "      <td>4.092213</td>\n",
       "      <td>21.657736</td>\n",
       "      <td>46.008386</td>\n",
       "      <td>93.063520</td>\n",
       "    </tr>\n",
       "  </tbody>\n",
       "</table>\n",
       "</div>"
      ],
      "text/plain": [
       "     Machine   Param_1   Param_2    Param_3   Param_4   Param_5     Param_6  \\\n",
       "0  Machine_1  0.623109  0.684335   7.914026  3.337340  0.302885  126.279441   \n",
       "1  Machine_1  3.967669  0.675796  12.569927  3.004854  0.303522  116.149786   \n",
       "2  Machine_1  1.636526  0.712062   9.115165  3.018322  0.299979  127.675531   \n",
       "3  Machine_1  1.985883  0.760357   8.196033  2.725621  0.300013  132.984342   \n",
       "4  Machine_1  3.204048  0.721569   8.657109  3.014473  0.294855  119.097573   \n",
       "\n",
       "    Param_7    Param_8    Param_9   Param_10  \n",
       "0  4.098384  15.673653  53.076597  97.775208  \n",
       "1  3.820179  19.535909  42.421251  83.871174  \n",
       "2  3.896752  24.544040  44.100223  66.432834  \n",
       "3  3.554923  15.498113  39.543432  83.055755  \n",
       "4  4.092213  21.657736  46.008386  93.063520  "
      ]
     },
     "execution_count": 5,
     "metadata": {},
     "output_type": "execute_result"
    }
   ],
   "source": [
    "data=pd.read_csv(\"Machine_example.csv\")\n",
    "data.drop(data.columns[0],inplace=True,axis=1)\n",
    "data.head()"
   ]
  },
  {
   "cell_type": "code",
   "execution_count": 6,
   "metadata": {},
   "outputs": [
    {
     "data": {
      "text/html": [
       "<div>\n",
       "<style scoped>\n",
       "    .dataframe tbody tr th:only-of-type {\n",
       "        vertical-align: middle;\n",
       "    }\n",
       "\n",
       "    .dataframe tbody tr th {\n",
       "        vertical-align: top;\n",
       "    }\n",
       "\n",
       "    .dataframe thead th {\n",
       "        text-align: right;\n",
       "    }\n",
       "</style>\n",
       "<table border=\"1\" class=\"dataframe\">\n",
       "  <thead>\n",
       "    <tr style=\"text-align: right;\">\n",
       "      <th></th>\n",
       "      <th>Param_1</th>\n",
       "      <th>Param_2</th>\n",
       "      <th>Param_3</th>\n",
       "      <th>Param_4</th>\n",
       "      <th>Param_5</th>\n",
       "      <th>Param_6</th>\n",
       "      <th>Param_7</th>\n",
       "      <th>Param_8</th>\n",
       "      <th>Param_9</th>\n",
       "      <th>Param_10</th>\n",
       "    </tr>\n",
       "  </thead>\n",
       "  <tbody>\n",
       "    <tr>\n",
       "      <th>Param_1</th>\n",
       "      <td>1.000000</td>\n",
       "      <td>0.009111</td>\n",
       "      <td>-0.121410</td>\n",
       "      <td>0.030232</td>\n",
       "      <td>0.061787</td>\n",
       "      <td>-0.047222</td>\n",
       "      <td>-0.091971</td>\n",
       "      <td>0.052063</td>\n",
       "      <td>0.037588</td>\n",
       "      <td>0.059669</td>\n",
       "    </tr>\n",
       "    <tr>\n",
       "      <th>Param_2</th>\n",
       "      <td>0.009111</td>\n",
       "      <td>1.000000</td>\n",
       "      <td>-0.111060</td>\n",
       "      <td>-0.030045</td>\n",
       "      <td>-0.019284</td>\n",
       "      <td>0.061108</td>\n",
       "      <td>-0.041292</td>\n",
       "      <td>0.041967</td>\n",
       "      <td>-0.018727</td>\n",
       "      <td>-0.017317</td>\n",
       "    </tr>\n",
       "    <tr>\n",
       "      <th>Param_3</th>\n",
       "      <td>-0.121410</td>\n",
       "      <td>-0.111060</td>\n",
       "      <td>1.000000</td>\n",
       "      <td>0.085553</td>\n",
       "      <td>-0.060653</td>\n",
       "      <td>-0.156778</td>\n",
       "      <td>-0.015672</td>\n",
       "      <td>0.059166</td>\n",
       "      <td>-0.103035</td>\n",
       "      <td>0.111491</td>\n",
       "    </tr>\n",
       "    <tr>\n",
       "      <th>Param_4</th>\n",
       "      <td>0.030232</td>\n",
       "      <td>-0.030045</td>\n",
       "      <td>0.085553</td>\n",
       "      <td>1.000000</td>\n",
       "      <td>-0.211793</td>\n",
       "      <td>-0.082777</td>\n",
       "      <td>-0.116832</td>\n",
       "      <td>0.143691</td>\n",
       "      <td>0.012295</td>\n",
       "      <td>0.037898</td>\n",
       "    </tr>\n",
       "    <tr>\n",
       "      <th>Param_5</th>\n",
       "      <td>0.061787</td>\n",
       "      <td>-0.019284</td>\n",
       "      <td>-0.060653</td>\n",
       "      <td>-0.211793</td>\n",
       "      <td>1.000000</td>\n",
       "      <td>0.000978</td>\n",
       "      <td>-0.092448</td>\n",
       "      <td>0.029818</td>\n",
       "      <td>0.203813</td>\n",
       "      <td>-0.020426</td>\n",
       "    </tr>\n",
       "    <tr>\n",
       "      <th>Param_6</th>\n",
       "      <td>-0.047222</td>\n",
       "      <td>0.061108</td>\n",
       "      <td>-0.156778</td>\n",
       "      <td>-0.082777</td>\n",
       "      <td>0.000978</td>\n",
       "      <td>1.000000</td>\n",
       "      <td>-0.020820</td>\n",
       "      <td>0.099783</td>\n",
       "      <td>0.115985</td>\n",
       "      <td>-0.081201</td>\n",
       "    </tr>\n",
       "    <tr>\n",
       "      <th>Param_7</th>\n",
       "      <td>-0.091971</td>\n",
       "      <td>-0.041292</td>\n",
       "      <td>-0.015672</td>\n",
       "      <td>-0.116832</td>\n",
       "      <td>-0.092448</td>\n",
       "      <td>-0.020820</td>\n",
       "      <td>1.000000</td>\n",
       "      <td>0.073752</td>\n",
       "      <td>-0.164779</td>\n",
       "      <td>-0.183608</td>\n",
       "    </tr>\n",
       "    <tr>\n",
       "      <th>Param_8</th>\n",
       "      <td>0.052063</td>\n",
       "      <td>0.041967</td>\n",
       "      <td>0.059166</td>\n",
       "      <td>0.143691</td>\n",
       "      <td>0.029818</td>\n",
       "      <td>0.099783</td>\n",
       "      <td>0.073752</td>\n",
       "      <td>1.000000</td>\n",
       "      <td>0.120998</td>\n",
       "      <td>-0.104746</td>\n",
       "    </tr>\n",
       "    <tr>\n",
       "      <th>Param_9</th>\n",
       "      <td>0.037588</td>\n",
       "      <td>-0.018727</td>\n",
       "      <td>-0.103035</td>\n",
       "      <td>0.012295</td>\n",
       "      <td>0.203813</td>\n",
       "      <td>0.115985</td>\n",
       "      <td>-0.164779</td>\n",
       "      <td>0.120998</td>\n",
       "      <td>1.000000</td>\n",
       "      <td>0.141708</td>\n",
       "    </tr>\n",
       "    <tr>\n",
       "      <th>Param_10</th>\n",
       "      <td>0.059669</td>\n",
       "      <td>-0.017317</td>\n",
       "      <td>0.111491</td>\n",
       "      <td>0.037898</td>\n",
       "      <td>-0.020426</td>\n",
       "      <td>-0.081201</td>\n",
       "      <td>-0.183608</td>\n",
       "      <td>-0.104746</td>\n",
       "      <td>0.141708</td>\n",
       "      <td>1.000000</td>\n",
       "    </tr>\n",
       "  </tbody>\n",
       "</table>\n",
       "</div>"
      ],
      "text/plain": [
       "           Param_1   Param_2   Param_3   Param_4   Param_5   Param_6  \\\n",
       "Param_1   1.000000  0.009111 -0.121410  0.030232  0.061787 -0.047222   \n",
       "Param_2   0.009111  1.000000 -0.111060 -0.030045 -0.019284  0.061108   \n",
       "Param_3  -0.121410 -0.111060  1.000000  0.085553 -0.060653 -0.156778   \n",
       "Param_4   0.030232 -0.030045  0.085553  1.000000 -0.211793 -0.082777   \n",
       "Param_5   0.061787 -0.019284 -0.060653 -0.211793  1.000000  0.000978   \n",
       "Param_6  -0.047222  0.061108 -0.156778 -0.082777  0.000978  1.000000   \n",
       "Param_7  -0.091971 -0.041292 -0.015672 -0.116832 -0.092448 -0.020820   \n",
       "Param_8   0.052063  0.041967  0.059166  0.143691  0.029818  0.099783   \n",
       "Param_9   0.037588 -0.018727 -0.103035  0.012295  0.203813  0.115985   \n",
       "Param_10  0.059669 -0.017317  0.111491  0.037898 -0.020426 -0.081201   \n",
       "\n",
       "           Param_7   Param_8   Param_9  Param_10  \n",
       "Param_1  -0.091971  0.052063  0.037588  0.059669  \n",
       "Param_2  -0.041292  0.041967 -0.018727 -0.017317  \n",
       "Param_3  -0.015672  0.059166 -0.103035  0.111491  \n",
       "Param_4  -0.116832  0.143691  0.012295  0.037898  \n",
       "Param_5  -0.092448  0.029818  0.203813 -0.020426  \n",
       "Param_6  -0.020820  0.099783  0.115985 -0.081201  \n",
       "Param_7   1.000000  0.073752 -0.164779 -0.183608  \n",
       "Param_8   0.073752  1.000000  0.120998 -0.104746  \n",
       "Param_9  -0.164779  0.120998  1.000000  0.141708  \n",
       "Param_10 -0.183608 -0.104746  0.141708  1.000000  "
      ]
     },
     "execution_count": 6,
     "metadata": {},
     "output_type": "execute_result"
    }
   ],
   "source": [
    "#проверка на корреляцию парамеров\n",
    "x = data[[\"Param_1\",\"Param_2\", \"Param_3\",\"Param_4\",\"Param_5\",\"Param_6\",\"Param_7\",\"Param_8\",\"Param_9\",\"Param_10\"]]\n",
    "x.corr()"
   ]
  },
  {
   "cell_type": "code",
   "execution_count": 7,
   "metadata": {},
   "outputs": [
    {
     "data": {
      "text/plain": [
       "100"
      ]
     },
     "execution_count": 7,
     "metadata": {},
     "output_type": "execute_result"
    }
   ],
   "source": [
    "data['Machine'].count()"
   ]
  },
  {
   "cell_type": "code",
   "execution_count": 8,
   "metadata": {
    "scrolled": true
   },
   "outputs": [
    {
     "data": {
      "text/html": [
       "<div>\n",
       "<style scoped>\n",
       "    .dataframe tbody tr th:only-of-type {\n",
       "        vertical-align: middle;\n",
       "    }\n",
       "\n",
       "    .dataframe tbody tr th {\n",
       "        vertical-align: top;\n",
       "    }\n",
       "\n",
       "    .dataframe thead th {\n",
       "        text-align: right;\n",
       "    }\n",
       "</style>\n",
       "<table border=\"1\" class=\"dataframe\">\n",
       "  <thead>\n",
       "    <tr style=\"text-align: right;\">\n",
       "      <th></th>\n",
       "      <th>Machine</th>\n",
       "      <th>Param_1</th>\n",
       "      <th>Param_2</th>\n",
       "      <th>Param_3</th>\n",
       "      <th>Param_4</th>\n",
       "      <th>Param_5</th>\n",
       "      <th>Param_6</th>\n",
       "      <th>Param_7</th>\n",
       "      <th>Param_8</th>\n",
       "      <th>Param_9</th>\n",
       "      <th>Param_10</th>\n",
       "    </tr>\n",
       "  </thead>\n",
       "  <tbody>\n",
       "    <tr>\n",
       "      <th>0</th>\n",
       "      <td>Machine_1</td>\n",
       "      <td>0.623109</td>\n",
       "      <td>0.684335</td>\n",
       "      <td>7.914026</td>\n",
       "      <td>3.337340</td>\n",
       "      <td>0.302885</td>\n",
       "      <td>126.279441</td>\n",
       "      <td>4.098384</td>\n",
       "      <td>15.673653</td>\n",
       "      <td>53.076597</td>\n",
       "      <td>97.775208</td>\n",
       "    </tr>\n",
       "    <tr>\n",
       "      <th>1</th>\n",
       "      <td>Machine_1</td>\n",
       "      <td>3.967669</td>\n",
       "      <td>0.675796</td>\n",
       "      <td>12.569927</td>\n",
       "      <td>3.004854</td>\n",
       "      <td>0.303522</td>\n",
       "      <td>116.149786</td>\n",
       "      <td>3.820179</td>\n",
       "      <td>19.535909</td>\n",
       "      <td>42.421251</td>\n",
       "      <td>83.871174</td>\n",
       "    </tr>\n",
       "    <tr>\n",
       "      <th>2</th>\n",
       "      <td>Machine_1</td>\n",
       "      <td>1.636526</td>\n",
       "      <td>0.712062</td>\n",
       "      <td>9.115165</td>\n",
       "      <td>3.018322</td>\n",
       "      <td>0.299979</td>\n",
       "      <td>127.675531</td>\n",
       "      <td>3.896752</td>\n",
       "      <td>24.544040</td>\n",
       "      <td>44.100223</td>\n",
       "      <td>66.432834</td>\n",
       "    </tr>\n",
       "    <tr>\n",
       "      <th>3</th>\n",
       "      <td>Machine_1</td>\n",
       "      <td>1.985883</td>\n",
       "      <td>0.760357</td>\n",
       "      <td>8.196033</td>\n",
       "      <td>2.725621</td>\n",
       "      <td>0.300013</td>\n",
       "      <td>132.984342</td>\n",
       "      <td>3.554923</td>\n",
       "      <td>15.498113</td>\n",
       "      <td>39.543432</td>\n",
       "      <td>83.055755</td>\n",
       "    </tr>\n",
       "    <tr>\n",
       "      <th>4</th>\n",
       "      <td>Machine_1</td>\n",
       "      <td>3.204048</td>\n",
       "      <td>0.721569</td>\n",
       "      <td>8.657109</td>\n",
       "      <td>3.014473</td>\n",
       "      <td>0.294855</td>\n",
       "      <td>119.097573</td>\n",
       "      <td>4.092213</td>\n",
       "      <td>21.657736</td>\n",
       "      <td>46.008386</td>\n",
       "      <td>93.063520</td>\n",
       "    </tr>\n",
       "  </tbody>\n",
       "</table>\n",
       "</div>"
      ],
      "text/plain": [
       "     Machine   Param_1   Param_2    Param_3   Param_4   Param_5     Param_6  \\\n",
       "0  Machine_1  0.623109  0.684335   7.914026  3.337340  0.302885  126.279441   \n",
       "1  Machine_1  3.967669  0.675796  12.569927  3.004854  0.303522  116.149786   \n",
       "2  Machine_1  1.636526  0.712062   9.115165  3.018322  0.299979  127.675531   \n",
       "3  Machine_1  1.985883  0.760357   8.196033  2.725621  0.300013  132.984342   \n",
       "4  Machine_1  3.204048  0.721569   8.657109  3.014473  0.294855  119.097573   \n",
       "\n",
       "    Param_7    Param_8    Param_9   Param_10  \n",
       "0  4.098384  15.673653  53.076597  97.775208  \n",
       "1  3.820179  19.535909  42.421251  83.871174  \n",
       "2  3.896752  24.544040  44.100223  66.432834  \n",
       "3  3.554923  15.498113  39.543432  83.055755  \n",
       "4  4.092213  21.657736  46.008386  93.063520  "
      ]
     },
     "execution_count": 8,
     "metadata": {},
     "output_type": "execute_result"
    }
   ],
   "source": [
    "data1=data[data['Machine']=='Machine_1']\n",
    "data1.head()"
   ]
  },
  {
   "cell_type": "code",
   "execution_count": 9,
   "metadata": {
    "scrolled": false
   },
   "outputs": [
    {
     "data": {
      "text/html": [
       "<div>\n",
       "<style scoped>\n",
       "    .dataframe tbody tr th:only-of-type {\n",
       "        vertical-align: middle;\n",
       "    }\n",
       "\n",
       "    .dataframe tbody tr th {\n",
       "        vertical-align: top;\n",
       "    }\n",
       "\n",
       "    .dataframe thead th {\n",
       "        text-align: right;\n",
       "    }\n",
       "</style>\n",
       "<table border=\"1\" class=\"dataframe\">\n",
       "  <thead>\n",
       "    <tr style=\"text-align: right;\">\n",
       "      <th></th>\n",
       "      <th>Machine</th>\n",
       "      <th>Param_1</th>\n",
       "      <th>Param_2</th>\n",
       "      <th>Param_3</th>\n",
       "      <th>Param_4</th>\n",
       "      <th>Param_5</th>\n",
       "      <th>Param_6</th>\n",
       "      <th>Param_7</th>\n",
       "      <th>Param_8</th>\n",
       "      <th>Param_9</th>\n",
       "      <th>Param_10</th>\n",
       "    </tr>\n",
       "  </thead>\n",
       "  <tbody>\n",
       "    <tr>\n",
       "      <th>50</th>\n",
       "      <td>Machine_2</td>\n",
       "      <td>2.150801</td>\n",
       "      <td>0.725796</td>\n",
       "      <td>12.620588</td>\n",
       "      <td>3.426446</td>\n",
       "      <td>0.299422</td>\n",
       "      <td>150.040925</td>\n",
       "      <td>4.133623</td>\n",
       "      <td>22.782521</td>\n",
       "      <td>53.407877</td>\n",
       "      <td>77.608490</td>\n",
       "    </tr>\n",
       "    <tr>\n",
       "      <th>51</th>\n",
       "      <td>Machine_2</td>\n",
       "      <td>3.571953</td>\n",
       "      <td>0.701840</td>\n",
       "      <td>5.407410</td>\n",
       "      <td>2.972669</td>\n",
       "      <td>0.302925</td>\n",
       "      <td>121.647895</td>\n",
       "      <td>3.297148</td>\n",
       "      <td>24.344477</td>\n",
       "      <td>43.752287</td>\n",
       "      <td>72.497033</td>\n",
       "    </tr>\n",
       "    <tr>\n",
       "      <th>52</th>\n",
       "      <td>Machine_2</td>\n",
       "      <td>4.130415</td>\n",
       "      <td>0.735178</td>\n",
       "      <td>13.761959</td>\n",
       "      <td>3.176571</td>\n",
       "      <td>0.303078</td>\n",
       "      <td>135.253020</td>\n",
       "      <td>3.828430</td>\n",
       "      <td>24.510991</td>\n",
       "      <td>45.165695</td>\n",
       "      <td>84.946909</td>\n",
       "    </tr>\n",
       "    <tr>\n",
       "      <th>53</th>\n",
       "      <td>Machine_2</td>\n",
       "      <td>4.059328</td>\n",
       "      <td>0.682629</td>\n",
       "      <td>10.875329</td>\n",
       "      <td>3.034735</td>\n",
       "      <td>0.302063</td>\n",
       "      <td>118.706604</td>\n",
       "      <td>3.612618</td>\n",
       "      <td>22.723635</td>\n",
       "      <td>49.561084</td>\n",
       "      <td>110.068311</td>\n",
       "    </tr>\n",
       "    <tr>\n",
       "      <th>54</th>\n",
       "      <td>Machine_2</td>\n",
       "      <td>2.792825</td>\n",
       "      <td>0.727061</td>\n",
       "      <td>9.959154</td>\n",
       "      <td>2.685683</td>\n",
       "      <td>0.296529</td>\n",
       "      <td>149.132172</td>\n",
       "      <td>4.332814</td>\n",
       "      <td>22.244308</td>\n",
       "      <td>40.997487</td>\n",
       "      <td>98.367357</td>\n",
       "    </tr>\n",
       "  </tbody>\n",
       "</table>\n",
       "</div>"
      ],
      "text/plain": [
       "      Machine   Param_1   Param_2    Param_3   Param_4   Param_5     Param_6  \\\n",
       "50  Machine_2  2.150801  0.725796  12.620588  3.426446  0.299422  150.040925   \n",
       "51  Machine_2  3.571953  0.701840   5.407410  2.972669  0.302925  121.647895   \n",
       "52  Machine_2  4.130415  0.735178  13.761959  3.176571  0.303078  135.253020   \n",
       "53  Machine_2  4.059328  0.682629  10.875329  3.034735  0.302063  118.706604   \n",
       "54  Machine_2  2.792825  0.727061   9.959154  2.685683  0.296529  149.132172   \n",
       "\n",
       "     Param_7    Param_8    Param_9    Param_10  \n",
       "50  4.133623  22.782521  53.407877   77.608490  \n",
       "51  3.297148  24.344477  43.752287   72.497033  \n",
       "52  3.828430  24.510991  45.165695   84.946909  \n",
       "53  3.612618  22.723635  49.561084  110.068311  \n",
       "54  4.332814  22.244308  40.997487   98.367357  "
      ]
     },
     "execution_count": 9,
     "metadata": {},
     "output_type": "execute_result"
    }
   ],
   "source": [
    "data2=data[data['Machine']=='Machine_2']\n",
    "data2.head()"
   ]
  },
  {
   "cell_type": "code",
   "execution_count": 10,
   "metadata": {},
   "outputs": [
    {
     "data": {
      "text/html": [
       "<div>\n",
       "<style scoped>\n",
       "    .dataframe tbody tr th:only-of-type {\n",
       "        vertical-align: middle;\n",
       "    }\n",
       "\n",
       "    .dataframe tbody tr th {\n",
       "        vertical-align: top;\n",
       "    }\n",
       "\n",
       "    .dataframe thead th {\n",
       "        text-align: right;\n",
       "    }\n",
       "</style>\n",
       "<table border=\"1\" class=\"dataframe\">\n",
       "  <thead>\n",
       "    <tr style=\"text-align: right;\">\n",
       "      <th></th>\n",
       "      <th>Param_1</th>\n",
       "      <th>Param_2</th>\n",
       "      <th>Param_3</th>\n",
       "      <th>Param_4</th>\n",
       "      <th>Param_5</th>\n",
       "      <th>Param_6</th>\n",
       "      <th>Param_7</th>\n",
       "      <th>Param_8</th>\n",
       "      <th>Param_9</th>\n",
       "      <th>Param_10</th>\n",
       "    </tr>\n",
       "  </thead>\n",
       "  <tbody>\n",
       "    <tr>\n",
       "      <th>count</th>\n",
       "      <td>50.000000</td>\n",
       "      <td>50.000000</td>\n",
       "      <td>50.000000</td>\n",
       "      <td>50.000000</td>\n",
       "      <td>50.000000</td>\n",
       "      <td>50.000000</td>\n",
       "      <td>50.000000</td>\n",
       "      <td>50.000000</td>\n",
       "      <td>50.000000</td>\n",
       "      <td>50.000000</td>\n",
       "    </tr>\n",
       "    <tr>\n",
       "      <th>mean</th>\n",
       "      <td>2.577627</td>\n",
       "      <td>0.701518</td>\n",
       "      <td>10.082987</td>\n",
       "      <td>3.035849</td>\n",
       "      <td>0.299367</td>\n",
       "      <td>121.384048</td>\n",
       "      <td>3.962276</td>\n",
       "      <td>19.594937</td>\n",
       "      <td>46.311913</td>\n",
       "      <td>85.853653</td>\n",
       "    </tr>\n",
       "    <tr>\n",
       "      <th>std</th>\n",
       "      <td>1.025124</td>\n",
       "      <td>0.020901</td>\n",
       "      <td>1.960505</td>\n",
       "      <td>0.259479</td>\n",
       "      <td>0.002833</td>\n",
       "      <td>14.789750</td>\n",
       "      <td>0.461060</td>\n",
       "      <td>3.737980</td>\n",
       "      <td>6.920223</td>\n",
       "      <td>9.301349</td>\n",
       "    </tr>\n",
       "    <tr>\n",
       "      <th>min</th>\n",
       "      <td>0.158984</td>\n",
       "      <td>0.666373</td>\n",
       "      <td>5.442064</td>\n",
       "      <td>2.391265</td>\n",
       "      <td>0.293767</td>\n",
       "      <td>94.874117</td>\n",
       "      <td>2.933010</td>\n",
       "      <td>10.330191</td>\n",
       "      <td>33.486319</td>\n",
       "      <td>63.214579</td>\n",
       "    </tr>\n",
       "    <tr>\n",
       "      <th>25%</th>\n",
       "      <td>1.873458</td>\n",
       "      <td>0.684840</td>\n",
       "      <td>8.674307</td>\n",
       "      <td>2.888223</td>\n",
       "      <td>0.297056</td>\n",
       "      <td>112.601593</td>\n",
       "      <td>3.565380</td>\n",
       "      <td>17.328793</td>\n",
       "      <td>40.404852</td>\n",
       "      <td>79.952772</td>\n",
       "    </tr>\n",
       "    <tr>\n",
       "      <th>50%</th>\n",
       "      <td>2.624579</td>\n",
       "      <td>0.700563</td>\n",
       "      <td>10.242010</td>\n",
       "      <td>3.059733</td>\n",
       "      <td>0.299740</td>\n",
       "      <td>119.577106</td>\n",
       "      <td>3.968208</td>\n",
       "      <td>19.442969</td>\n",
       "      <td>45.841395</td>\n",
       "      <td>85.003152</td>\n",
       "    </tr>\n",
       "    <tr>\n",
       "      <th>75%</th>\n",
       "      <td>3.234496</td>\n",
       "      <td>0.713017</td>\n",
       "      <td>11.299089</td>\n",
       "      <td>3.174096</td>\n",
       "      <td>0.301197</td>\n",
       "      <td>129.146710</td>\n",
       "      <td>4.256283</td>\n",
       "      <td>22.045634</td>\n",
       "      <td>51.823766</td>\n",
       "      <td>93.648453</td>\n",
       "    </tr>\n",
       "    <tr>\n",
       "      <th>max</th>\n",
       "      <td>4.720298</td>\n",
       "      <td>0.760357</td>\n",
       "      <td>13.808204</td>\n",
       "      <td>3.602496</td>\n",
       "      <td>0.306403</td>\n",
       "      <td>164.100755</td>\n",
       "      <td>4.951977</td>\n",
       "      <td>26.800399</td>\n",
       "      <td>59.901118</td>\n",
       "      <td>111.074631</td>\n",
       "    </tr>\n",
       "  </tbody>\n",
       "</table>\n",
       "</div>"
      ],
      "text/plain": [
       "         Param_1    Param_2    Param_3    Param_4    Param_5     Param_6  \\\n",
       "count  50.000000  50.000000  50.000000  50.000000  50.000000   50.000000   \n",
       "mean    2.577627   0.701518  10.082987   3.035849   0.299367  121.384048   \n",
       "std     1.025124   0.020901   1.960505   0.259479   0.002833   14.789750   \n",
       "min     0.158984   0.666373   5.442064   2.391265   0.293767   94.874117   \n",
       "25%     1.873458   0.684840   8.674307   2.888223   0.297056  112.601593   \n",
       "50%     2.624579   0.700563  10.242010   3.059733   0.299740  119.577106   \n",
       "75%     3.234496   0.713017  11.299089   3.174096   0.301197  129.146710   \n",
       "max     4.720298   0.760357  13.808204   3.602496   0.306403  164.100755   \n",
       "\n",
       "         Param_7    Param_8    Param_9    Param_10  \n",
       "count  50.000000  50.000000  50.000000   50.000000  \n",
       "mean    3.962276  19.594937  46.311913   85.853653  \n",
       "std     0.461060   3.737980   6.920223    9.301349  \n",
       "min     2.933010  10.330191  33.486319   63.214579  \n",
       "25%     3.565380  17.328793  40.404852   79.952772  \n",
       "50%     3.968208  19.442969  45.841395   85.003152  \n",
       "75%     4.256283  22.045634  51.823766   93.648453  \n",
       "max     4.951977  26.800399  59.901118  111.074631  "
      ]
     },
     "execution_count": 10,
     "metadata": {},
     "output_type": "execute_result"
    }
   ],
   "source": [
    "data1.describe()"
   ]
  },
  {
   "cell_type": "code",
   "execution_count": 11,
   "metadata": {
    "scrolled": true
   },
   "outputs": [
    {
     "data": {
      "text/html": [
       "<div>\n",
       "<style scoped>\n",
       "    .dataframe tbody tr th:only-of-type {\n",
       "        vertical-align: middle;\n",
       "    }\n",
       "\n",
       "    .dataframe tbody tr th {\n",
       "        vertical-align: top;\n",
       "    }\n",
       "\n",
       "    .dataframe thead th {\n",
       "        text-align: right;\n",
       "    }\n",
       "</style>\n",
       "<table border=\"1\" class=\"dataframe\">\n",
       "  <thead>\n",
       "    <tr style=\"text-align: right;\">\n",
       "      <th></th>\n",
       "      <th>Param_1</th>\n",
       "      <th>Param_2</th>\n",
       "      <th>Param_3</th>\n",
       "      <th>Param_4</th>\n",
       "      <th>Param_5</th>\n",
       "      <th>Param_6</th>\n",
       "      <th>Param_7</th>\n",
       "      <th>Param_8</th>\n",
       "      <th>Param_9</th>\n",
       "      <th>Param_10</th>\n",
       "    </tr>\n",
       "  </thead>\n",
       "  <tbody>\n",
       "    <tr>\n",
       "      <th>count</th>\n",
       "      <td>50.000000</td>\n",
       "      <td>50.000000</td>\n",
       "      <td>50.000000</td>\n",
       "      <td>50.000000</td>\n",
       "      <td>50.000000</td>\n",
       "      <td>50.000000</td>\n",
       "      <td>50.000000</td>\n",
       "      <td>50.000000</td>\n",
       "      <td>50.000000</td>\n",
       "      <td>50.000000</td>\n",
       "    </tr>\n",
       "    <tr>\n",
       "      <th>mean</th>\n",
       "      <td>3.022760</td>\n",
       "      <td>0.697141</td>\n",
       "      <td>10.280759</td>\n",
       "      <td>2.976125</td>\n",
       "      <td>0.300223</td>\n",
       "      <td>119.466655</td>\n",
       "      <td>3.986066</td>\n",
       "      <td>20.564386</td>\n",
       "      <td>46.111092</td>\n",
       "      <td>84.082408</td>\n",
       "    </tr>\n",
       "    <tr>\n",
       "      <th>std</th>\n",
       "      <td>0.914272</td>\n",
       "      <td>0.021114</td>\n",
       "      <td>1.826545</td>\n",
       "      <td>0.302270</td>\n",
       "      <td>0.003065</td>\n",
       "      <td>14.931612</td>\n",
       "      <td>0.461178</td>\n",
       "      <td>3.570108</td>\n",
       "      <td>7.160670</td>\n",
       "      <td>9.677133</td>\n",
       "    </tr>\n",
       "    <tr>\n",
       "      <th>min</th>\n",
       "      <td>1.344049</td>\n",
       "      <td>0.656771</td>\n",
       "      <td>5.407410</td>\n",
       "      <td>2.312959</td>\n",
       "      <td>0.293191</td>\n",
       "      <td>86.606375</td>\n",
       "      <td>3.171870</td>\n",
       "      <td>13.137744</td>\n",
       "      <td>28.693738</td>\n",
       "      <td>62.930868</td>\n",
       "    </tr>\n",
       "    <tr>\n",
       "      <th>25%</th>\n",
       "      <td>2.291585</td>\n",
       "      <td>0.679971</td>\n",
       "      <td>9.194188</td>\n",
       "      <td>2.774569</td>\n",
       "      <td>0.298095</td>\n",
       "      <td>108.187102</td>\n",
       "      <td>3.703797</td>\n",
       "      <td>17.780155</td>\n",
       "      <td>42.084684</td>\n",
       "      <td>78.522835</td>\n",
       "    </tr>\n",
       "    <tr>\n",
       "      <th>50%</th>\n",
       "      <td>3.069359</td>\n",
       "      <td>0.696831</td>\n",
       "      <td>10.253631</td>\n",
       "      <td>2.958667</td>\n",
       "      <td>0.300229</td>\n",
       "      <td>120.724182</td>\n",
       "      <td>3.895572</td>\n",
       "      <td>20.019402</td>\n",
       "      <td>45.244673</td>\n",
       "      <td>84.717965</td>\n",
       "    </tr>\n",
       "    <tr>\n",
       "      <th>75%</th>\n",
       "      <td>3.565653</td>\n",
       "      <td>0.711121</td>\n",
       "      <td>11.404921</td>\n",
       "      <td>3.183193</td>\n",
       "      <td>0.302497</td>\n",
       "      <td>127.707072</td>\n",
       "      <td>4.215006</td>\n",
       "      <td>22.778079</td>\n",
       "      <td>51.316826</td>\n",
       "      <td>88.121073</td>\n",
       "    </tr>\n",
       "    <tr>\n",
       "      <th>max</th>\n",
       "      <td>5.120438</td>\n",
       "      <td>0.739001</td>\n",
       "      <td>14.342086</td>\n",
       "      <td>3.631902</td>\n",
       "      <td>0.306635</td>\n",
       "      <td>154.365911</td>\n",
       "      <td>5.141987</td>\n",
       "      <td>30.410050</td>\n",
       "      <td>60.449195</td>\n",
       "      <td>110.068311</td>\n",
       "    </tr>\n",
       "  </tbody>\n",
       "</table>\n",
       "</div>"
      ],
      "text/plain": [
       "         Param_1    Param_2    Param_3    Param_4    Param_5     Param_6  \\\n",
       "count  50.000000  50.000000  50.000000  50.000000  50.000000   50.000000   \n",
       "mean    3.022760   0.697141  10.280759   2.976125   0.300223  119.466655   \n",
       "std     0.914272   0.021114   1.826545   0.302270   0.003065   14.931612   \n",
       "min     1.344049   0.656771   5.407410   2.312959   0.293191   86.606375   \n",
       "25%     2.291585   0.679971   9.194188   2.774569   0.298095  108.187102   \n",
       "50%     3.069359   0.696831  10.253631   2.958667   0.300229  120.724182   \n",
       "75%     3.565653   0.711121  11.404921   3.183193   0.302497  127.707072   \n",
       "max     5.120438   0.739001  14.342086   3.631902   0.306635  154.365911   \n",
       "\n",
       "         Param_7    Param_8    Param_9    Param_10  \n",
       "count  50.000000  50.000000  50.000000   50.000000  \n",
       "mean    3.986066  20.564386  46.111092   84.082408  \n",
       "std     0.461178   3.570108   7.160670    9.677133  \n",
       "min     3.171870  13.137744  28.693738   62.930868  \n",
       "25%     3.703797  17.780155  42.084684   78.522835  \n",
       "50%     3.895572  20.019402  45.244673   84.717965  \n",
       "75%     4.215006  22.778079  51.316826   88.121073  \n",
       "max     5.141987  30.410050  60.449195  110.068311  "
      ]
     },
     "execution_count": 11,
     "metadata": {},
     "output_type": "execute_result"
    }
   ],
   "source": [
    "data2.describe()"
   ]
  },
  {
   "cell_type": "code",
   "execution_count": 12,
   "metadata": {},
   "outputs": [
    {
     "data": {
      "text/plain": [
       "[2.5776265308,\n",
       " 0.7015179661618389,\n",
       " 10.082987163771666,\n",
       " 3.035848961296233,\n",
       " 0.2993668727609892,\n",
       " 121.3840484007926,\n",
       " 3.962275774990782,\n",
       " 19.594936529828345,\n",
       " 46.31191331533941,\n",
       " 85.85365254338645]"
      ]
     },
     "execution_count": 12,
     "metadata": {},
     "output_type": "execute_result"
    }
   ],
   "source": [
    "mean_m1=[data1['Param_1'].mean(),data1['Param_2'].mean(),data1['Param_3'].mean(),data1['Param_4'].mean(),data1['Param_5'].mean(),data1['Param_6'].mean(),\n",
    "        data1['Param_7'].mean(),data1['Param_8'].mean(),data1['Param_9'].mean(),data1['Param_10'].mean()]\n",
    "mean_m1"
   ]
  },
  {
   "cell_type": "code",
   "execution_count": 13,
   "metadata": {
    "scrolled": true
   },
   "outputs": [
    {
     "data": {
      "text/plain": [
       "[3.0227600064000004,\n",
       " 0.6971411171138481,\n",
       " 10.280759254909484,\n",
       " 2.9761254082993536,\n",
       " 0.30022257195315344,\n",
       " 119.46665478514947,\n",
       " 3.9860656093194216,\n",
       " 20.564386021877713,\n",
       " 46.111091861074364,\n",
       " 84.08240790402408]"
      ]
     },
     "execution_count": 13,
     "metadata": {},
     "output_type": "execute_result"
    }
   ],
   "source": [
    "mean_m2=[data2['Param_1'].mean(),data2['Param_2'].mean(),data2['Param_3'].mean(),data2['Param_4'].mean(),data2['Param_5'].mean(),data2['Param_6'].mean(),\n",
    "        data2['Param_7'].mean(),data2['Param_8'].mean(),data2['Param_9'].mean(),data2['Param_10'].mean()]\n",
    "mean_m2"
   ]
  },
  {
   "cell_type": "code",
   "execution_count": 14,
   "metadata": {
    "scrolled": true
   },
   "outputs": [
    {
     "data": {
      "text/plain": [
       "[1.0508791720319448,\n",
       " 0.0004368705877603518,\n",
       " 3.843580230226786,\n",
       " 0.0673294672071261,\n",
       " 8.0237511760025e-06,\n",
       " 218.73670294717596,\n",
       " 0.21257640572741912,\n",
       " 13.972498093565505,\n",
       " 47.889487218238365,\n",
       " 86.51510050568184]"
      ]
     },
     "execution_count": 14,
     "metadata": {},
     "output_type": "execute_result"
    }
   ],
   "source": [
    "var_m1=[data1['Param_1'].var(),data1['Param_2'].var(),data1['Param_3'].var(),data1['Param_4'].var(),data1['Param_5'].var(),data1['Param_6'].var(),\n",
    "        data1['Param_7'].var(),data1['Param_8'].var(),data1['Param_9'].var(),data1['Param_10'].var()]\n",
    "var_m1"
   ]
  },
  {
   "cell_type": "code",
   "execution_count": 15,
   "metadata": {
    "scrolled": true
   },
   "outputs": [
    {
     "data": {
      "text/plain": [
       "[0.8358924629493268,\n",
       " 0.0004458076398984698,\n",
       " 3.336267685215176,\n",
       " 0.09136689967634025,\n",
       " 9.393427990564297e-06,\n",
       " 222.95303277389155,\n",
       " 0.212685284837342,\n",
       " 12.745674580675995,\n",
       " 51.275193005721974,\n",
       " 93.64690280434354]"
      ]
     },
     "execution_count": 15,
     "metadata": {},
     "output_type": "execute_result"
    }
   ],
   "source": [
    "var_m2=[data2['Param_1'].var(),data2['Param_2'].var(),data2['Param_3'].var(),data2['Param_4'].var(),data2['Param_5'].var(),data2['Param_6'].var(),\n",
    "        data2['Param_7'].var(),data2['Param_8'].var(),data2['Param_9'].var(),data2['Param_10'].var()]\n",
    "var_m2"
   ]
  },
  {
   "cell_type": "code",
   "execution_count": 16,
   "metadata": {},
   "outputs": [],
   "source": [
    "#Hoi:немає різниці у середніх значеннях\n",
    "#Hi:існує різниця у середніх значеннях\n",
    "\n",
    "#Припускаємо, що H0 це правдива гіпотеза, тоді вірогідність іншої розраховано нижче, для кожного параметру"
   ]
  },
  {
   "cell_type": "code",
   "execution_count": 32,
   "metadata": {},
   "outputs": [
    {
     "data": {
      "text/plain": [
       "0.021935814308023948"
      ]
     },
     "execution_count": 32,
     "metadata": {},
     "output_type": "execute_result"
    }
   ],
   "source": [
    "d1 = mean_m1[0] - mean_m2[0]\n",
    "W1=d1/np.sqrt(var_m1[0]/50+var_m2[0]/50)\n",
    "p1=2*stats.norm.cdf(-np.abs(W1))\n",
    "p1"
   ]
  },
  {
   "cell_type": "code",
   "execution_count": 20,
   "metadata": {},
   "outputs": [
    {
     "data": {
      "text/plain": [
       "0.2975477861196233"
      ]
     },
     "execution_count": 20,
     "metadata": {},
     "output_type": "execute_result"
    }
   ],
   "source": [
    "d2 = mean_m1[1] - mean_m2[1]\n",
    "W2=d2/np.sqrt(var_m1[1]/50+var_m2[1]/50)\n",
    "p2=2*stats.norm.cdf(-np.abs(W2))\n",
    "p2"
   ]
  },
  {
   "cell_type": "code",
   "execution_count": 21,
   "metadata": {},
   "outputs": [
    {
     "data": {
      "text/plain": [
       "0.6017357006140999"
      ]
     },
     "execution_count": 21,
     "metadata": {},
     "output_type": "execute_result"
    }
   ],
   "source": [
    "d3 = mean_m1[2] - mean_m2[2]\n",
    "W3=d3/np.sqrt(var_m1[2]/50+var_m2[2]/50)\n",
    "p3=2*stats.norm.cdf(-np.abs(W3))\n",
    "p3"
   ]
  },
  {
   "cell_type": "code",
   "execution_count": 22,
   "metadata": {},
   "outputs": [
    {
     "data": {
      "text/plain": [
       "0.28909876160096937"
      ]
     },
     "execution_count": 22,
     "metadata": {},
     "output_type": "execute_result"
    }
   ],
   "source": [
    "d4 = mean_m1[3] - mean_m2[3]\n",
    "W4=d4/np.sqrt(var_m1[3]/50+var_m2[3]/50)\n",
    "p4=2*stats.norm.cdf(-np.abs(W4))\n",
    "p4"
   ]
  },
  {
   "cell_type": "code",
   "execution_count": 23,
   "metadata": {},
   "outputs": [
    {
     "data": {
      "text/plain": [
       "0.14710580806272044"
      ]
     },
     "execution_count": 23,
     "metadata": {},
     "output_type": "execute_result"
    }
   ],
   "source": [
    "d5 = mean_m1[4] - mean_m2[4]\n",
    "W5=d5/np.sqrt(var_m1[4]/50+var_m2[4]/50)\n",
    "p5=2*stats.norm.cdf(-np.abs(W5))\n",
    "p5"
   ]
  },
  {
   "cell_type": "code",
   "execution_count": 24,
   "metadata": {},
   "outputs": [
    {
     "data": {
      "text/plain": [
       "0.5188521965600238"
      ]
     },
     "execution_count": 24,
     "metadata": {},
     "output_type": "execute_result"
    }
   ],
   "source": [
    "d6 = mean_m1[5] - mean_m2[5]\n",
    "W6=d6/np.sqrt(var_m1[5]/50+var_m2[5]/50)\n",
    "p6=2*stats.norm.cdf(-np.abs(W6))\n",
    "p6"
   ]
  },
  {
   "cell_type": "code",
   "execution_count": 25,
   "metadata": {},
   "outputs": [
    {
     "data": {
      "text/plain": [
       "0.7964396479605329"
      ]
     },
     "execution_count": 25,
     "metadata": {},
     "output_type": "execute_result"
    }
   ],
   "source": [
    "d7 = mean_m1[6] - mean_m2[6]\n",
    "W7=d7/np.sqrt(var_m1[6]/50+var_m2[6]/50)\n",
    "p7=2*stats.norm.cdf(-np.abs(W7))\n",
    "p7"
   ]
  },
  {
   "cell_type": "code",
   "execution_count": 26,
   "metadata": {},
   "outputs": [
    {
     "data": {
      "text/plain": [
       "0.1847756942292852"
      ]
     },
     "execution_count": 26,
     "metadata": {},
     "output_type": "execute_result"
    }
   ],
   "source": [
    "d8 = mean_m1[7] - mean_m2[7]\n",
    "W8=d8/np.sqrt(var_m1[7]/50+var_m2[7]/50)\n",
    "p8=2*stats.norm.cdf(-np.abs(W8))\n",
    "p8"
   ]
  },
  {
   "cell_type": "code",
   "execution_count": 27,
   "metadata": {},
   "outputs": [
    {
     "data": {
      "text/plain": [
       "0.8866068556398041"
      ]
     },
     "execution_count": 27,
     "metadata": {},
     "output_type": "execute_result"
    }
   ],
   "source": [
    "d9 = mean_m1[8] - mean_m2[8]\n",
    "W9=d9/np.sqrt(var_m1[8]/50+var_m2[8]/50)\n",
    "p9=2*stats.norm.cdf(-np.abs(W9))\n",
    "p9"
   ]
  },
  {
   "cell_type": "code",
   "execution_count": 28,
   "metadata": {},
   "outputs": [
    {
     "data": {
      "text/plain": [
       "0.3507641679575966"
      ]
     },
     "execution_count": 28,
     "metadata": {},
     "output_type": "execute_result"
    }
   ],
   "source": [
    "d10 = mean_m1[9] - mean_m2[9]\n",
    "W10=d10/np.sqrt(var_m1[9]/50+var_m2[9]/50)\n",
    "p10=2*stats.norm.cdf(-np.abs(W10))\n",
    "p10"
   ]
  },
  {
   "cell_type": "code",
   "execution_count": 33,
   "metadata": {},
   "outputs": [
    {
     "data": {
      "text/plain": [
       "{'p1': 0.021935814308023948,\n",
       " 'p2': 0.2975477861196233,\n",
       " 'p3': 0.6017357006140999,\n",
       " 'p4': 0.28909876160096937,\n",
       " 'p5': 0.14710580806272044,\n",
       " 'p6': 0.5188521965600238,\n",
       " 'p7': 0.7964396479605329,\n",
       " 'p8': 0.1847756942292852,\n",
       " 'p9': 0.8866068556398041,\n",
       " 'p10': 0.3507641679575966}"
      ]
     },
     "execution_count": 33,
     "metadata": {},
     "output_type": "execute_result"
    }
   ],
   "source": [
    "p={'p1':p1,'p2':p2,'p3':p3,'p4':p4,'p5':p5,'p6':p6,'p7':p7,'p8':p8,'p9':p9,'p10':p10}\n",
    "p #причина поломки, точно не перший параметр"
   ]
  },
  {
   "cell_type": "code",
   "execution_count": 34,
   "metadata": {
    "scrolled": false
   },
   "outputs": [
    {
     "data": {
      "text/plain": [
       "{'p1': 0.021935814308023948,\n",
       " 'p5': 0.14710580806272044,\n",
       " 'p8': 0.1847756942292852,\n",
       " 'p4': 0.28909876160096937,\n",
       " 'p2': 0.2975477861196233,\n",
       " 'p10': 0.3507641679575966,\n",
       " 'p6': 0.5188521965600238,\n",
       " 'p3': 0.6017357006140999,\n",
       " 'p7': 0.7964396479605329,\n",
       " 'p9': 0.8866068556398041}"
      ]
     },
     "execution_count": 34,
     "metadata": {},
     "output_type": "execute_result"
    }
   ],
   "source": [
    "{k: v for k, v in sorted(p.items(), key=lambda item: item[1])} #сортування"
   ]
  },
  {
   "cell_type": "code",
   "execution_count": 60,
   "metadata": {
    "scrolled": true
   },
   "outputs": [
    {
     "data": {
      "text/plain": [
       "{1: 0.005,\n",
       " 2: 0.01,\n",
       " 3: 0.015,\n",
       " 4: 0.02,\n",
       " 5: 0.025,\n",
       " 6: 0.03,\n",
       " 7: 0.035,\n",
       " 8: 0.04,\n",
       " 9: 0.045,\n",
       " 10: 0.05}"
      ]
     },
     "execution_count": 60,
     "metadata": {},
     "output_type": "execute_result"
    }
   ],
   "source": [
    "t={1:0.005, 2:0.01, 3:0.015, 4:0.02, 5:0.025,6:0.03, 7:0.035, 8:0.04, 9:0.045, 10:0.05} #Поправка Бенджамини — Хохберга \n",
    "t"
   ]
  },
  {
   "cell_type": "code",
   "execution_count": null,
   "metadata": {},
   "outputs": [],
   "source": [
    "#Відповідь: при порівнянні елементів з p та t, всі елементи p>t. \n",
    "#Гіпотези Hi відхидяються, представлені параметри не відрізняються,машина працює справно або потрібні інші параметри."
   ]
  },
  {
   "cell_type": "markdown",
   "metadata": {
    "id": "iuNIt_0dYQfe"
   },
   "source": [
    "## Задание 4: Будь осторожен"
   ]
  },
  {
   "cell_type": "markdown",
   "metadata": {
    "id": "NrBtLPitYQff"
   },
   "source": [
    "Создаем случайные данные из распределения Гаусса:"
   ]
  },
  {
   "cell_type": "code",
   "execution_count": 139,
   "metadata": {
    "id": "-YNBUa9GYQff"
   },
   "outputs": [],
   "source": [
    "dat1 = stats.norm.rvs(loc=5,scale=1,size=50)"
   ]
  },
  {
   "cell_type": "markdown",
   "metadata": {
    "id": "WGs9-NELYQfg"
   },
   "source": [
    "А теперь мы создадим случайные выборки из этого же распределения, пока разница их средних значений не будет больше 0.6"
   ]
  },
  {
   "cell_type": "code",
   "execution_count": 140,
   "metadata": {
    "id": "7woRtTl1YQfg"
   },
   "outputs": [],
   "source": [
    "meandiff = 0"
   ]
  },
  {
   "cell_type": "code",
   "execution_count": 141,
   "metadata": {
    "id": "ECoQYpcuYQfg"
   },
   "outputs": [],
   "source": [
    "n=0"
   ]
  },
  {
   "cell_type": "code",
   "execution_count": 142,
   "metadata": {
    "id": "BnX4QtMCYQfh"
   },
   "outputs": [],
   "source": [
    "while (meandiff<0.6):\n",
    "    dat2= stats.norm.rvs(loc=5,scale=1,size=50)\n",
    "    meandiff = np.abs(dat1.mean()-dat2.mean())\n",
    "    n=n+1"
   ]
  },
  {
   "cell_type": "markdown",
   "metadata": {
    "id": "N5-J02bzYQfh"
   },
   "source": [
    "Какой размер n в вашем случае? Чтобы вы решили, если бы вы получили эти данные и провели проверку гипотез о том, выходят ли они из распределения с одинаковым ожиданием? Что вам это вместе с размером n говорит о надежности проверки гипотез?"
   ]
  },
  {
   "cell_type": "code",
   "execution_count": 143,
   "metadata": {
    "id": "k7aj475DYQfh"
   },
   "outputs": [
    {
     "data": {
      "text/plain": [
       "0.6173630908798824"
      ]
     },
     "execution_count": 143,
     "metadata": {},
     "output_type": "execute_result"
    }
   ],
   "source": [
    "meandiff"
   ]
  },
  {
   "cell_type": "code",
   "execution_count": 144,
   "metadata": {},
   "outputs": [
    {
     "data": {
      "text/plain": [
       "5848"
      ]
     },
     "execution_count": 144,
     "metadata": {},
     "output_type": "execute_result"
    }
   ],
   "source": [
    "n"
   ]
  },
  {
   "cell_type": "code",
   "execution_count": 145,
   "metadata": {},
   "outputs": [
    {
     "data": {
      "text/plain": [
       "5.535418419196427"
      ]
     },
     "execution_count": 145,
     "metadata": {},
     "output_type": "execute_result"
    }
   ],
   "source": [
    "dat2.mean()"
   ]
  },
  {
   "cell_type": "code",
   "execution_count": 146,
   "metadata": {},
   "outputs": [
    {
     "data": {
      "text/plain": [
       "4.9180553283165445"
      ]
     },
     "execution_count": 146,
     "metadata": {},
     "output_type": "execute_result"
    }
   ],
   "source": [
    "dat1.mean()"
   ]
  },
  {
   "cell_type": "code",
   "execution_count": 147,
   "metadata": {},
   "outputs": [
    {
     "data": {
      "text/plain": [
       "-0.6173630908798824"
      ]
     },
     "execution_count": 147,
     "metadata": {},
     "output_type": "execute_result"
    }
   ],
   "source": [
    "#H_0: мат ожидание одинаковое\n",
    "#H_1: мат ожидание разное"
   ]
  },
  {
   "cell_type": "code",
   "execution_count": 152,
   "metadata": {},
   "outputs": [
    {
     "data": {
      "text/plain": [
       "4.045234347806566"
      ]
     },
     "execution_count": 152,
     "metadata": {},
     "output_type": "execute_result"
    }
   ],
   "source": [
    "W=meandiff/np.sqrt(dat1.var()/50+dat2.var()/n)\n",
    "W"
   ]
  },
  {
   "cell_type": "code",
   "execution_count": 153,
   "metadata": {},
   "outputs": [],
   "source": [
    "p=2*(1-stats.norm.cdf(W,0,1))"
   ]
  },
  {
   "cell_type": "code",
   "execution_count": 154,
   "metadata": {},
   "outputs": [
    {
     "data": {
      "text/plain": [
       "5.22708090839874e-05"
      ]
     },
     "execution_count": 154,
     "metadata": {},
     "output_type": "execute_result"
    }
   ],
   "source": [
    "p #по мат сподівання рівні\n",
    "#чим більше значення n другої вибірки, тим його результат прямує до нуля і вся сума це результат першого доданку."
   ]
  }
 ],
 "metadata": {
  "colab": {
   "provenance": []
  },
  "kernelspec": {
   "display_name": "Python 3 (ipykernel)",
   "language": "python",
   "name": "python3"
  },
  "language_info": {
   "codemirror_mode": {
    "name": "ipython",
    "version": 3
   },
   "file_extension": ".py",
   "mimetype": "text/x-python",
   "name": "python",
   "nbconvert_exporter": "python",
   "pygments_lexer": "ipython3",
   "version": "3.9.12"
  }
 },
 "nbformat": 4,
 "nbformat_minor": 1
}
