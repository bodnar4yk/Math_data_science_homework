{
 "cells": [
  {
   "cell_type": "markdown",
   "metadata": {
    "id": "CiQ6XmOqKe1O"
   },
   "source": [
    "# Домашнее Задание 1"
   ]
  },
  {
   "cell_type": "markdown",
   "metadata": {
    "id": "5bL64_fcKe1S"
   },
   "source": [
    "####  Валерія Дружиніна"
   ]
  },
  {
   "cell_type": "markdown",
   "metadata": {
    "id": "gVgzgpV9Ke1T"
   },
   "source": []
  },
  {
   "cell_type": "markdown",
   "metadata": {
    "id": "x7oHA3WhKe1T"
   },
   "source": [
    "## NumPy"
   ]
  },
  {
   "cell_type": "markdown",
   "metadata": {
    "id": "KsBz1xBsKe1V"
   },
   "source": [
    "####  1. Создайте массив  с 10 случайными числами из распределения Гаусса"
   ]
  },
  {
   "cell_type": "code",
   "execution_count": null,
   "metadata": {
    "id": "i9D9BSyXKe1V"
   },
   "outputs": [],
   "source": [
    "import numpy as np\n",
    "np.random.randn(10)"
   ]
  },
  {
   "cell_type": "markdown",
   "metadata": {
    "id": "loAq1eeRKe1W"
   },
   "source": [
    "#### 2. Создайте следующую матрицу: https://jakevdp.github.io/PythonDataScienceHandbook/02.05-computation-on-arrays-broadcasting.html"
   ]
  },
  {
   "cell_type": "code",
   "execution_count": null,
   "metadata": {
    "id": "vC6zBAcOKe1X",
    "outputId": "ccf06711-0bdd-4547-ba2a-be51df4ccde8",
    "scrolled": true
   },
   "outputs": [
    {
     "data": {
      "text/plain": [
       "array([[ 0.01,  0.02,  0.03,  0.04,  0.05,  0.06,  0.07,  0.08,  0.09,  0.1 ],\n",
       "       [ 0.11,  0.12,  0.13,  0.14,  0.15,  0.16,  0.17,  0.18,  0.19,  0.2 ],\n",
       "       [ 0.21,  0.22,  0.23,  0.24,  0.25,  0.26,  0.27,  0.28,  0.29,  0.3 ],\n",
       "       [ 0.31,  0.32,  0.33,  0.34,  0.35,  0.36,  0.37,  0.38,  0.39,  0.4 ],\n",
       "       [ 0.41,  0.42,  0.43,  0.44,  0.45,  0.46,  0.47,  0.48,  0.49,  0.5 ],\n",
       "       [ 0.51,  0.52,  0.53,  0.54,  0.55,  0.56,  0.57,  0.58,  0.59,  0.6 ],\n",
       "       [ 0.61,  0.62,  0.63,  0.64,  0.65,  0.66,  0.67,  0.68,  0.69,  0.7 ],\n",
       "       [ 0.71,  0.72,  0.73,  0.74,  0.75,  0.76,  0.77,  0.78,  0.79,  0.8 ],\n",
       "       [ 0.81,  0.82,  0.83,  0.84,  0.85,  0.86,  0.87,  0.88,  0.89,  0.9 ],\n",
       "       [ 0.91,  0.92,  0.93,  0.94,  0.95,  0.96,  0.97,  0.98,  0.99,  1.  ]])"
      ]
     },
     "execution_count": 35,
     "metadata": {},
     "output_type": "execute_result"
    }
   ],
   "source": [
    "a=np.linspace(0,1,num=101) #create\n",
    "b = a.round(2) #round\n",
    "\n",
    "skip_zero=a[1:101] #skip 0\n",
    "\n",
    "skip_zero.reshape(10,10) #build matrix"
   ]
  },
  {
   "cell_type": "markdown",
   "metadata": {
    "id": "UqT1AQFuKe1Y"
   },
   "source": [
    "#### 3. Создайте 2х3 матрицу с равномерно распределенными числами между 5 и 20"
   ]
  },
  {
   "cell_type": "code",
   "execution_count": null,
   "metadata": {
    "id": "wi4smt_ZKe1Y",
    "outputId": "69c4b38a-1c41-408a-905d-dad69d5f4636"
   },
   "outputs": [
    {
     "data": {
      "text/plain": [
       "array([[ 5.,  8., 11.],\n",
       "       [14., 17., 20.]])"
      ]
     },
     "execution_count": 115,
     "metadata": {},
     "output_type": "execute_result"
    }
   ],
   "source": [
    "a=np.linspace(5,20,num=6).reshape(2,3) #build matrix\n",
    "a"
   ]
  },
  {
   "cell_type": "code",
   "execution_count": null,
   "metadata": {
    "id": "4B_3XjdDKe1Y"
   },
   "outputs": [],
   "source": []
  },
  {
   "cell_type": "markdown",
   "metadata": {
    "id": "CDYCPZpRKe1Z"
   },
   "source": [
    "## Выбор\n",
    "\n",
    "#### 1. Напишите код, в результате которого вы получите предложенный результат"
   ]
  },
  {
   "cell_type": "code",
   "execution_count": null,
   "metadata": {
    "id": "X68uVLX4Ke1Z",
    "outputId": "1495f8d0-0853-4c5b-efbb-dbb3e84f0bc6",
    "scrolled": false
   },
   "outputs": [
    {
     "data": {
      "text/plain": [
       "array([[[ 1,  2,  3,  4,  5],\n",
       "        [ 6,  7,  8,  9, 10],\n",
       "        [11, 12, 13, 14, 15]],\n",
       "\n",
       "       [[16, 17, 18, 19, 20],\n",
       "        [21, 22, 23, 24, 25],\n",
       "        [26, 27, 28, 29, 30]]])"
      ]
     },
     "execution_count": 117,
     "metadata": {},
     "output_type": "execute_result"
    }
   ],
   "source": [
    "mat = np.arange(1,31).reshape(2,3,5)\n",
    "mat\n",
    "\n",
    "mat[:,2] # Результат 1\n",
    "\n",
    "mat[:,1,0] #Результат 2"
   ]
  },
  {
   "cell_type": "code",
   "execution_count": null,
   "metadata": {
    "id": "XGFwwLaVKe1a",
    "outputId": "94a02889-363d-4f3a-fa37-15fbc4795ecb",
    "scrolled": true
   },
   "outputs": [
    {
     "data": {
      "text/plain": [
       "array([[11, 12, 13, 14, 15],\n",
       "       [26, 27, 28, 29, 30]])"
      ]
     },
     "execution_count": 119,
     "metadata": {},
     "output_type": "execute_result"
    }
   ],
   "source": [
    "# Результат 1, не нажимайте на эту клетку"
   ]
  },
  {
   "cell_type": "code",
   "execution_count": null,
   "metadata": {
    "id": "s8ibcJgkKe1a",
    "outputId": "6a3371fa-932a-45e7-e178-804287679b4a",
    "scrolled": true
   },
   "outputs": [
    {
     "data": {
      "text/plain": [
       "array([ 6, 21])"
      ]
     },
     "execution_count": 124,
     "metadata": {},
     "output_type": "execute_result"
    }
   ],
   "source": [
    "# Результат 2, не нажимайте на эту клетку"
   ]
  },
  {
   "cell_type": "markdown",
   "metadata": {
    "id": "XJJ0iEu7Ke1b"
   },
   "source": [
    "## Pandas"
   ]
  },
  {
   "cell_type": "markdown",
   "metadata": {
    "id": "0Qbji3uRKe1b"
   },
   "source": [
    "#### 1. Выведите датасет Salaries.csv в дата фрейм sal\n",
    "Это данные kaggle о зарплатах сотрудников города Сан Франциско"
   ]
  },
  {
   "cell_type": "code",
   "execution_count": null,
   "metadata": {
    "id": "1epFAM7tKe1b"
   },
   "outputs": [],
   "source": [
    "import pandas as pd\n",
    "sal=pd.read_csv(\"Salaries.csv\")\n",
    "sal"
   ]
  },
  {
   "cell_type": "markdown",
   "metadata": {
    "id": "Lz4S0tScKe1c"
   },
   "source": [
    "#### 2. Покажите 5 первых строк датафрейма"
   ]
  },
  {
   "cell_type": "code",
   "execution_count": null,
   "metadata": {
    "id": "AZJh9VsnKe1c"
   },
   "outputs": [],
   "source": [
    "sal.head()"
   ]
  },
  {
   "cell_type": "markdown",
   "metadata": {
    "id": "tbJQjj9ZKe1c"
   },
   "source": [
    "#### 3. Какая средняя базовая зарплата (BasePay)?"
   ]
  },
  {
   "cell_type": "code",
   "execution_count": null,
   "metadata": {
    "id": "lG1ZjCEQKe1c"
   },
   "outputs": [],
   "source": [
    "mean=sal['BasePay'].mean()\n",
    "mean #66325.44884050643"
   ]
  },
  {
   "cell_type": "markdown",
   "metadata": {
    "id": "dvmRgFnjKe1c"
   },
   "source": [
    "#### 4. Какая самая высокая зарплата за дополнителную работу OvertimePay?"
   ]
  },
  {
   "cell_type": "code",
   "execution_count": null,
   "metadata": {
    "id": "u_A02WqTKe1c"
   },
   "outputs": [],
   "source": [
    "max=sal['OvertimePay'].max()\n",
    "max #245131.88"
   ]
  },
  {
   "cell_type": "markdown",
   "metadata": {
    "id": "22NpwNgkKe1c"
   },
   "source": [
    "#### 5. Какая профессия у JOSEPH DRISCOLL? (Пишите имя большими буквами)"
   ]
  },
  {
   "cell_type": "code",
   "execution_count": null,
   "metadata": {
    "id": "mu1r-SwsKe1d"
   },
   "outputs": [],
   "source": [
    "sal[sal['EmployeeName']=='PATRICK GARDNER'] #DEPUTY CHIEF OF DEPARTMENT,(FIRE DEPARTMENT)"
   ]
  },
  {
   "cell_type": "markdown",
   "metadata": {
    "id": "xvg62Y91Ke1d"
   },
   "source": [
    "#### 6. Как зовут человека с самой большой зарплатой?"
   ]
  },
  {
   "cell_type": "code",
   "execution_count": null,
   "metadata": {
    "id": "6oMj8v8UKe1d"
   },
   "outputs": [],
   "source": [
    "max=sal['OvertimePay'].max()\n",
    "sal[sal['OvertimePay']==max] #GARY JIMENEZ\t"
   ]
  },
  {
   "cell_type": "markdown",
   "metadata": {
    "id": "gERvrM9fKe1d"
   },
   "source": [
    "#### 7. Сколько уникальных профессий в таблице?"
   ]
  },
  {
   "cell_type": "code",
   "execution_count": null,
   "metadata": {
    "id": "fMkx9nQRKe1d"
   },
   "outputs": [],
   "source": [
    "sal['JobTitle'].unique() #2159"
   ]
  },
  {
   "cell_type": "markdown",
   "metadata": {
    "id": "pmHiDpOyKe1d"
   },
   "source": [
    "#### 8. Какие 5 профессий повторяются чаще всего? "
   ]
  },
  {
   "cell_type": "code",
   "execution_count": null,
   "metadata": {
    "id": "xgkUqlMCKe1d"
   },
   "outputs": [],
   "source": [
    "sal['JobTitle'].value_counts().head() \n",
    "#Transit Operator(7036),Special Nurse(4389),Registered Nurse(3736),Public Svc Aide-Public Works(2518),Police Officer(3) "
   ]
  }
 ],
 "metadata": {
  "colab": {
   "provenance": []
  },
  "kernelspec": {
   "display_name": "Python 3 (ipykernel)",
   "language": "python",
   "name": "python3"
  },
  "language_info": {
   "codemirror_mode": {
    "name": "ipython",
    "version": 3
   },
   "file_extension": ".py",
   "mimetype": "text/x-python",
   "name": "python",
   "nbconvert_exporter": "python",
   "pygments_lexer": "ipython3",
   "version": "3.9.12"
  }
 },
 "nbformat": 4,
 "nbformat_minor": 1
}
