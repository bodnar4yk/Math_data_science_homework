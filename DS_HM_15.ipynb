{
 "cells": [
  {
   "cell_type": "markdown",
   "metadata": {},
   "source": [
    "Валерія Дружиніна"
   ]
  },
  {
   "cell_type": "code",
   "execution_count": 1,
   "metadata": {},
   "outputs": [],
   "source": [
    "import numpy as np\n",
    "import pandas as pd\n",
    "import matplotlib.pyplot as plt\n",
    "import seaborn as sns\n",
    "import scipy.stats as stats\n",
    "import statsmodels.api as sm"
   ]
  },
  {
   "cell_type": "markdown",
   "metadata": {},
   "source": [
    "## Линейная регрессия"
   ]
  },
  {
   "cell_type": "markdown",
   "metadata": {},
   "source": [
    "Наша задача - предсказать уровень преступности на душу населения, используя переменные в наборе данных Boston. Уровень преступности на душу населения будет нашим ответом, а другие переменные - предикторами."
   ]
  },
  {
   "cell_type": "markdown",
   "metadata": {},
   "source": [
    "### Бостон датасет"
   ]
  },
  {
   "cell_type": "markdown",
   "metadata": {},
   "source": [
    "Датасет содержит такие данные:\n",
    "\n",
    "-crim -- уровень преступности на душу населения по городам.\n",
    "\n",
    "-zn -- доля земель под жилую застройку, зонированных на участки более 25 000 кв. футов.\n",
    "\n",
    "-indus -- доля акров, не относящихся к розничной торговле, на город.\n",
    "\n",
    "-chas -- фиктивная переменная реки Чарльз (= 1, если участок ограничивает реку; 0 в противном случае).\n",
    "\n",
    "-nox -- концентрация оксидов азота (частей на 10 млн).\n",
    "\n",
    "-rm -- среднее количество комнат в доме.\n",
    "\n",
    "-age -- доля занятых владельцами участков, построенных до 1940 года.\n",
    "\n",
    "-dis -- среднее расстояние до пяти бостонских центров занятости.\n",
    "\n",
    "-rad -- индекс доступности радиальных магистралей.\n",
    "\n",
    "-tax -- полная ставка налога на имущество за \\ $ 10,000.\n",
    "\n",
    "-ptratio -- соотношение учеников и учителей по городам.\n",
    "\n",
    "-lstat -- более низкий статус населения (в процентах).\n",
    "\n",
    "-medv -- медианная стоимость домов, занимаемых владельцами, за 1000 долларов.\n",
    "\n",
    "\n",
    "Sources:\n",
    "Harrison, D. and Rubinfeld, D.L. (1978) Hedonic prices and the demand for clean air. J. Environ. Economics and Management 5, 81–102.\n",
    "\n",
    "Belsley D.A., Kuh, E. and Welsch, R.E. (1980) Regression Diagnostics. Identifying Influential Data and Sources of Collinearity. New York: Wiley."
   ]
  },
  {
   "cell_type": "code",
   "execution_count": 2,
   "metadata": {},
   "outputs": [],
   "source": [
    "data = pd.read_csv('Boston_dataset.csv',index_col=0)"
   ]
  },
  {
   "cell_type": "code",
   "execution_count": 3,
   "metadata": {},
   "outputs": [
    {
     "data": {
      "text/html": [
       "<div>\n",
       "<style scoped>\n",
       "    .dataframe tbody tr th:only-of-type {\n",
       "        vertical-align: middle;\n",
       "    }\n",
       "\n",
       "    .dataframe tbody tr th {\n",
       "        vertical-align: top;\n",
       "    }\n",
       "\n",
       "    .dataframe thead th {\n",
       "        text-align: right;\n",
       "    }\n",
       "</style>\n",
       "<table border=\"1\" class=\"dataframe\">\n",
       "  <thead>\n",
       "    <tr style=\"text-align: right;\">\n",
       "      <th></th>\n",
       "      <th>crim</th>\n",
       "      <th>zn</th>\n",
       "      <th>indus</th>\n",
       "      <th>chas</th>\n",
       "      <th>nox</th>\n",
       "      <th>rm</th>\n",
       "      <th>age</th>\n",
       "      <th>dis</th>\n",
       "      <th>rad</th>\n",
       "      <th>tax</th>\n",
       "      <th>ptratio</th>\n",
       "      <th>lstat</th>\n",
       "      <th>medv</th>\n",
       "    </tr>\n",
       "  </thead>\n",
       "  <tbody>\n",
       "    <tr>\n",
       "      <th>1</th>\n",
       "      <td>0.00632</td>\n",
       "      <td>18.0</td>\n",
       "      <td>2.31</td>\n",
       "      <td>0</td>\n",
       "      <td>0.538</td>\n",
       "      <td>6.575</td>\n",
       "      <td>65.2</td>\n",
       "      <td>4.0900</td>\n",
       "      <td>1</td>\n",
       "      <td>296</td>\n",
       "      <td>15.3</td>\n",
       "      <td>4.98</td>\n",
       "      <td>24.0</td>\n",
       "    </tr>\n",
       "    <tr>\n",
       "      <th>2</th>\n",
       "      <td>0.02731</td>\n",
       "      <td>0.0</td>\n",
       "      <td>7.07</td>\n",
       "      <td>0</td>\n",
       "      <td>0.469</td>\n",
       "      <td>6.421</td>\n",
       "      <td>78.9</td>\n",
       "      <td>4.9671</td>\n",
       "      <td>2</td>\n",
       "      <td>242</td>\n",
       "      <td>17.8</td>\n",
       "      <td>9.14</td>\n",
       "      <td>21.6</td>\n",
       "    </tr>\n",
       "    <tr>\n",
       "      <th>3</th>\n",
       "      <td>0.02729</td>\n",
       "      <td>0.0</td>\n",
       "      <td>7.07</td>\n",
       "      <td>0</td>\n",
       "      <td>0.469</td>\n",
       "      <td>7.185</td>\n",
       "      <td>61.1</td>\n",
       "      <td>4.9671</td>\n",
       "      <td>2</td>\n",
       "      <td>242</td>\n",
       "      <td>17.8</td>\n",
       "      <td>4.03</td>\n",
       "      <td>34.7</td>\n",
       "    </tr>\n",
       "    <tr>\n",
       "      <th>4</th>\n",
       "      <td>0.03237</td>\n",
       "      <td>0.0</td>\n",
       "      <td>2.18</td>\n",
       "      <td>0</td>\n",
       "      <td>0.458</td>\n",
       "      <td>6.998</td>\n",
       "      <td>45.8</td>\n",
       "      <td>6.0622</td>\n",
       "      <td>3</td>\n",
       "      <td>222</td>\n",
       "      <td>18.7</td>\n",
       "      <td>2.94</td>\n",
       "      <td>33.4</td>\n",
       "    </tr>\n",
       "    <tr>\n",
       "      <th>5</th>\n",
       "      <td>0.06905</td>\n",
       "      <td>0.0</td>\n",
       "      <td>2.18</td>\n",
       "      <td>0</td>\n",
       "      <td>0.458</td>\n",
       "      <td>7.147</td>\n",
       "      <td>54.2</td>\n",
       "      <td>6.0622</td>\n",
       "      <td>3</td>\n",
       "      <td>222</td>\n",
       "      <td>18.7</td>\n",
       "      <td>5.33</td>\n",
       "      <td>36.2</td>\n",
       "    </tr>\n",
       "  </tbody>\n",
       "</table>\n",
       "</div>"
      ],
      "text/plain": [
       "      crim    zn  indus  chas    nox     rm   age     dis  rad  tax  ptratio  \\\n",
       "1  0.00632  18.0   2.31     0  0.538  6.575  65.2  4.0900    1  296     15.3   \n",
       "2  0.02731   0.0   7.07     0  0.469  6.421  78.9  4.9671    2  242     17.8   \n",
       "3  0.02729   0.0   7.07     0  0.469  7.185  61.1  4.9671    2  242     17.8   \n",
       "4  0.03237   0.0   2.18     0  0.458  6.998  45.8  6.0622    3  222     18.7   \n",
       "5  0.06905   0.0   2.18     0  0.458  7.147  54.2  6.0622    3  222     18.7   \n",
       "\n",
       "   lstat  medv  \n",
       "1   4.98  24.0  \n",
       "2   9.14  21.6  \n",
       "3   4.03  34.7  \n",
       "4   2.94  33.4  \n",
       "5   5.33  36.2  "
      ]
     },
     "execution_count": 3,
     "metadata": {},
     "output_type": "execute_result"
    }
   ],
   "source": [
    "data.head()"
   ]
  },
  {
   "cell_type": "markdown",
   "metadata": {},
   "source": [
    "### Задание 1"
   ]
  },
  {
   "cell_type": "markdown",
   "metadata": {},
   "source": [
    "- Для каждого предиктора подберите простую модель линейной регрессии, чтобы предсказать ответ. \n",
    "- Опишите свои результаты. \n",
    "- В какой из моделей существует статистически значимая связь между предиктором и ответом? \n",
    "- Создайте несколько графиков, подтверждающих ваши утверждения."
   ]
  },
  {
   "cell_type": "code",
   "execution_count": 21,
   "metadata": {
    "scrolled": true
   },
   "outputs": [
    {
     "name": "stdout",
     "output_type": "stream",
     "text": [
      "                            OLS Regression Results                            \n",
      "==============================================================================\n",
      "Dep. Variable:                   crim   R-squared:                       0.040\n",
      "Model:                            OLS   Adj. R-squared:                  0.038\n",
      "Method:                 Least Squares   F-statistic:                     21.10\n",
      "Date:                Sun, 20 Nov 2022   Prob (F-statistic):           5.51e-06\n",
      "Time:                        00:55:07   Log-Likelihood:                -1796.0\n",
      "No. Observations:                 506   AIC:                             3596.\n",
      "Df Residuals:                     504   BIC:                             3604.\n",
      "Df Model:                           1                                         \n",
      "Covariance Type:            nonrobust                                         \n",
      "==============================================================================\n",
      "                 coef    std err          t      P>|t|      [0.025      0.975]\n",
      "------------------------------------------------------------------------------\n",
      "const          4.4537      0.417     10.675      0.000       3.634       5.273\n",
      "zn            -0.0739      0.016     -4.594      0.000      -0.106      -0.042\n",
      "==============================================================================\n",
      "Omnibus:                      567.443   Durbin-Watson:                   0.857\n",
      "Prob(Omnibus):                  0.000   Jarque-Bera (JB):            32753.004\n",
      "Skew:                           5.257   Prob(JB):                         0.00\n",
      "Kurtosis:                      40.986   Cond. No.                         28.8\n",
      "==============================================================================\n",
      "\n",
      "Notes:\n",
      "[1] Standard Errors assume that the covariance matrix of the errors is correctly specified.\n"
     ]
    }
   ],
   "source": [
    "X = data['zn']\n",
    "Y = data['crim']\n",
    "X = sm.add_constant(X)\n",
    "model_lin = sm.OLS(Y,X)\n",
    "results_lin = model_lin.fit()\n",
    "print(results_lin.summary())\n",
    "#-0.0739 имеет отрицательный ефект на результат, с увеличением zn (долей земель под жилую застройку, зонированных на участки более 25 000 кв. футов.)\n",
    "    #    уменшается преступность\n",
    "#R-squared:0.040, только 4% описивается моделю\n",
    "#F-statistic:21.10, перемение имеють значения.\n",
    "#P>|t| - существует статистически значимая связь между предиктором и ответом"
   ]
  },
  {
   "cell_type": "code",
   "execution_count": 10,
   "metadata": {
    "scrolled": true
   },
   "outputs": [
    {
     "name": "stdout",
     "output_type": "stream",
     "text": [
      "                            OLS Regression Results                            \n",
      "==============================================================================\n",
      "Dep. Variable:                   crim   R-squared:                       0.165\n",
      "Model:                            OLS   Adj. R-squared:                  0.164\n",
      "Method:                 Least Squares   F-statistic:                     99.82\n",
      "Date:                Sun, 20 Nov 2022   Prob (F-statistic):           1.45e-21\n",
      "Time:                        00:47:35   Log-Likelihood:                -1760.6\n",
      "No. Observations:                 506   AIC:                             3525.\n",
      "Df Residuals:                     504   BIC:                             3534.\n",
      "Df Model:                           1                                         \n",
      "Covariance Type:            nonrobust                                         \n",
      "==============================================================================\n",
      "                 coef    std err          t      P>|t|      [0.025      0.975]\n",
      "------------------------------------------------------------------------------\n",
      "const         -2.0637      0.667     -3.093      0.002      -3.375      -0.753\n",
      "indus          0.5098      0.051      9.991      0.000       0.410       0.610\n",
      "==============================================================================\n",
      "Omnibus:                      585.118   Durbin-Watson:                   0.986\n",
      "Prob(Omnibus):                  0.000   Jarque-Bera (JB):            41418.938\n",
      "Skew:                           5.449   Prob(JB):                         0.00\n",
      "Kurtosis:                      45.962   Cond. No.                         25.1\n",
      "==============================================================================\n",
      "\n",
      "Notes:\n",
      "[1] Standard Errors assume that the covariance matrix of the errors is correctly specified.\n"
     ]
    }
   ],
   "source": [
    "X = data['indus']\n",
    "Y = data['crim']\n",
    "X = sm.add_constant(X)\n",
    "model_lin = sm.OLS(Y,X)\n",
    "results_lin = model_lin.fit()\n",
    "print(results_lin.summary())\n",
    "\n",
    "#0.5098 имеет положительний ефект на результат, с увеличением indus(доля акров, не относящихся к розничной торговле, на город.)\n",
    "    #    увеличевается преступность\n",
    "#R-squared:0.165, 16,5% данных описивается моделю\n",
    "#F-statistic:99.82, перемение имеють значения.\n",
    "#P>|t| - существует статистически значимая связь между предиктором и ответом"
   ]
  },
  {
   "cell_type": "code",
   "execution_count": 15,
   "metadata": {},
   "outputs": [
    {
     "data": {
      "text/plain": [
       "<matplotlib.legend.Legend at 0x22b721f3e80>"
      ]
     },
     "execution_count": 15,
     "metadata": {},
     "output_type": "execute_result"
    },
    {
     "data": {
      "image/png": "[encoded data removed]",
      "text/plain": [
       "<Figure size 432x288 with 1 Axes>"
      ]
     },
     "metadata": {
      "needs_background": "light"
     },
     "output_type": "display_data"
    }
   ],
   "source": [
    "#График\n",
    "X = data['indus']\n",
    "Y = data['crim']\n",
    "X = sm.add_constant(X)\n",
    "model_lin = sm.OLS(Y,X)\n",
    "results_lin = model_lin.fit()\n",
    "\n",
    "predictions_lin = results_lin.predict()\n",
    "\n",
    "fig, ax = plt.subplots()\n",
    "sns.scatterplot(data=data, x='indus', y='crim')\n",
    "ax.plot(X['indus'], predictions_lin, 'r--', label=\"OLS prediction\")\n",
    "ax.set_xlabel('indus',size=16)\n",
    "ax.set_ylabel('crim',size=16)\n",
    "ax.legend(loc=\"best\")\n",
    "#fig.savefig('mpg_linear.png')"
   ]
  },
  {
   "cell_type": "code",
   "execution_count": 10,
   "metadata": {},
   "outputs": [
    {
     "name": "stdout",
     "output_type": "stream",
     "text": [
      "                            OLS Regression Results                            \n",
      "==============================================================================\n",
      "Dep. Variable:                   crim   R-squared:                       0.003\n",
      "Model:                            OLS   Adj. R-squared:                  0.001\n",
      "Method:                 Least Squares   F-statistic:                     1.579\n",
      "Date:                Thu, 17 Nov 2022   Prob (F-statistic):              0.209\n",
      "Time:                        22:39:22   Log-Likelihood:                -1805.6\n",
      "No. Observations:                 506   AIC:                             3615.\n",
      "Df Residuals:                     504   BIC:                             3624.\n",
      "Df Model:                           1                                         \n",
      "Covariance Type:            nonrobust                                         \n",
      "==============================================================================\n",
      "                 coef    std err          t      P>|t|      [0.025      0.975]\n",
      "------------------------------------------------------------------------------\n",
      "const          3.7444      0.396      9.453      0.000       2.966       4.523\n",
      "chas          -1.8928      1.506     -1.257      0.209      -4.852       1.066\n",
      "==============================================================================\n",
      "Omnibus:                      561.663   Durbin-Watson:                   0.817\n",
      "Prob(Omnibus):                  0.000   Jarque-Bera (JB):            30645.429\n",
      "Skew:                           5.191   Prob(JB):                         0.00\n",
      "Kurtosis:                      39.685   Cond. No.                         3.96\n",
      "==============================================================================\n",
      "\n",
      "Notes:\n",
      "[1] Standard Errors assume that the covariance matrix of the errors is correctly specified.\n"
     ]
    }
   ],
   "source": [
    "X = data['chas']\n",
    "Y = data['crim']\n",
    "X = sm.add_constant(X)\n",
    "model_lin = sm.OLS(Y,X)\n",
    "results_lin = model_lin.fit()\n",
    "print(results_lin.summary())\n",
    "#-0.0739 имеет отрицательный ефект на результат, с увеличением chas (фиктивная переменная реки Чарльз (= 1, если участок ограничивает реку; 0 в противном случае).)\n",
    "    #    уменшается преступность\n",
    "#R-squared:0.003, очень плохо, модель почти нечего не потривает \n",
    "#F-statistic:1.579, значение близко к 1 нет звязи меж предиктором и ответом.\n",
    "#P>|t|: 0.209 - нет звязи между предиктором и ответом. коэф может быть нульом."
   ]
  },
  {
   "cell_type": "code",
   "execution_count": 11,
   "metadata": {},
   "outputs": [
    {
     "name": "stdout",
     "output_type": "stream",
     "text": [
      "                            OLS Regression Results                            \n",
      "==============================================================================\n",
      "Dep. Variable:                   crim   R-squared:                       0.177\n",
      "Model:                            OLS   Adj. R-squared:                  0.176\n",
      "Method:                 Least Squares   F-statistic:                     108.6\n",
      "Date:                Mon, 14 Nov 2022   Prob (F-statistic):           3.75e-23\n",
      "Time:                        20:46:54   Log-Likelihood:                -1757.0\n",
      "No. Observations:                 506   AIC:                             3518.\n",
      "Df Residuals:                     504   BIC:                             3526.\n",
      "Df Model:                           1                                         \n",
      "Covariance Type:            nonrobust                                         \n",
      "==============================================================================\n",
      "                 coef    std err          t      P>|t|      [0.025      0.975]\n",
      "------------------------------------------------------------------------------\n",
      "const        -13.7199      1.699     -8.073      0.000     -17.059     -10.381\n",
      "nox           31.2485      2.999     10.419      0.000      25.356      37.141\n",
      "==============================================================================\n",
      "Omnibus:                      591.712   Durbin-Watson:                   0.992\n",
      "Prob(Omnibus):                  0.000   Jarque-Bera (JB):            43138.106\n",
      "Skew:                           5.546   Prob(JB):                         0.00\n",
      "Kurtosis:                      46.852   Cond. No.                         11.3\n",
      "==============================================================================\n",
      "\n",
      "Notes:\n",
      "[1] Standard Errors assume that the covariance matrix of the errors is correctly specified.\n"
     ]
    }
   ],
   "source": [
    "X = data['nox']\n",
    "Y = data['crim']\n",
    "X = sm.add_constant(X)\n",
    "model_lin = sm.OLS(Y,X)\n",
    "results_lin = model_lin.fit()\n",
    "print(results_lin.summary())\n",
    "#31.2485 имеет очень позитивний ефект на результат, с увеличением nox(концентрация оксидов азота (частей на 10 млн).)\n",
    "    #    увеличевается преступность\n",
    "#R-squared:0.177, 16,7% данных описивается моделю\n",
    "#F-statistic: 108.6, перемение имеють значения.\n",
    "#P>|t| - существует статистически значимая связь между предиктором и ответом"
   ]
  },
  {
   "cell_type": "code",
   "execution_count": 23,
   "metadata": {
    "scrolled": true
   },
   "outputs": [
    {
     "data": {
      "text/plain": [
       "<matplotlib.legend.Legend at 0x22b741e5ee0>"
      ]
     },
     "execution_count": 23,
     "metadata": {},
     "output_type": "execute_result"
    },
    {
     "data": {
      "image/png": "[encoded data removed]",
      "text/plain": [
       "<Figure size 432x288 with 1 Axes>"
      ]
     },
     "metadata": {
      "needs_background": "light"
     },
     "output_type": "display_data"
    }
   ],
   "source": [
    "#График\n",
    "X = data['nox']\n",
    "Y = data['crim']\n",
    "X = sm.add_constant(X)\n",
    "model_lin = sm.OLS(Y,X)\n",
    "results_lin = model_lin.fit()\n",
    "\n",
    "\n",
    "predictions_lin = results_lin.predict()\n",
    "\n",
    "fig, ax = plt.subplots()\n",
    "sns.scatterplot(data=data, x='nox', y='crim')\n",
    "ax.plot(X['nox'], predictions_lin, 'r--', label=\"OLS prediction\")\n",
    "ax.set_xlabel('nox',size=16)\n",
    "ax.set_ylabel('crim',size=16)\n",
    "ax.legend(loc=\"best\")\n",
    "#fig.savefig('mpg_linear.png')\n"
   ]
  },
  {
   "cell_type": "code",
   "execution_count": 11,
   "metadata": {},
   "outputs": [
    {
     "name": "stdout",
     "output_type": "stream",
     "text": [
      "                            OLS Regression Results                            \n",
      "==============================================================================\n",
      "Dep. Variable:                   crim   R-squared:                       0.048\n",
      "Model:                            OLS   Adj. R-squared:                  0.046\n",
      "Method:                 Least Squares   F-statistic:                     25.45\n",
      "Date:                Thu, 17 Nov 2022   Prob (F-statistic):           6.35e-07\n",
      "Time:                        22:39:30   Log-Likelihood:                -1793.9\n",
      "No. Observations:                 506   AIC:                             3592.\n",
      "Df Residuals:                     504   BIC:                             3600.\n",
      "Df Model:                           1                                         \n",
      "Covariance Type:            nonrobust                                         \n",
      "==============================================================================\n",
      "                 coef    std err          t      P>|t|      [0.025      0.975]\n",
      "------------------------------------------------------------------------------\n",
      "const         20.4818      3.364      6.088      0.000      13.872      27.092\n",
      "rm            -2.6841      0.532     -5.045      0.000      -3.729      -1.639\n",
      "==============================================================================\n",
      "Omnibus:                      575.717   Durbin-Watson:                   0.879\n",
      "Prob(Omnibus):                  0.000   Jarque-Bera (JB):            36658.093\n",
      "Skew:                           5.345   Prob(JB):                         0.00\n",
      "Kurtosis:                      43.305   Cond. No.                         58.4\n",
      "==============================================================================\n",
      "\n",
      "Notes:\n",
      "[1] Standard Errors assume that the covariance matrix of the errors is correctly specified.\n"
     ]
    }
   ],
   "source": [
    "X = data['rm']\n",
    "Y = data['crim']\n",
    "X = sm.add_constant(X)\n",
    "model_lin = sm.OLS(Y,X)\n",
    "results_lin = model_lin.fit()\n",
    "print(results_lin.summary())\n",
    "#-2.6841 имеет отрицательный ефект на результат, с увеличением rm (среднее количество комнат в доме.)\n",
    "    #    уменшается преступность\n",
    "#R-squared:0.048, только 4,8% описивается моделю\n",
    "#F-statistic:25.45, перемение имеють значения.\n",
    "#P>|t| - существует статистически значимая связь между предиктором и ответом"
   ]
  },
  {
   "cell_type": "code",
   "execution_count": 13,
   "metadata": {},
   "outputs": [
    {
     "name": "stdout",
     "output_type": "stream",
     "text": [
      "                            OLS Regression Results                            \n",
      "==============================================================================\n",
      "Dep. Variable:                   crim   R-squared:                       0.124\n",
      "Model:                            OLS   Adj. R-squared:                  0.123\n",
      "Method:                 Least Squares   F-statistic:                     71.62\n",
      "Date:                Mon, 14 Nov 2022   Prob (F-statistic):           2.85e-16\n",
      "Time:                        20:47:14   Log-Likelihood:                -1772.7\n",
      "No. Observations:                 506   AIC:                             3549.\n",
      "Df Residuals:                     504   BIC:                             3558.\n",
      "Df Model:                           1                                         \n",
      "Covariance Type:            nonrobust                                         \n",
      "==============================================================================\n",
      "                 coef    std err          t      P>|t|      [0.025      0.975]\n",
      "------------------------------------------------------------------------------\n",
      "const         -3.7779      0.944     -4.002      0.000      -5.633      -1.923\n",
      "age            0.1078      0.013      8.463      0.000       0.083       0.133\n",
      "==============================================================================\n",
      "Omnibus:                      574.509   Durbin-Watson:                   0.956\n",
      "Prob(Omnibus):                  0.000   Jarque-Bera (JB):            36741.903\n",
      "Skew:                           5.322   Prob(JB):                         0.00\n",
      "Kurtosis:                      43.366   Cond. No.                         195.\n",
      "==============================================================================\n",
      "\n",
      "Notes:\n",
      "[1] Standard Errors assume that the covariance matrix of the errors is correctly specified.\n"
     ]
    }
   ],
   "source": [
    "X = data['age']\n",
    "Y = data['crim']\n",
    "X = sm.add_constant(X)\n",
    "model_lin = sm.OLS(Y,X)\n",
    "results_lin = model_lin.fit()\n",
    "print(results_lin.summary())\n",
    "# 0.1078 имеет очень позитивний ефект на результат, с увеличением age(доля занятых владельцами участков, построенных до 1940 года.)\n",
    "    #    увеличевается преступность\n",
    "#R-squared:0.124, 12,4% данных описивается моделю\n",
    "#F-statistic: 71.62, перемение имеють значения.\n",
    "#P>|t| - существует статистически значимая связь между предиктором и ответом"
   ]
  },
  {
   "cell_type": "code",
   "execution_count": 5,
   "metadata": {},
   "outputs": [
    {
     "name": "stdout",
     "output_type": "stream",
     "text": [
      "                            OLS Regression Results                            \n",
      "==============================================================================\n",
      "Dep. Variable:                   crim   R-squared:                       0.144\n",
      "Model:                            OLS   Adj. R-squared:                  0.142\n",
      "Method:                 Least Squares   F-statistic:                     84.89\n",
      "Date:                Wed, 16 Nov 2022   Prob (F-statistic):           8.52e-19\n",
      "Time:                        02:47:21   Log-Likelihood:                -1767.0\n",
      "No. Observations:                 506   AIC:                             3538.\n",
      "Df Residuals:                     504   BIC:                             3546.\n",
      "Df Model:                           1                                         \n",
      "Covariance Type:            nonrobust                                         \n",
      "==============================================================================\n",
      "                 coef    std err          t      P>|t|      [0.025      0.975]\n",
      "------------------------------------------------------------------------------\n",
      "const          9.4993      0.730     13.006      0.000       8.064      10.934\n",
      "dis           -1.5509      0.168     -9.213      0.000      -1.882      -1.220\n",
      "==============================================================================\n",
      "Omnibus:                      576.519   Durbin-Watson:                   0.952\n",
      "Prob(Omnibus):                  0.000   Jarque-Bera (JB):            37426.729\n",
      "Skew:                           5.348   Prob(JB):                         0.00\n",
      "Kurtosis:                      43.753   Cond. No.                         9.32\n",
      "==============================================================================\n",
      "\n",
      "Notes:\n",
      "[1] Standard Errors assume that the covariance matrix of the errors is correctly specified.\n"
     ]
    }
   ],
   "source": [
    "X = data['dis']\n",
    "Y = data['crim']\n",
    "X = sm.add_constant(X)\n",
    "model_lin = sm.OLS(Y,X)\n",
    "results_lin = model_lin.fit()\n",
    "print(results_lin.summary())\n",
    "#-1.5509 имеет отрицательный ефект на результат, с увеличением dis (среднее расстояние до пяти бостонских центров занятости)\n",
    "    #    уменшается преступность\n",
    "#R-squared:0.144, только 14,4% описивается моделю\n",
    "#F-statistic:84.89, перемение имеють значения.\n",
    "#P>|t| - существует статистически значимая связь между предиктором и ответом"
   ]
  },
  {
   "cell_type": "code",
   "execution_count": 8,
   "metadata": {},
   "outputs": [
    {
     "name": "stdout",
     "output_type": "stream",
     "text": [
      "                            OLS Regression Results                            \n",
      "==============================================================================\n",
      "Dep. Variable:                   crim   R-squared:                       0.391\n",
      "Model:                            OLS   Adj. R-squared:                  0.390\n",
      "Method:                 Least Squares   F-statistic:                     323.9\n",
      "Date:                Wed, 16 Nov 2022   Prob (F-statistic):           2.69e-56\n",
      "Time:                        02:56:31   Log-Likelihood:                -1680.8\n",
      "No. Observations:                 506   AIC:                             3366.\n",
      "Df Residuals:                     504   BIC:                             3374.\n",
      "Df Model:                           1                                         \n",
      "Covariance Type:            nonrobust                                         \n",
      "==============================================================================\n",
      "                 coef    std err          t      P>|t|      [0.025      0.975]\n",
      "------------------------------------------------------------------------------\n",
      "const         -2.2872      0.443     -5.157      0.000      -3.158      -1.416\n",
      "rad            0.6179      0.034     17.998      0.000       0.550       0.685\n",
      "==============================================================================\n",
      "Omnibus:                      656.459   Durbin-Watson:                   1.337\n",
      "Prob(Omnibus):                  0.000   Jarque-Bera (JB):            75417.007\n",
      "Skew:                           6.478   Prob(JB):                         0.00\n",
      "Kurtosis:                      61.389   Cond. No.                         19.2\n",
      "==============================================================================\n",
      "\n",
      "Notes:\n",
      "[1] Standard Errors assume that the covariance matrix of the errors is correctly specified.\n"
     ]
    }
   ],
   "source": [
    "X = data['rad']\n",
    "Y = data['crim']\n",
    "X = sm.add_constant(X)\n",
    "model_lin = sm.OLS(Y,X)\n",
    "results_lin = model_lin.fit()\n",
    "print(results_lin.summary())\n",
    "# 0.6179 имеет позитивний ефект на результат, с увеличением rad(индекс доступности радиальных магистралей.)\n",
    "    #    увеличевается преступность\n",
    "#R-squared:0.391, 39,1% данных описивается моделю\n",
    "#F-statistic: 323.9, перемение имеють значения.\n",
    "#P>|t| - существует статистически значимая связь между предиктором и ответом"
   ]
  },
  {
   "cell_type": "code",
   "execution_count": 14,
   "metadata": {},
   "outputs": [
    {
     "data": {
      "text/plain": [
       "<matplotlib.legend.Legend at 0x22b7219d040>"
      ]
     },
     "execution_count": 14,
     "metadata": {},
     "output_type": "execute_result"
    },
    {
     "data": {
      "image/png": "[encoded data removed]",
      "text/plain": [
       "<Figure size 432x288 with 1 Axes>"
      ]
     },
     "metadata": {
      "needs_background": "light"
     },
     "output_type": "display_data"
    }
   ],
   "source": [
    "#График\n",
    "X = data['rad']\n",
    "Y = data['crim']\n",
    "X = sm.add_constant(X)\n",
    "model_lin = sm.OLS(Y,X)\n",
    "results_lin = model_lin.fit()\n",
    "\n",
    "predictions_lin = results_lin.predict()\n",
    "\n",
    "fig, ax = plt.subplots()\n",
    "sns.scatterplot(data=data, x='rad', y='crim')\n",
    "ax.plot(X['rad'], predictions_lin, 'r--', label=\"OLS prediction\")\n",
    "ax.set_xlabel('rad',size=16)\n",
    "ax.set_ylabel('crim',size=16)\n",
    "ax.legend(loc=\"best\")\n",
    "#fig.savefig('mpg_linear.png')"
   ]
  },
  {
   "cell_type": "code",
   "execution_count": 7,
   "metadata": {},
   "outputs": [
    {
     "name": "stdout",
     "output_type": "stream",
     "text": [
      "                            OLS Regression Results                            \n",
      "==============================================================================\n",
      "Dep. Variable:                   crim   R-squared:                       0.340\n",
      "Model:                            OLS   Adj. R-squared:                  0.338\n",
      "Method:                 Least Squares   F-statistic:                     259.2\n",
      "Date:                Wed, 16 Nov 2022   Prob (F-statistic):           2.36e-47\n",
      "Time:                        02:56:12   Log-Likelihood:                -1701.4\n",
      "No. Observations:                 506   AIC:                             3407.\n",
      "Df Residuals:                     504   BIC:                             3415.\n",
      "Df Model:                           1                                         \n",
      "Covariance Type:            nonrobust                                         \n",
      "==============================================================================\n",
      "                 coef    std err          t      P>|t|      [0.025      0.975]\n",
      "------------------------------------------------------------------------------\n",
      "const         -8.5284      0.816    -10.454      0.000     -10.131      -6.926\n",
      "tax            0.0297      0.002     16.099      0.000       0.026       0.033\n",
      "==============================================================================\n",
      "Omnibus:                      635.377   Durbin-Watson:                   1.252\n",
      "Prob(Omnibus):                  0.000   Jarque-Bera (JB):            63763.835\n",
      "Skew:                           6.156   Prob(JB):                         0.00\n",
      "Kurtosis:                      56.599   Cond. No.                     1.16e+03\n",
      "==============================================================================\n",
      "\n",
      "Notes:\n",
      "[1] Standard Errors assume that the covariance matrix of the errors is correctly specified.\n",
      "[2] The condition number is large, 1.16e+03. This might indicate that there are\n",
      "strong multicollinearity or other numerical problems.\n"
     ]
    }
   ],
   "source": [
    "X = data['tax']\n",
    "Y = data['crim']\n",
    "X = sm.add_constant(X)\n",
    "model_lin = sm.OLS(Y,X)\n",
    "results_lin = model_lin.fit()\n",
    "print(results_lin.summary())\n",
    "# 0.0297 имеет позитивний ефект на результат, с увеличением tax(полная ставка налога на имущество за \\ $ 10,000.)\n",
    "    #    увеличевается преступность\n",
    "#R-squared:0.340, 34% данных описивается моделю\n",
    "#F-statistic: 259.2, перемение имеють значения.\n",
    "#P>|t| - существует статистически значимая связь между предиктором и ответом"
   ]
  },
  {
   "cell_type": "code",
   "execution_count": 24,
   "metadata": {},
   "outputs": [
    {
     "data": {
      "text/plain": [
       "<matplotlib.legend.Legend at 0x22b7425e070>"
      ]
     },
     "execution_count": 24,
     "metadata": {},
     "output_type": "execute_result"
    },
    {
     "data": {
      "image/png": "[encoded data removed]",
      "text/plain": [
       "<Figure size 432x288 with 1 Axes>"
      ]
     },
     "metadata": {
      "needs_background": "light"
     },
     "output_type": "display_data"
    }
   ],
   "source": [
    "#График\n",
    "X = data['tax']\n",
    "Y = data['crim']\n",
    "X = sm.add_constant(X)\n",
    "model_lin = sm.OLS(Y,X)\n",
    "results_lin = model_lin.fit()\n",
    "\n",
    "predictions_lin = results_lin.predict()\n",
    "\n",
    "fig, ax = plt.subplots()\n",
    "sns.scatterplot(data=data, x='tax', y='crim')\n",
    "ax.plot(X['tax'], predictions_lin, 'r--', label=\"OLS prediction\")\n",
    "ax.set_xlabel('tax',size=16)\n",
    "ax.set_ylabel('crim',size=16)\n",
    "ax.legend(loc=\"best\")\n",
    "#fig.savefig('mpg_linear.png')"
   ]
  },
  {
   "cell_type": "code",
   "execution_count": 9,
   "metadata": {},
   "outputs": [
    {
     "name": "stdout",
     "output_type": "stream",
     "text": [
      "                            OLS Regression Results                            \n",
      "==============================================================================\n",
      "Dep. Variable:                   crim   R-squared:                       0.084\n",
      "Model:                            OLS   Adj. R-squared:                  0.082\n",
      "Method:                 Least Squares   F-statistic:                     46.26\n",
      "Date:                Wed, 16 Nov 2022   Prob (F-statistic):           2.94e-11\n",
      "Time:                        02:56:50   Log-Likelihood:                -1784.1\n",
      "No. Observations:                 506   AIC:                             3572.\n",
      "Df Residuals:                     504   BIC:                             3581.\n",
      "Df Model:                           1                                         \n",
      "Covariance Type:            nonrobust                                         \n",
      "==============================================================================\n",
      "                 coef    std err          t      P>|t|      [0.025      0.975]\n",
      "------------------------------------------------------------------------------\n",
      "const        -17.6469      3.147     -5.607      0.000     -23.830     -11.464\n",
      "ptratio        1.1520      0.169      6.801      0.000       0.819       1.485\n",
      "==============================================================================\n",
      "Omnibus:                      568.053   Durbin-Watson:                   0.905\n",
      "Prob(Omnibus):                  0.000   Jarque-Bera (JB):            34221.853\n",
      "Skew:                           5.245   Prob(JB):                         0.00\n",
      "Kurtosis:                      41.899   Cond. No.                         160.\n",
      "==============================================================================\n",
      "\n",
      "Notes:\n",
      "[1] Standard Errors assume that the covariance matrix of the errors is correctly specified.\n"
     ]
    }
   ],
   "source": [
    "X = data['ptratio']\n",
    "Y = data['crim']\n",
    "X = sm.add_constant(X)\n",
    "model_lin = sm.OLS(Y,X)\n",
    "results_lin = model_lin.fit()\n",
    "print(results_lin.summary())\n",
    "\n",
    "#  1.1520 имеет позитивний ефект на результат, с увеличением ptratio( соотношение учеников и учителей по городам.)\n",
    "    #    увеличевается преступность\n",
    "#R-squared:0.084, 8,4% данных описивается моделю\n",
    "#F-statistic: 46.26, перемение имеють значения.\n",
    "#P>|t| - существует статистически значимая связь между предиктором и ответом"
   ]
  },
  {
   "cell_type": "code",
   "execution_count": 10,
   "metadata": {},
   "outputs": [
    {
     "name": "stdout",
     "output_type": "stream",
     "text": [
      "                            OLS Regression Results                            \n",
      "==============================================================================\n",
      "Dep. Variable:                   crim   R-squared:                       0.208\n",
      "Model:                            OLS   Adj. R-squared:                  0.206\n",
      "Method:                 Least Squares   F-statistic:                     132.0\n",
      "Date:                Wed, 16 Nov 2022   Prob (F-statistic):           2.65e-27\n",
      "Time:                        02:57:04   Log-Likelihood:                -1747.5\n",
      "No. Observations:                 506   AIC:                             3499.\n",
      "Df Residuals:                     504   BIC:                             3507.\n",
      "Df Model:                           1                                         \n",
      "Covariance Type:            nonrobust                                         \n",
      "==============================================================================\n",
      "                 coef    std err          t      P>|t|      [0.025      0.975]\n",
      "------------------------------------------------------------------------------\n",
      "const         -3.3305      0.694     -4.801      0.000      -4.694      -1.968\n",
      "lstat          0.5488      0.048     11.491      0.000       0.455       0.643\n",
      "==============================================================================\n",
      "Omnibus:                      601.306   Durbin-Watson:                   1.182\n",
      "Prob(Omnibus):                  0.000   Jarque-Bera (JB):            49918.826\n",
      "Skew:                           5.645   Prob(JB):                         0.00\n",
      "Kurtosis:                      50.331   Cond. No.                         29.7\n",
      "==============================================================================\n",
      "\n",
      "Notes:\n",
      "[1] Standard Errors assume that the covariance matrix of the errors is correctly specified.\n"
     ]
    }
   ],
   "source": [
    "X = data['lstat']\n",
    "Y = data['crim']\n",
    "X = sm.add_constant(X)\n",
    "model_lin = sm.OLS(Y,X)\n",
    "results_lin = model_lin.fit()\n",
    "print(results_lin.summary())\n",
    "# 0.5488 имеет позитивний ефект на результат, с увеличением lstat(более низкий статус населения (в процентах))\n",
    "    #    увеличевается преступность\n",
    "#R-squared:0.208, 20.8% данных описивается моделю\n",
    "#F-statistic: 132.0, перемение имеють значения.\n",
    "#P>|t| - существует статистически значимая связь между предиктором и ответом"
   ]
  },
  {
   "cell_type": "code",
   "execution_count": 11,
   "metadata": {
    "scrolled": true
   },
   "outputs": [
    {
     "name": "stdout",
     "output_type": "stream",
     "text": [
      "                            OLS Regression Results                            \n",
      "==============================================================================\n",
      "Dep. Variable:                   crim   R-squared:                       0.151\n",
      "Model:                            OLS   Adj. R-squared:                  0.149\n",
      "Method:                 Least Squares   F-statistic:                     89.49\n",
      "Date:                Wed, 16 Nov 2022   Prob (F-statistic):           1.17e-19\n",
      "Time:                        02:58:11   Log-Likelihood:                -1765.0\n",
      "No. Observations:                 506   AIC:                             3534.\n",
      "Df Residuals:                     504   BIC:                             3542.\n",
      "Df Model:                           1                                         \n",
      "Covariance Type:            nonrobust                                         \n",
      "==============================================================================\n",
      "                 coef    std err          t      P>|t|      [0.025      0.975]\n",
      "------------------------------------------------------------------------------\n",
      "const         11.7965      0.934     12.628      0.000       9.961      13.632\n",
      "medv          -0.3632      0.038     -9.460      0.000      -0.439      -0.288\n",
      "==============================================================================\n",
      "Omnibus:                      558.880   Durbin-Watson:                   0.996\n",
      "Prob(Omnibus):                  0.000   Jarque-Bera (JB):            32740.044\n",
      "Skew:                           5.108   Prob(JB):                         0.00\n",
      "Kurtosis:                      41.059   Cond. No.                         64.5\n",
      "==============================================================================\n",
      "\n",
      "Notes:\n",
      "[1] Standard Errors assume that the covariance matrix of the errors is correctly specified.\n"
     ]
    }
   ],
   "source": [
    "X = data['medv']\n",
    "Y = data['crim']\n",
    "X = sm.add_constant(X)\n",
    "model_lin = sm.OLS(Y,X)\n",
    "results_lin = model_lin.fit()\n",
    "print(results_lin.summary())\n",
    "# -0.3632  имеет негативный ефект на результат, с увеличением medv(медианная стоимость домов, занимаемых владельцами, за 1000 долларов.)\n",
    "    #    уменьшается преступность\n",
    "#R-squared:0.151, 15.1% данных описивается моделю\n",
    "#F-statistic: 89.49, перемение имеють значения.\n",
    "#P>|t| - существует статистически значимая связь между предиктором и ответом"
   ]
  },
  {
   "cell_type": "markdown",
   "metadata": {},
   "source": [
    "### Задание 2"
   ]
  },
  {
   "cell_type": "markdown",
   "metadata": {},
   "source": [
    "- Подберите модель множественной регрессии, чтобы предсказать ответ с использованием всех предикторов. \n",
    "- Опишите свои результаты. \n",
    "- Для каких предикторов мы можем отклонить основную гипотезу $H_0: \\beta_j = 0$?"
   ]
  },
  {
   "cell_type": "code",
   "execution_count": 45,
   "metadata": {
    "scrolled": true
   },
   "outputs": [
    {
     "data": {
      "text/html": [
       "<div>\n",
       "<style scoped>\n",
       "    .dataframe tbody tr th:only-of-type {\n",
       "        vertical-align: middle;\n",
       "    }\n",
       "\n",
       "    .dataframe tbody tr th {\n",
       "        vertical-align: top;\n",
       "    }\n",
       "\n",
       "    .dataframe thead th {\n",
       "        text-align: right;\n",
       "    }\n",
       "</style>\n",
       "<table border=\"1\" class=\"dataframe\">\n",
       "  <thead>\n",
       "    <tr style=\"text-align: right;\">\n",
       "      <th></th>\n",
       "      <th>crim</th>\n",
       "      <th>zn</th>\n",
       "      <th>indus</th>\n",
       "      <th>chas</th>\n",
       "      <th>nox</th>\n",
       "      <th>rm</th>\n",
       "      <th>age</th>\n",
       "      <th>dis</th>\n",
       "      <th>rad</th>\n",
       "      <th>tax</th>\n",
       "      <th>ptratio</th>\n",
       "      <th>lstat</th>\n",
       "      <th>medv</th>\n",
       "    </tr>\n",
       "  </thead>\n",
       "  <tbody>\n",
       "    <tr>\n",
       "      <th>1</th>\n",
       "      <td>0.00632</td>\n",
       "      <td>18.0</td>\n",
       "      <td>2.31</td>\n",
       "      <td>0</td>\n",
       "      <td>0.538</td>\n",
       "      <td>6.575</td>\n",
       "      <td>65.2</td>\n",
       "      <td>4.0900</td>\n",
       "      <td>1</td>\n",
       "      <td>296</td>\n",
       "      <td>15.3</td>\n",
       "      <td>4.98</td>\n",
       "      <td>24.0</td>\n",
       "    </tr>\n",
       "    <tr>\n",
       "      <th>2</th>\n",
       "      <td>0.02731</td>\n",
       "      <td>0.0</td>\n",
       "      <td>7.07</td>\n",
       "      <td>0</td>\n",
       "      <td>0.469</td>\n",
       "      <td>6.421</td>\n",
       "      <td>78.9</td>\n",
       "      <td>4.9671</td>\n",
       "      <td>2</td>\n",
       "      <td>242</td>\n",
       "      <td>17.8</td>\n",
       "      <td>9.14</td>\n",
       "      <td>21.6</td>\n",
       "    </tr>\n",
       "    <tr>\n",
       "      <th>3</th>\n",
       "      <td>0.02729</td>\n",
       "      <td>0.0</td>\n",
       "      <td>7.07</td>\n",
       "      <td>0</td>\n",
       "      <td>0.469</td>\n",
       "      <td>7.185</td>\n",
       "      <td>61.1</td>\n",
       "      <td>4.9671</td>\n",
       "      <td>2</td>\n",
       "      <td>242</td>\n",
       "      <td>17.8</td>\n",
       "      <td>4.03</td>\n",
       "      <td>34.7</td>\n",
       "    </tr>\n",
       "    <tr>\n",
       "      <th>4</th>\n",
       "      <td>0.03237</td>\n",
       "      <td>0.0</td>\n",
       "      <td>2.18</td>\n",
       "      <td>0</td>\n",
       "      <td>0.458</td>\n",
       "      <td>6.998</td>\n",
       "      <td>45.8</td>\n",
       "      <td>6.0622</td>\n",
       "      <td>3</td>\n",
       "      <td>222</td>\n",
       "      <td>18.7</td>\n",
       "      <td>2.94</td>\n",
       "      <td>33.4</td>\n",
       "    </tr>\n",
       "    <tr>\n",
       "      <th>5</th>\n",
       "      <td>0.06905</td>\n",
       "      <td>0.0</td>\n",
       "      <td>2.18</td>\n",
       "      <td>0</td>\n",
       "      <td>0.458</td>\n",
       "      <td>7.147</td>\n",
       "      <td>54.2</td>\n",
       "      <td>6.0622</td>\n",
       "      <td>3</td>\n",
       "      <td>222</td>\n",
       "      <td>18.7</td>\n",
       "      <td>5.33</td>\n",
       "      <td>36.2</td>\n",
       "    </tr>\n",
       "  </tbody>\n",
       "</table>\n",
       "</div>"
      ],
      "text/plain": [
       "      crim    zn  indus  chas    nox     rm   age     dis  rad  tax  ptratio  \\\n",
       "1  0.00632  18.0   2.31     0  0.538  6.575  65.2  4.0900    1  296     15.3   \n",
       "2  0.02731   0.0   7.07     0  0.469  6.421  78.9  4.9671    2  242     17.8   \n",
       "3  0.02729   0.0   7.07     0  0.469  7.185  61.1  4.9671    2  242     17.8   \n",
       "4  0.03237   0.0   2.18     0  0.458  6.998  45.8  6.0622    3  222     18.7   \n",
       "5  0.06905   0.0   2.18     0  0.458  7.147  54.2  6.0622    3  222     18.7   \n",
       "\n",
       "   lstat  medv  \n",
       "1   4.98  24.0  \n",
       "2   9.14  21.6  \n",
       "3   4.03  34.7  \n",
       "4   2.94  33.4  \n",
       "5   5.33  36.2  "
      ]
     },
     "execution_count": 45,
     "metadata": {},
     "output_type": "execute_result"
    }
   ],
   "source": [
    "data2 = pd.read_csv('Boston_dataset.csv',index_col=0)\n",
    "data2.head()"
   ]
  },
  {
   "cell_type": "code",
   "execution_count": 25,
   "metadata": {},
   "outputs": [
    {
     "data": {
      "text/html": [
       "<div>\n",
       "<style scoped>\n",
       "    .dataframe tbody tr th:only-of-type {\n",
       "        vertical-align: middle;\n",
       "    }\n",
       "\n",
       "    .dataframe tbody tr th {\n",
       "        vertical-align: top;\n",
       "    }\n",
       "\n",
       "    .dataframe thead th {\n",
       "        text-align: right;\n",
       "    }\n",
       "</style>\n",
       "<table border=\"1\" class=\"dataframe\">\n",
       "  <thead>\n",
       "    <tr style=\"text-align: right;\">\n",
       "      <th></th>\n",
       "      <th>crim</th>\n",
       "      <th>zn</th>\n",
       "      <th>indus</th>\n",
       "      <th>chas</th>\n",
       "      <th>nox</th>\n",
       "      <th>rm</th>\n",
       "      <th>age</th>\n",
       "      <th>dis</th>\n",
       "      <th>rad</th>\n",
       "      <th>tax</th>\n",
       "      <th>ptratio</th>\n",
       "      <th>lstat</th>\n",
       "      <th>medv</th>\n",
       "    </tr>\n",
       "  </thead>\n",
       "  <tbody>\n",
       "    <tr>\n",
       "      <th>crim</th>\n",
       "      <td>1.000000</td>\n",
       "      <td>-0.200469</td>\n",
       "      <td>0.406583</td>\n",
       "      <td>-0.055892</td>\n",
       "      <td>0.420972</td>\n",
       "      <td>-0.219247</td>\n",
       "      <td>0.352734</td>\n",
       "      <td>-0.379670</td>\n",
       "      <td>0.625505</td>\n",
       "      <td>0.582764</td>\n",
       "      <td>0.289946</td>\n",
       "      <td>0.455621</td>\n",
       "      <td>-0.388305</td>\n",
       "    </tr>\n",
       "    <tr>\n",
       "      <th>zn</th>\n",
       "      <td>-0.200469</td>\n",
       "      <td>1.000000</td>\n",
       "      <td>-0.533828</td>\n",
       "      <td>-0.042697</td>\n",
       "      <td>-0.516604</td>\n",
       "      <td>0.311991</td>\n",
       "      <td>-0.569537</td>\n",
       "      <td>0.664408</td>\n",
       "      <td>-0.311948</td>\n",
       "      <td>-0.314563</td>\n",
       "      <td>-0.391679</td>\n",
       "      <td>-0.412995</td>\n",
       "      <td>0.360445</td>\n",
       "    </tr>\n",
       "    <tr>\n",
       "      <th>indus</th>\n",
       "      <td>0.406583</td>\n",
       "      <td>-0.533828</td>\n",
       "      <td>1.000000</td>\n",
       "      <td>0.062938</td>\n",
       "      <td>0.763651</td>\n",
       "      <td>-0.391676</td>\n",
       "      <td>0.644779</td>\n",
       "      <td>-0.708027</td>\n",
       "      <td>0.595129</td>\n",
       "      <td>0.720760</td>\n",
       "      <td>0.383248</td>\n",
       "      <td>0.603800</td>\n",
       "      <td>-0.483725</td>\n",
       "    </tr>\n",
       "    <tr>\n",
       "      <th>chas</th>\n",
       "      <td>-0.055892</td>\n",
       "      <td>-0.042697</td>\n",
       "      <td>0.062938</td>\n",
       "      <td>1.000000</td>\n",
       "      <td>0.091203</td>\n",
       "      <td>0.091251</td>\n",
       "      <td>0.086518</td>\n",
       "      <td>-0.099176</td>\n",
       "      <td>-0.007368</td>\n",
       "      <td>-0.035587</td>\n",
       "      <td>-0.121515</td>\n",
       "      <td>-0.053929</td>\n",
       "      <td>0.175260</td>\n",
       "    </tr>\n",
       "    <tr>\n",
       "      <th>nox</th>\n",
       "      <td>0.420972</td>\n",
       "      <td>-0.516604</td>\n",
       "      <td>0.763651</td>\n",
       "      <td>0.091203</td>\n",
       "      <td>1.000000</td>\n",
       "      <td>-0.302188</td>\n",
       "      <td>0.731470</td>\n",
       "      <td>-0.769230</td>\n",
       "      <td>0.611441</td>\n",
       "      <td>0.668023</td>\n",
       "      <td>0.188933</td>\n",
       "      <td>0.590879</td>\n",
       "      <td>-0.427321</td>\n",
       "    </tr>\n",
       "    <tr>\n",
       "      <th>rm</th>\n",
       "      <td>-0.219247</td>\n",
       "      <td>0.311991</td>\n",
       "      <td>-0.391676</td>\n",
       "      <td>0.091251</td>\n",
       "      <td>-0.302188</td>\n",
       "      <td>1.000000</td>\n",
       "      <td>-0.240265</td>\n",
       "      <td>0.205246</td>\n",
       "      <td>-0.209847</td>\n",
       "      <td>-0.292048</td>\n",
       "      <td>-0.355501</td>\n",
       "      <td>-0.613808</td>\n",
       "      <td>0.695360</td>\n",
       "    </tr>\n",
       "    <tr>\n",
       "      <th>age</th>\n",
       "      <td>0.352734</td>\n",
       "      <td>-0.569537</td>\n",
       "      <td>0.644779</td>\n",
       "      <td>0.086518</td>\n",
       "      <td>0.731470</td>\n",
       "      <td>-0.240265</td>\n",
       "      <td>1.000000</td>\n",
       "      <td>-0.747881</td>\n",
       "      <td>0.456022</td>\n",
       "      <td>0.506456</td>\n",
       "      <td>0.261515</td>\n",
       "      <td>0.602339</td>\n",
       "      <td>-0.376955</td>\n",
       "    </tr>\n",
       "    <tr>\n",
       "      <th>dis</th>\n",
       "      <td>-0.379670</td>\n",
       "      <td>0.664408</td>\n",
       "      <td>-0.708027</td>\n",
       "      <td>-0.099176</td>\n",
       "      <td>-0.769230</td>\n",
       "      <td>0.205246</td>\n",
       "      <td>-0.747881</td>\n",
       "      <td>1.000000</td>\n",
       "      <td>-0.494588</td>\n",
       "      <td>-0.534432</td>\n",
       "      <td>-0.232471</td>\n",
       "      <td>-0.496996</td>\n",
       "      <td>0.249929</td>\n",
       "    </tr>\n",
       "    <tr>\n",
       "      <th>rad</th>\n",
       "      <td>0.625505</td>\n",
       "      <td>-0.311948</td>\n",
       "      <td>0.595129</td>\n",
       "      <td>-0.007368</td>\n",
       "      <td>0.611441</td>\n",
       "      <td>-0.209847</td>\n",
       "      <td>0.456022</td>\n",
       "      <td>-0.494588</td>\n",
       "      <td>1.000000</td>\n",
       "      <td>0.910228</td>\n",
       "      <td>0.464741</td>\n",
       "      <td>0.488676</td>\n",
       "      <td>-0.381626</td>\n",
       "    </tr>\n",
       "    <tr>\n",
       "      <th>tax</th>\n",
       "      <td>0.582764</td>\n",
       "      <td>-0.314563</td>\n",
       "      <td>0.720760</td>\n",
       "      <td>-0.035587</td>\n",
       "      <td>0.668023</td>\n",
       "      <td>-0.292048</td>\n",
       "      <td>0.506456</td>\n",
       "      <td>-0.534432</td>\n",
       "      <td>0.910228</td>\n",
       "      <td>1.000000</td>\n",
       "      <td>0.460853</td>\n",
       "      <td>0.543993</td>\n",
       "      <td>-0.468536</td>\n",
       "    </tr>\n",
       "    <tr>\n",
       "      <th>ptratio</th>\n",
       "      <td>0.289946</td>\n",
       "      <td>-0.391679</td>\n",
       "      <td>0.383248</td>\n",
       "      <td>-0.121515</td>\n",
       "      <td>0.188933</td>\n",
       "      <td>-0.355501</td>\n",
       "      <td>0.261515</td>\n",
       "      <td>-0.232471</td>\n",
       "      <td>0.464741</td>\n",
       "      <td>0.460853</td>\n",
       "      <td>1.000000</td>\n",
       "      <td>0.374044</td>\n",
       "      <td>-0.507787</td>\n",
       "    </tr>\n",
       "    <tr>\n",
       "      <th>lstat</th>\n",
       "      <td>0.455621</td>\n",
       "      <td>-0.412995</td>\n",
       "      <td>0.603800</td>\n",
       "      <td>-0.053929</td>\n",
       "      <td>0.590879</td>\n",
       "      <td>-0.613808</td>\n",
       "      <td>0.602339</td>\n",
       "      <td>-0.496996</td>\n",
       "      <td>0.488676</td>\n",
       "      <td>0.543993</td>\n",
       "      <td>0.374044</td>\n",
       "      <td>1.000000</td>\n",
       "      <td>-0.737663</td>\n",
       "    </tr>\n",
       "    <tr>\n",
       "      <th>medv</th>\n",
       "      <td>-0.388305</td>\n",
       "      <td>0.360445</td>\n",
       "      <td>-0.483725</td>\n",
       "      <td>0.175260</td>\n",
       "      <td>-0.427321</td>\n",
       "      <td>0.695360</td>\n",
       "      <td>-0.376955</td>\n",
       "      <td>0.249929</td>\n",
       "      <td>-0.381626</td>\n",
       "      <td>-0.468536</td>\n",
       "      <td>-0.507787</td>\n",
       "      <td>-0.737663</td>\n",
       "      <td>1.000000</td>\n",
       "    </tr>\n",
       "  </tbody>\n",
       "</table>\n",
       "</div>"
      ],
      "text/plain": [
       "             crim        zn     indus      chas       nox        rm       age  \\\n",
       "crim     1.000000 -0.200469  0.406583 -0.055892  0.420972 -0.219247  0.352734   \n",
       "zn      -0.200469  1.000000 -0.533828 -0.042697 -0.516604  0.311991 -0.569537   \n",
       "indus    0.406583 -0.533828  1.000000  0.062938  0.763651 -0.391676  0.644779   \n",
       "chas    -0.055892 -0.042697  0.062938  1.000000  0.091203  0.091251  0.086518   \n",
       "nox      0.420972 -0.516604  0.763651  0.091203  1.000000 -0.302188  0.731470   \n",
       "rm      -0.219247  0.311991 -0.391676  0.091251 -0.302188  1.000000 -0.240265   \n",
       "age      0.352734 -0.569537  0.644779  0.086518  0.731470 -0.240265  1.000000   \n",
       "dis     -0.379670  0.664408 -0.708027 -0.099176 -0.769230  0.205246 -0.747881   \n",
       "rad      0.625505 -0.311948  0.595129 -0.007368  0.611441 -0.209847  0.456022   \n",
       "tax      0.582764 -0.314563  0.720760 -0.035587  0.668023 -0.292048  0.506456   \n",
       "ptratio  0.289946 -0.391679  0.383248 -0.121515  0.188933 -0.355501  0.261515   \n",
       "lstat    0.455621 -0.412995  0.603800 -0.053929  0.590879 -0.613808  0.602339   \n",
       "medv    -0.388305  0.360445 -0.483725  0.175260 -0.427321  0.695360 -0.376955   \n",
       "\n",
       "              dis       rad       tax   ptratio     lstat      medv  \n",
       "crim    -0.379670  0.625505  0.582764  0.289946  0.455621 -0.388305  \n",
       "zn       0.664408 -0.311948 -0.314563 -0.391679 -0.412995  0.360445  \n",
       "indus   -0.708027  0.595129  0.720760  0.383248  0.603800 -0.483725  \n",
       "chas    -0.099176 -0.007368 -0.035587 -0.121515 -0.053929  0.175260  \n",
       "nox     -0.769230  0.611441  0.668023  0.188933  0.590879 -0.427321  \n",
       "rm       0.205246 -0.209847 -0.292048 -0.355501 -0.613808  0.695360  \n",
       "age     -0.747881  0.456022  0.506456  0.261515  0.602339 -0.376955  \n",
       "dis      1.000000 -0.494588 -0.534432 -0.232471 -0.496996  0.249929  \n",
       "rad     -0.494588  1.000000  0.910228  0.464741  0.488676 -0.381626  \n",
       "tax     -0.534432  0.910228  1.000000  0.460853  0.543993 -0.468536  \n",
       "ptratio -0.232471  0.464741  0.460853  1.000000  0.374044 -0.507787  \n",
       "lstat   -0.496996  0.488676  0.543993  0.374044  1.000000 -0.737663  \n",
       "medv     0.249929 -0.381626 -0.468536 -0.507787 -0.737663  1.000000  "
      ]
     },
     "execution_count": 25,
     "metadata": {},
     "output_type": "execute_result"
    }
   ],
   "source": [
    "data2.corr()"
   ]
  },
  {
   "cell_type": "code",
   "execution_count": 46,
   "metadata": {
    "scrolled": true
   },
   "outputs": [
    {
     "name": "stdout",
     "output_type": "stream",
     "text": [
      "                            OLS Regression Results                            \n",
      "==============================================================================\n",
      "Dep. Variable:                   crim   R-squared:                       0.449\n",
      "Model:                            OLS   Adj. R-squared:                  0.436\n",
      "Method:                 Least Squares   F-statistic:                     33.52\n",
      "Date:                Sun, 20 Nov 2022   Prob (F-statistic):           2.03e-56\n",
      "Time:                        23:58:30   Log-Likelihood:                -1655.4\n",
      "No. Observations:                 506   AIC:                             3337.\n",
      "Df Residuals:                     493   BIC:                             3392.\n",
      "Df Model:                          12                                         \n",
      "Covariance Type:            nonrobust                                         \n",
      "==============================================================================\n",
      "                 coef    std err          t      P>|t|      [0.025      0.975]\n",
      "------------------------------------------------------------------------------\n",
      "const         13.7784      7.082      1.946      0.052      -0.136      27.693\n",
      "zn             0.0457      0.019      2.433      0.015       0.009       0.083\n",
      "indus         -0.0584      0.084     -0.698      0.486      -0.223       0.106\n",
      "chas          -0.8254      1.183     -0.697      0.486      -3.150       1.500\n",
      "nox           -9.9576      5.290     -1.882      0.060     -20.351       0.436\n",
      "rm             0.6289      0.607      1.036      0.301      -0.564       1.822\n",
      "age           -0.0008      0.018     -0.047      0.962      -0.036       0.034\n",
      "dis           -1.0122      0.282     -3.584      0.000      -1.567      -0.457\n",
      "rad            0.6125      0.088      6.997      0.000       0.440       0.784\n",
      "tax           -0.0038      0.005     -0.730      0.466      -0.014       0.006\n",
      "ptratio       -0.3041      0.186     -1.632      0.103      -0.670       0.062\n",
      "lstat          0.1388      0.076      1.833      0.067      -0.010       0.288\n",
      "medv          -0.2201      0.060     -3.678      0.000      -0.338      -0.103\n",
      "==============================================================================\n",
      "Omnibus:                      663.436   Durbin-Watson:                   1.516\n",
      "Prob(Omnibus):                  0.000   Jarque-Bera (JB):            80856.852\n",
      "Skew:                           6.579   Prob(JB):                         0.00\n",
      "Kurtosis:                      63.514   Cond. No.                     1.24e+04\n",
      "==============================================================================\n",
      "\n",
      "Notes:\n",
      "[1] Standard Errors assume that the covariance matrix of the errors is correctly specified.\n",
      "[2] The condition number is large, 1.24e+04. This might indicate that there are\n",
      "strong multicollinearity or other numerical problems.\n"
     ]
    }
   ],
   "source": [
    "X = data2[['zn','indus','chas','nox','rm','age','dis','rad','tax','ptratio','lstat','medv']]\n",
    "Y = data2['crim']\n",
    "X = sm.add_constant(X)\n",
    "model = sm.OLS(Y,X)\n",
    "results = model.fit()\n",
    "print(results.summary())\n"
   ]
  },
  {
   "cell_type": "code",
   "execution_count": null,
   "metadata": {},
   "outputs": [],
   "source": [
    "# F статистика имеет очень низкое Р-значение, что означает что связь есть.\n",
    "#𝑅2  значение равно почти 44.9%, наша модель объясняет почти 45% вариации в продаже.\n",
    "# В множественной линейной регрессии, p-значения близко к нулю для zn,dis,rad medv, а для других - нет. Это говорит о том, что на crim влияют только  zn,dis,rad medv.\n",
    "#Так же нужно исключить предикаты с коэф диапазоны которых, которые включают значение 0. И останеться наши предекаты zn,dis,rad,medv - для них мы отклоняем основную гипотезу"
   ]
  },
  {
   "cell_type": "code",
   "execution_count": 56,
   "metadata": {},
   "outputs": [
    {
     "data": {
      "text/plain": [
       "6.297173943341086"
      ]
     },
     "execution_count": 56,
     "metadata": {},
     "output_type": "execute_result"
    }
   ],
   "source": [
    "yhat = results.predict()\n",
    "rse = np.sqrt((1/(len(X)-2))*np.sum((Y-yhat)**2))\n",
    "rse"
   ]
  },
  {
   "cell_type": "code",
   "execution_count": 57,
   "metadata": {
    "scrolled": true
   },
   "outputs": [
    {
     "data": {
      "text/plain": [
       "174.2668573613766"
      ]
     },
     "execution_count": 57,
     "metadata": {},
     "output_type": "execute_result"
    }
   ],
   "source": [
    "rse/np.mean(Y)*100"
   ]
  },
  {
   "cell_type": "markdown",
   "metadata": {},
   "source": [
    "### Задание 3"
   ]
  },
  {
   "cell_type": "markdown",
   "metadata": {},
   "source": [
    "- Как ваши результаты из первой задачи связаны с вашими результатами из второй задачи? \n",
    "- Создайте график, отображающий коэффициенты одномерной регрессии на оси x и соответствующие коэффициенты множественной регрессии на оси y. То есть каждый предиктор отображается как одна точка на графике. Его коэффициент в простой модели линейной регрессии показан на абсциссе, а его оценка коэффициента в модели множественной линейной регрессии показана на ординате."
   ]
  },
  {
   "cell_type": "code",
   "execution_count": 69,
   "metadata": {},
   "outputs": [
    {
     "data": {
      "text/plain": [
       "(-2.0, 2.0)"
      ]
     },
     "execution_count": 69,
     "metadata": {},
     "output_type": "execute_result"
    },
    {
     "data": {
      "image/png": "[encoded data removed]",
      "text/plain": [
       "<Figure size 1080x360 with 2 Axes>"
      ]
     },
     "metadata": {
      "needs_background": "light"
     },
     "output_type": "display_data"
    }
   ],
   "source": [
    "#множество коэффициентов предекатов одмерной модели, которые имели незначительный F квадрат сменили знак на противоположный\n",
    "simple_reg=[-0.0739,0.5098,-1.8928,31.2485,-2.6841,0.1078,-1.5509,0.6179,0.0297,1.1520,0.5488,-0.3632]\n",
    "mult_reg=[0.0457,-0.0584,-0.8254,-9.9576,0.6289,-0.0008,-1.0122,0.6125,-0.0038,-0.3041,0.1388,-0.2201]\n",
    "\n",
    "fig, axes = plt.subplots(1,2,figsize=(15,5))\n",
    "axes[0].scatter(simple_reg, mult_reg)\n",
    "x=axes[0].get_xlim()\n",
    "axes[0].plot(x,len(x)*[0],sns.xkcd_rgb[\"pale red\"])\n",
    "y=axes[0].get_ylim()\n",
    "axes[0].plot(len(y)*[0],y,sns.xkcd_rgb[\"pale red\"])\n",
    "\n",
    "axes[1].scatter(simple_reg, mult_reg)\n",
    "x=axes[1].get_xlim()\n",
    "axes[1].plot(x,len(x)*[0],sns.xkcd_rgb[\"pale red\"])\n",
    "y=axes[1].get_ylim()\n",
    "axes[1].plot(len(y)*[0],y,sns.xkcd_rgb[\"pale red\"])\n",
    "axes[1].set_xlim([-2,2])\n",
    "axes[1].set_ylim([-2,2])\n"
   ]
  },
  {
   "cell_type": "markdown",
   "metadata": {},
   "source": [
    "### Задание 4"
   ]
  },
  {
   "cell_type": "markdown",
   "metadata": {},
   "source": [
    "Есть ли доказательства нелинейной связи между какими-либо предикторами и ответом? Чтобы ответить на этот вопрос, обучите для каждого предиктора X модель до 3-ей степени, то есть $Y = \\beta_0 + \\beta_1 X + \\beta_2 X^2 + \\beta_3 X^3$"
   ]
  },
  {
   "cell_type": "code",
   "execution_count": 7,
   "metadata": {},
   "outputs": [
    {
     "data": {
      "text/html": [
       "<div>\n",
       "<style scoped>\n",
       "    .dataframe tbody tr th:only-of-type {\n",
       "        vertical-align: middle;\n",
       "    }\n",
       "\n",
       "    .dataframe tbody tr th {\n",
       "        vertical-align: top;\n",
       "    }\n",
       "\n",
       "    .dataframe thead th {\n",
       "        text-align: right;\n",
       "    }\n",
       "</style>\n",
       "<table border=\"1\" class=\"dataframe\">\n",
       "  <thead>\n",
       "    <tr style=\"text-align: right;\">\n",
       "      <th></th>\n",
       "      <th>crim</th>\n",
       "      <th>zn</th>\n",
       "      <th>indus</th>\n",
       "      <th>chas</th>\n",
       "      <th>nox</th>\n",
       "      <th>rm</th>\n",
       "      <th>age</th>\n",
       "      <th>dis</th>\n",
       "      <th>rad</th>\n",
       "      <th>tax</th>\n",
       "      <th>ptratio</th>\n",
       "      <th>lstat</th>\n",
       "      <th>medv</th>\n",
       "    </tr>\n",
       "  </thead>\n",
       "  <tbody>\n",
       "    <tr>\n",
       "      <th>1</th>\n",
       "      <td>0.00632</td>\n",
       "      <td>18.0</td>\n",
       "      <td>2.31</td>\n",
       "      <td>0</td>\n",
       "      <td>0.538</td>\n",
       "      <td>6.575</td>\n",
       "      <td>65.2</td>\n",
       "      <td>4.0900</td>\n",
       "      <td>1</td>\n",
       "      <td>296</td>\n",
       "      <td>15.3</td>\n",
       "      <td>4.98</td>\n",
       "      <td>24.0</td>\n",
       "    </tr>\n",
       "    <tr>\n",
       "      <th>2</th>\n",
       "      <td>0.02731</td>\n",
       "      <td>0.0</td>\n",
       "      <td>7.07</td>\n",
       "      <td>0</td>\n",
       "      <td>0.469</td>\n",
       "      <td>6.421</td>\n",
       "      <td>78.9</td>\n",
       "      <td>4.9671</td>\n",
       "      <td>2</td>\n",
       "      <td>242</td>\n",
       "      <td>17.8</td>\n",
       "      <td>9.14</td>\n",
       "      <td>21.6</td>\n",
       "    </tr>\n",
       "    <tr>\n",
       "      <th>3</th>\n",
       "      <td>0.02729</td>\n",
       "      <td>0.0</td>\n",
       "      <td>7.07</td>\n",
       "      <td>0</td>\n",
       "      <td>0.469</td>\n",
       "      <td>7.185</td>\n",
       "      <td>61.1</td>\n",
       "      <td>4.9671</td>\n",
       "      <td>2</td>\n",
       "      <td>242</td>\n",
       "      <td>17.8</td>\n",
       "      <td>4.03</td>\n",
       "      <td>34.7</td>\n",
       "    </tr>\n",
       "    <tr>\n",
       "      <th>4</th>\n",
       "      <td>0.03237</td>\n",
       "      <td>0.0</td>\n",
       "      <td>2.18</td>\n",
       "      <td>0</td>\n",
       "      <td>0.458</td>\n",
       "      <td>6.998</td>\n",
       "      <td>45.8</td>\n",
       "      <td>6.0622</td>\n",
       "      <td>3</td>\n",
       "      <td>222</td>\n",
       "      <td>18.7</td>\n",
       "      <td>2.94</td>\n",
       "      <td>33.4</td>\n",
       "    </tr>\n",
       "    <tr>\n",
       "      <th>5</th>\n",
       "      <td>0.06905</td>\n",
       "      <td>0.0</td>\n",
       "      <td>2.18</td>\n",
       "      <td>0</td>\n",
       "      <td>0.458</td>\n",
       "      <td>7.147</td>\n",
       "      <td>54.2</td>\n",
       "      <td>6.0622</td>\n",
       "      <td>3</td>\n",
       "      <td>222</td>\n",
       "      <td>18.7</td>\n",
       "      <td>5.33</td>\n",
       "      <td>36.2</td>\n",
       "    </tr>\n",
       "  </tbody>\n",
       "</table>\n",
       "</div>"
      ],
      "text/plain": [
       "      crim    zn  indus  chas    nox     rm   age     dis  rad  tax  ptratio  \\\n",
       "1  0.00632  18.0   2.31     0  0.538  6.575  65.2  4.0900    1  296     15.3   \n",
       "2  0.02731   0.0   7.07     0  0.469  6.421  78.9  4.9671    2  242     17.8   \n",
       "3  0.02729   0.0   7.07     0  0.469  7.185  61.1  4.9671    2  242     17.8   \n",
       "4  0.03237   0.0   2.18     0  0.458  6.998  45.8  6.0622    3  222     18.7   \n",
       "5  0.06905   0.0   2.18     0  0.458  7.147  54.2  6.0622    3  222     18.7   \n",
       "\n",
       "   lstat  medv  \n",
       "1   4.98  24.0  \n",
       "2   9.14  21.6  \n",
       "3   4.03  34.7  \n",
       "4   2.94  33.4  \n",
       "5   5.33  36.2  "
      ]
     },
     "execution_count": 7,
     "metadata": {},
     "output_type": "execute_result"
    }
   ],
   "source": [
    "data3 = pd.read_csv('Boston_dataset.csv',index_col=0)\n",
    "data3.head()"
   ]
  },
  {
   "cell_type": "code",
   "execution_count": 8,
   "metadata": {},
   "outputs": [],
   "source": [
    "data3['zn^2']=data3['zn']*data3['zn']\n",
    "data3['zn^3']=data3['zn']*data3['zn']*data3['zn']\n",
    "\n",
    "data3['indus^2']=data3['indus']*data3['indus']\n",
    "data3['indus^3']=data3['indus']*data3['indus']*data3['indus']\n",
    "\n",
    "data3['chas^2']=data3['chas']*data3['chas']\n",
    "data3['chas^3']=data3['chas']*data3['chas']*data3['chas']\n",
    "\n",
    "data3['nox^2']=data3['nox']*data3['nox']\n",
    "data3['nox^3']=data3['nox']*data3['nox']*data3['nox']\n",
    "\n",
    "data3['rm^2']=data3['rm']*data3['rm']\n",
    "data3['rm^3']=data3['rm']*data3['rm']*data3['rm']\n",
    "\n",
    "data3['age^2']=data3['age']*data3['age']\n",
    "data3['age^3']=data3['age']*data3['age']*data3['age']\n",
    "\n",
    "data3['dis^2']=data3['dis']*data3['dis']\n",
    "data3['dis^3']=data3['dis']*data3['dis']*data3['dis']\n",
    "\n",
    "data3['rad^2']=data3['rad']*data3['rad']\n",
    "data3['rad^3']=data3['rad']*data3['rad']*data3['rad']\n",
    "\n",
    "data3['tax^2']=data3['tax']*data3['tax']\n",
    "data3['tax^3']=data3['tax']*data3['tax']*data3['tax']\n",
    "\n",
    "data3['ptratio^2']=data3['ptratio']*data3['ptratio']\n",
    "data3['ptratio^3']=data3['ptratio']*data3['ptratio']*data3['ptratio']\n",
    "\n",
    "data3['lstat^2']=data3['lstat']*data3['lstat']\n",
    "data3['lstat^3']=data3['lstat']*data3['lstat']*data3['lstat']\n",
    "\n",
    "data3['medv^2']=data3['medv']*data3['medv']\n",
    "data3['medv^3']=data3['medv']*data3['medv']*data3['medv']\n"
   ]
  },
  {
   "cell_type": "code",
   "execution_count": 9,
   "metadata": {
    "scrolled": true
   },
   "outputs": [
    {
     "data": {
      "text/html": [
       "<div>\n",
       "<style scoped>\n",
       "    .dataframe tbody tr th:only-of-type {\n",
       "        vertical-align: middle;\n",
       "    }\n",
       "\n",
       "    .dataframe tbody tr th {\n",
       "        vertical-align: top;\n",
       "    }\n",
       "\n",
       "    .dataframe thead th {\n",
       "        text-align: right;\n",
       "    }\n",
       "</style>\n",
       "<table border=\"1\" class=\"dataframe\">\n",
       "  <thead>\n",
       "    <tr style=\"text-align: right;\">\n",
       "      <th></th>\n",
       "      <th>crim</th>\n",
       "      <th>zn</th>\n",
       "      <th>indus</th>\n",
       "      <th>chas</th>\n",
       "      <th>nox</th>\n",
       "      <th>rm</th>\n",
       "      <th>age</th>\n",
       "      <th>dis</th>\n",
       "      <th>rad</th>\n",
       "      <th>tax</th>\n",
       "      <th>...</th>\n",
       "      <th>rad^2</th>\n",
       "      <th>rad^3</th>\n",
       "      <th>tax^2</th>\n",
       "      <th>tax^3</th>\n",
       "      <th>ptratio^2</th>\n",
       "      <th>ptratio^3</th>\n",
       "      <th>lstat^2</th>\n",
       "      <th>lstat^3</th>\n",
       "      <th>medv^2</th>\n",
       "      <th>medv^3</th>\n",
       "    </tr>\n",
       "  </thead>\n",
       "  <tbody>\n",
       "    <tr>\n",
       "      <th>1</th>\n",
       "      <td>0.00632</td>\n",
       "      <td>18.0</td>\n",
       "      <td>2.31</td>\n",
       "      <td>0</td>\n",
       "      <td>0.538</td>\n",
       "      <td>6.575</td>\n",
       "      <td>65.2</td>\n",
       "      <td>4.0900</td>\n",
       "      <td>1</td>\n",
       "      <td>296</td>\n",
       "      <td>...</td>\n",
       "      <td>1</td>\n",
       "      <td>1</td>\n",
       "      <td>87616</td>\n",
       "      <td>25934336</td>\n",
       "      <td>234.09</td>\n",
       "      <td>3581.577</td>\n",
       "      <td>24.8004</td>\n",
       "      <td>123.505992</td>\n",
       "      <td>576.00</td>\n",
       "      <td>13824.000</td>\n",
       "    </tr>\n",
       "    <tr>\n",
       "      <th>2</th>\n",
       "      <td>0.02731</td>\n",
       "      <td>0.0</td>\n",
       "      <td>7.07</td>\n",
       "      <td>0</td>\n",
       "      <td>0.469</td>\n",
       "      <td>6.421</td>\n",
       "      <td>78.9</td>\n",
       "      <td>4.9671</td>\n",
       "      <td>2</td>\n",
       "      <td>242</td>\n",
       "      <td>...</td>\n",
       "      <td>4</td>\n",
       "      <td>8</td>\n",
       "      <td>58564</td>\n",
       "      <td>14172488</td>\n",
       "      <td>316.84</td>\n",
       "      <td>5639.752</td>\n",
       "      <td>83.5396</td>\n",
       "      <td>763.551944</td>\n",
       "      <td>466.56</td>\n",
       "      <td>10077.696</td>\n",
       "    </tr>\n",
       "    <tr>\n",
       "      <th>3</th>\n",
       "      <td>0.02729</td>\n",
       "      <td>0.0</td>\n",
       "      <td>7.07</td>\n",
       "      <td>0</td>\n",
       "      <td>0.469</td>\n",
       "      <td>7.185</td>\n",
       "      <td>61.1</td>\n",
       "      <td>4.9671</td>\n",
       "      <td>2</td>\n",
       "      <td>242</td>\n",
       "      <td>...</td>\n",
       "      <td>4</td>\n",
       "      <td>8</td>\n",
       "      <td>58564</td>\n",
       "      <td>14172488</td>\n",
       "      <td>316.84</td>\n",
       "      <td>5639.752</td>\n",
       "      <td>16.2409</td>\n",
       "      <td>65.450827</td>\n",
       "      <td>1204.09</td>\n",
       "      <td>41781.923</td>\n",
       "    </tr>\n",
       "    <tr>\n",
       "      <th>4</th>\n",
       "      <td>0.03237</td>\n",
       "      <td>0.0</td>\n",
       "      <td>2.18</td>\n",
       "      <td>0</td>\n",
       "      <td>0.458</td>\n",
       "      <td>6.998</td>\n",
       "      <td>45.8</td>\n",
       "      <td>6.0622</td>\n",
       "      <td>3</td>\n",
       "      <td>222</td>\n",
       "      <td>...</td>\n",
       "      <td>9</td>\n",
       "      <td>27</td>\n",
       "      <td>49284</td>\n",
       "      <td>10941048</td>\n",
       "      <td>349.69</td>\n",
       "      <td>6539.203</td>\n",
       "      <td>8.6436</td>\n",
       "      <td>25.412184</td>\n",
       "      <td>1115.56</td>\n",
       "      <td>37259.704</td>\n",
       "    </tr>\n",
       "    <tr>\n",
       "      <th>5</th>\n",
       "      <td>0.06905</td>\n",
       "      <td>0.0</td>\n",
       "      <td>2.18</td>\n",
       "      <td>0</td>\n",
       "      <td>0.458</td>\n",
       "      <td>7.147</td>\n",
       "      <td>54.2</td>\n",
       "      <td>6.0622</td>\n",
       "      <td>3</td>\n",
       "      <td>222</td>\n",
       "      <td>...</td>\n",
       "      <td>9</td>\n",
       "      <td>27</td>\n",
       "      <td>49284</td>\n",
       "      <td>10941048</td>\n",
       "      <td>349.69</td>\n",
       "      <td>6539.203</td>\n",
       "      <td>28.4089</td>\n",
       "      <td>151.419437</td>\n",
       "      <td>1310.44</td>\n",
       "      <td>47437.928</td>\n",
       "    </tr>\n",
       "  </tbody>\n",
       "</table>\n",
       "<p>5 rows × 37 columns</p>\n",
       "</div>"
      ],
      "text/plain": [
       "      crim    zn  indus  chas    nox     rm   age     dis  rad  tax  ...  \\\n",
       "1  0.00632  18.0   2.31     0  0.538  6.575  65.2  4.0900    1  296  ...   \n",
       "2  0.02731   0.0   7.07     0  0.469  6.421  78.9  4.9671    2  242  ...   \n",
       "3  0.02729   0.0   7.07     0  0.469  7.185  61.1  4.9671    2  242  ...   \n",
       "4  0.03237   0.0   2.18     0  0.458  6.998  45.8  6.0622    3  222  ...   \n",
       "5  0.06905   0.0   2.18     0  0.458  7.147  54.2  6.0622    3  222  ...   \n",
       "\n",
       "   rad^2  rad^3  tax^2     tax^3  ptratio^2  ptratio^3  lstat^2     lstat^3  \\\n",
       "1      1      1  87616  25934336     234.09   3581.577  24.8004  123.505992   \n",
       "2      4      8  58564  14172488     316.84   5639.752  83.5396  763.551944   \n",
       "3      4      8  58564  14172488     316.84   5639.752  16.2409   65.450827   \n",
       "4      9     27  49284  10941048     349.69   6539.203   8.6436   25.412184   \n",
       "5      9     27  49284  10941048     349.69   6539.203  28.4089  151.419437   \n",
       "\n",
       "    medv^2     medv^3  \n",
       "1   576.00  13824.000  \n",
       "2   466.56  10077.696  \n",
       "3  1204.09  41781.923  \n",
       "4  1115.56  37259.704  \n",
       "5  1310.44  47437.928  \n",
       "\n",
       "[5 rows x 37 columns]"
      ]
     },
     "execution_count": 9,
     "metadata": {},
     "output_type": "execute_result"
    }
   ],
   "source": [
    "data3.head()"
   ]
  },
  {
   "cell_type": "code",
   "execution_count": 10,
   "metadata": {
    "scrolled": true
   },
   "outputs": [
    {
     "name": "stdout",
     "output_type": "stream",
     "text": [
      "                            OLS Regression Results                            \n",
      "==============================================================================\n",
      "Dep. Variable:                   crim   R-squared:                       0.058\n",
      "Model:                            OLS   Adj. R-squared:                  0.053\n",
      "Method:                 Least Squares   F-statistic:                     10.35\n",
      "Date:                Sun, 20 Nov 2022   Prob (F-statistic):           1.28e-06\n",
      "Time:                        23:34:14   Log-Likelihood:                -1791.2\n",
      "No. Observations:                 506   AIC:                             3590.\n",
      "Df Residuals:                     502   BIC:                             3607.\n",
      "Df Model:                           3                                         \n",
      "Covariance Type:            nonrobust                                         \n",
      "==============================================================================\n",
      "                 coef    std err          t      P>|t|      [0.025      0.975]\n",
      "------------------------------------------------------------------------------\n",
      "const          4.8461      0.433     11.192      0.000       3.995       5.697\n",
      "zn            -0.3322      0.110     -3.025      0.003      -0.548      -0.116\n",
      "zn^2           0.0065      0.004      1.679      0.094      -0.001       0.014\n",
      "zn^3       -3.776e-05   3.14e-05     -1.203      0.230   -9.94e-05    2.39e-05\n",
      "==============================================================================\n",
      "Omnibus:                      569.133   Durbin-Watson:                   0.875\n",
      "Prob(Omnibus):                  0.000   Jarque-Bera (JB):            33700.991\n",
      "Skew:                           5.272   Prob(JB):                         0.00\n",
      "Kurtosis:                      41.565   Cond. No.                     1.89e+05\n",
      "==============================================================================\n",
      "\n",
      "Notes:\n",
      "[1] Standard Errors assume that the covariance matrix of the errors is correctly specified.\n",
      "[2] The condition number is large, 1.89e+05. This might indicate that there are\n",
      "strong multicollinearity or other numerical problems.\n"
     ]
    }
   ],
   "source": [
    "X = data3[['zn','zn^2','zn^3']]\n",
    "Y = data3['crim']\n",
    "X = sm.add_constant(X)\n",
    "model_poly = sm.OLS(Y,X)\n",
    "results_poly = model_poly.fit()\n",
    "print(results_poly.summary())"
   ]
  },
  {
   "cell_type": "code",
   "execution_count": 21,
   "metadata": {},
   "outputs": [
    {
     "data": {
      "text/plain": [
       "Text(0, 0.5, 'Residuals')"
      ]
     },
     "execution_count": 21,
     "metadata": {},
     "output_type": "execute_result"
    },
    {
     "data": {
      "image/png": "[encoded data removed]",
      "text/plain": [
       "<Figure size 864x360 with 1 Axes>"
      ]
     },
     "metadata": {
      "needs_background": "light"
     },
     "output_type": "display_data"
    }
   ],
   "source": [
    "predictions_poly = results_poly.predict(X)\n",
    "residuals_poly =  data['zn'] - predictions_poly\n",
    "fig, ax = plt.subplots(figsize=(12,5))\n",
    "sns.scatterplot(ax=ax,x=data3['zn'], y=residuals_poly)\n",
    "ax.set_title('Полиномиальная модель',size=16)\n",
    "ax.set_xlabel('zn',size=16)\n",
    "ax.set_ylabel('Residuals',size=16) #есть не линейная звязь"
   ]
  },
  {
   "cell_type": "code",
   "execution_count": 22,
   "metadata": {
    "scrolled": true
   },
   "outputs": [
    {
     "name": "stdout",
     "output_type": "stream",
     "text": [
      "                            OLS Regression Results                            \n",
      "==============================================================================\n",
      "Dep. Variable:                   crim   R-squared:                       0.260\n",
      "Model:                            OLS   Adj. R-squared:                  0.255\n",
      "Method:                 Least Squares   F-statistic:                     58.69\n",
      "Date:                Sun, 20 Nov 2022   Prob (F-statistic):           1.55e-32\n",
      "Time:                        23:39:33   Log-Likelihood:                -1730.3\n",
      "No. Observations:                 506   AIC:                             3469.\n",
      "Df Residuals:                     502   BIC:                             3486.\n",
      "Df Model:                           3                                         \n",
      "Covariance Type:            nonrobust                                         \n",
      "==============================================================================\n",
      "                 coef    std err          t      P>|t|      [0.025      0.975]\n",
      "------------------------------------------------------------------------------\n",
      "const          3.6626      1.574      2.327      0.020       0.570       6.755\n",
      "indus         -1.9652      0.482     -4.077      0.000      -2.912      -1.018\n",
      "indus^2        0.2519      0.039      6.407      0.000       0.175       0.329\n",
      "indus^3       -0.0070      0.001     -7.292      0.000      -0.009      -0.005\n",
      "==============================================================================\n",
      "Omnibus:                      611.788   Durbin-Watson:                   1.116\n",
      "Prob(Omnibus):                  0.000   Jarque-Bera (JB):            51742.286\n",
      "Skew:                           5.820   Prob(JB):                         0.00\n",
      "Kurtosis:                      51.153   Cond. No.                     2.47e+04\n",
      "==============================================================================\n",
      "\n",
      "Notes:\n",
      "[1] Standard Errors assume that the covariance matrix of the errors is correctly specified.\n",
      "[2] The condition number is large, 2.47e+04. This might indicate that there are\n",
      "strong multicollinearity or other numerical problems.\n"
     ]
    }
   ],
   "source": [
    "X = data3[['indus','indus^2','indus^3']]\n",
    "Y = data3['crim']\n",
    "X = sm.add_constant(X)\n",
    "model_poly = sm.OLS(Y,X)\n",
    "results_poly = model_poly.fit()\n",
    "print(results_poly.summary())"
   ]
  },
  {
   "cell_type": "code",
   "execution_count": 23,
   "metadata": {},
   "outputs": [
    {
     "data": {
      "text/plain": [
       "Text(0, 0.5, 'Residuals')"
      ]
     },
     "execution_count": 23,
     "metadata": {},
     "output_type": "execute_result"
    },
    {
     "data": {
      "image/png": "[encoded data removed]",
      "text/plain": [
       "<Figure size 864x360 with 1 Axes>"
      ]
     },
     "metadata": {
      "needs_background": "light"
     },
     "output_type": "display_data"
    }
   ],
   "source": [
    "predictions_poly = results_poly.predict(X)\n",
    "residuals_poly =  data['indus'] - predictions_poly\n",
    "fig, ax = plt.subplots(figsize=(12,5))\n",
    "sns.scatterplot(ax=ax,x=data3['indus'], y=residuals_poly)\n",
    "ax.set_title('Полиномиальная модель',size=16)\n",
    "ax.set_xlabel('indus',size=16)\n",
    "ax.set_ylabel('Residuals',size=16) #есть нелинейная звязь"
   ]
  },
  {
   "cell_type": "code",
   "execution_count": 24,
   "metadata": {
    "scrolled": true
   },
   "outputs": [
    {
     "name": "stdout",
     "output_type": "stream",
     "text": [
      "                            OLS Regression Results                            \n",
      "==============================================================================\n",
      "Dep. Variable:                   crim   R-squared:                       0.003\n",
      "Model:                            OLS   Adj. R-squared:                  0.001\n",
      "Method:                 Least Squares   F-statistic:                     1.579\n",
      "Date:                Sun, 20 Nov 2022   Prob (F-statistic):              0.209\n",
      "Time:                        23:40:20   Log-Likelihood:                -1805.6\n",
      "No. Observations:                 506   AIC:                             3615.\n",
      "Df Residuals:                     504   BIC:                             3624.\n",
      "Df Model:                           1                                         \n",
      "Covariance Type:            nonrobust                                         \n",
      "==============================================================================\n",
      "                 coef    std err          t      P>|t|      [0.025      0.975]\n",
      "------------------------------------------------------------------------------\n",
      "const          3.7444      0.396      9.453      0.000       2.966       4.523\n",
      "chas          -0.6309      0.502     -1.257      0.209      -1.617       0.355\n",
      "chas^2        -0.6309      0.502     -1.257      0.209      -1.617       0.355\n",
      "chas^3        -0.6309      0.502     -1.257      0.209      -1.617       0.355\n",
      "==============================================================================\n",
      "Omnibus:                      561.663   Durbin-Watson:                   0.817\n",
      "Prob(Omnibus):                  0.000   Jarque-Bera (JB):            30645.429\n",
      "Skew:                           5.191   Prob(JB):                         0.00\n",
      "Kurtosis:                      39.685   Cond. No.                     1.12e+32\n",
      "==============================================================================\n",
      "\n",
      "Notes:\n",
      "[1] Standard Errors assume that the covariance matrix of the errors is correctly specified.\n",
      "[2] The smallest eigenvalue is 4.09e-62. This might indicate that there are\n",
      "strong multicollinearity problems or that the design matrix is singular.\n"
     ]
    }
   ],
   "source": [
    "X = data3[['chas','chas^2','chas^3']]\n",
    "Y = data3['crim']\n",
    "X = sm.add_constant(X)\n",
    "model_poly = sm.OLS(Y,X)\n",
    "results_poly = model_poly.fit()\n",
    "print(results_poly.summary())"
   ]
  },
  {
   "cell_type": "code",
   "execution_count": 25,
   "metadata": {},
   "outputs": [
    {
     "data": {
      "text/plain": [
       "Text(0, 0.5, 'Residuals')"
      ]
     },
     "execution_count": 25,
     "metadata": {},
     "output_type": "execute_result"
    },
    {
     "data": {
      "image/png": "[encoded data removed]",
      "text/plain": [
       "<Figure size 864x360 with 1 Axes>"
      ]
     },
     "metadata": {
      "needs_background": "light"
     },
     "output_type": "display_data"
    }
   ],
   "source": [
    "predictions_poly = results_poly.predict(X)\n",
    "residuals_poly =  data['chas'] - predictions_poly\n",
    "fig, ax = plt.subplots(figsize=(12,5))\n",
    "sns.scatterplot(ax=ax,x=data3['chas'], y=residuals_poly)\n",
    "ax.set_title('Полиномиальная модель',size=16)\n",
    "ax.set_xlabel('chas',size=16)\n",
    "ax.set_ylabel('Residuals',size=16) #нет нелинейной звязи"
   ]
  },
  {
   "cell_type": "code",
   "execution_count": 26,
   "metadata": {},
   "outputs": [
    {
     "name": "stdout",
     "output_type": "stream",
     "text": [
      "                            OLS Regression Results                            \n",
      "==============================================================================\n",
      "Dep. Variable:                   crim   R-squared:                       0.297\n",
      "Model:                            OLS   Adj. R-squared:                  0.293\n",
      "Method:                 Least Squares   F-statistic:                     70.69\n",
      "Date:                Sun, 20 Nov 2022   Prob (F-statistic):           3.81e-38\n",
      "Time:                        23:42:31   Log-Likelihood:                -1717.2\n",
      "No. Observations:                 506   AIC:                             3442.\n",
      "Df Residuals:                     502   BIC:                             3459.\n",
      "Df Model:                           3                                         \n",
      "Covariance Type:            nonrobust                                         \n",
      "==============================================================================\n",
      "                 coef    std err          t      P>|t|      [0.025      0.975]\n",
      "------------------------------------------------------------------------------\n",
      "const        233.0866     33.643      6.928      0.000     166.988     299.185\n",
      "nox        -1279.3713    170.397     -7.508      0.000   -1614.151    -944.591\n",
      "nox^2       2248.5441    279.899      8.033      0.000    1698.626    2798.462\n",
      "nox^3      -1245.7029    149.282     -8.345      0.000   -1538.997    -952.409\n",
      "==============================================================================\n",
      "Omnibus:                      614.412   Durbin-Watson:                   1.159\n",
      "Prob(Omnibus):                  0.000   Jarque-Bera (JB):            53523.997\n",
      "Skew:                           5.851   Prob(JB):                         0.00\n",
      "Kurtosis:                      52.008   Cond. No.                     1.36e+03\n",
      "==============================================================================\n",
      "\n",
      "Notes:\n",
      "[1] Standard Errors assume that the covariance matrix of the errors is correctly specified.\n",
      "[2] The condition number is large, 1.36e+03. This might indicate that there are\n",
      "strong multicollinearity or other numerical problems.\n"
     ]
    }
   ],
   "source": [
    "X = data3[['nox','nox^2','nox^3']]\n",
    "Y = data3['crim']\n",
    "X = sm.add_constant(X)\n",
    "model_poly = sm.OLS(Y,X)\n",
    "results_poly = model_poly.fit()\n",
    "print(results_poly.summary())"
   ]
  },
  {
   "cell_type": "code",
   "execution_count": 27,
   "metadata": {},
   "outputs": [
    {
     "data": {
      "text/plain": [
       "Text(0, 0.5, 'Residuals')"
      ]
     },
     "execution_count": 27,
     "metadata": {},
     "output_type": "execute_result"
    },
    {
     "data": {
      "image/png": "[encoded data removed]",
      "text/plain": [
       "<Figure size 864x360 with 1 Axes>"
      ]
     },
     "metadata": {
      "needs_background": "light"
     },
     "output_type": "display_data"
    }
   ],
   "source": [
    "predictions_poly = results_poly.predict(X)\n",
    "residuals_poly =  data['nox'] - predictions_poly\n",
    "fig, ax = plt.subplots(figsize=(12,5))\n",
    "sns.scatterplot(ax=ax,x=data3['nox'], y=residuals_poly)\n",
    "ax.set_title('Полиномиальная модель',size=16)\n",
    "ax.set_xlabel('nox',size=16)\n",
    "ax.set_ylabel('Residuals',size=16) #есть нелинейная звязь"
   ]
  },
  {
   "cell_type": "code",
   "execution_count": 28,
   "metadata": {},
   "outputs": [
    {
     "name": "stdout",
     "output_type": "stream",
     "text": [
      "                            OLS Regression Results                            \n",
      "==============================================================================\n",
      "Dep. Variable:                   crim   R-squared:                       0.068\n",
      "Model:                            OLS   Adj. R-squared:                  0.062\n",
      "Method:                 Least Squares   F-statistic:                     12.17\n",
      "Date:                Sun, 20 Nov 2022   Prob (F-statistic):           1.07e-07\n",
      "Time:                        23:43:12   Log-Likelihood:                -1788.6\n",
      "No. Observations:                 506   AIC:                             3585.\n",
      "Df Residuals:                     502   BIC:                             3602.\n",
      "Df Model:                           3                                         \n",
      "Covariance Type:            nonrobust                                         \n",
      "==============================================================================\n",
      "                 coef    std err          t      P>|t|      [0.025      0.975]\n",
      "------------------------------------------------------------------------------\n",
      "const        112.6246     64.517      1.746      0.081     -14.132     239.382\n",
      "rm           -39.1501     31.311     -1.250      0.212    -100.668      22.368\n",
      "rm^2           4.5509      5.010      0.908      0.364      -5.292      14.394\n",
      "rm^3          -0.1745      0.264     -0.662      0.509      -0.693       0.344\n",
      "==============================================================================\n",
      "Omnibus:                      585.097   Durbin-Watson:                   0.913\n",
      "Prob(Omnibus):                  0.000   Jarque-Bera (JB):            40144.207\n",
      "Skew:                           5.465   Prob(JB):                         0.00\n",
      "Kurtosis:                      45.245   Cond. No.                     5.36e+04\n",
      "==============================================================================\n",
      "\n",
      "Notes:\n",
      "[1] Standard Errors assume that the covariance matrix of the errors is correctly specified.\n",
      "[2] The condition number is large, 5.36e+04. This might indicate that there are\n",
      "strong multicollinearity or other numerical problems.\n"
     ]
    }
   ],
   "source": [
    "X = data3[['rm','rm^2','rm^3']]\n",
    "Y = data3['crim']\n",
    "X = sm.add_constant(X)\n",
    "model_poly = sm.OLS(Y,X)\n",
    "results_poly = model_poly.fit()\n",
    "print(results_poly.summary())"
   ]
  },
  {
   "cell_type": "code",
   "execution_count": 29,
   "metadata": {},
   "outputs": [
    {
     "data": {
      "text/plain": [
       "Text(0, 0.5, 'Residuals')"
      ]
     },
     "execution_count": 29,
     "metadata": {},
     "output_type": "execute_result"
    },
    {
     "data": {
      "image/png": "[encoded data removed]",
      "text/plain": [
       "<Figure size 864x360 with 1 Axes>"
      ]
     },
     "metadata": {
      "needs_background": "light"
     },
     "output_type": "display_data"
    }
   ],
   "source": [
    "predictions_poly = results_poly.predict(X)\n",
    "residuals_poly =  data['rm'] - predictions_poly\n",
    "fig, ax = plt.subplots(figsize=(12,5))\n",
    "sns.scatterplot(ax=ax,x=data3['rm'], y=residuals_poly)\n",
    "ax.set_title('Полиномиальная модель',size=16)\n",
    "ax.set_xlabel('rm',size=16)\n",
    "ax.set_ylabel('Residuals',size=16) #есть нелинейная звязь"
   ]
  },
  {
   "cell_type": "code",
   "execution_count": 30,
   "metadata": {},
   "outputs": [
    {
     "name": "stdout",
     "output_type": "stream",
     "text": [
      "                            OLS Regression Results                            \n",
      "==============================================================================\n",
      "Dep. Variable:                   crim   R-squared:                       0.174\n",
      "Model:                            OLS   Adj. R-squared:                  0.169\n",
      "Method:                 Least Squares   F-statistic:                     35.31\n",
      "Date:                Sun, 20 Nov 2022   Prob (F-statistic):           1.02e-20\n",
      "Time:                        23:43:55   Log-Likelihood:                -1757.9\n",
      "No. Observations:                 506   AIC:                             3524.\n",
      "Df Residuals:                     502   BIC:                             3541.\n",
      "Df Model:                           3                                         \n",
      "Covariance Type:            nonrobust                                         \n",
      "==============================================================================\n",
      "                 coef    std err          t      P>|t|      [0.025      0.975]\n",
      "------------------------------------------------------------------------------\n",
      "const         -2.5488      2.769     -0.920      0.358      -7.989       2.892\n",
      "age            0.2737      0.186      1.468      0.143      -0.093       0.640\n",
      "age^2         -0.0072      0.004     -1.988      0.047      -0.014    -8.4e-05\n",
      "age^3       5.745e-05   2.11e-05      2.724      0.007     1.6e-05    9.89e-05\n",
      "==============================================================================\n",
      "Omnibus:                      577.477   Durbin-Watson:                   1.025\n",
      "Prob(Omnibus):                  0.000   Jarque-Bera (JB):            39586.670\n",
      "Skew:                           5.336   Prob(JB):                         0.00\n",
      "Kurtosis:                      44.997   Cond. No.                     4.74e+06\n",
      "==============================================================================\n",
      "\n",
      "Notes:\n",
      "[1] Standard Errors assume that the covariance matrix of the errors is correctly specified.\n",
      "[2] The condition number is large, 4.74e+06. This might indicate that there are\n",
      "strong multicollinearity or other numerical problems.\n"
     ]
    }
   ],
   "source": [
    "X = data3[['age','age^2','age^3']]\n",
    "Y = data3['crim']\n",
    "X = sm.add_constant(X)\n",
    "model_poly = sm.OLS(Y,X)\n",
    "results_poly = model_poly.fit()\n",
    "print(results_poly.summary())\n"
   ]
  },
  {
   "cell_type": "code",
   "execution_count": 31,
   "metadata": {},
   "outputs": [
    {
     "data": {
      "text/plain": [
       "Text(0, 0.5, 'Residuals')"
      ]
     },
     "execution_count": 31,
     "metadata": {},
     "output_type": "execute_result"
    },
    {
     "data": {
      "image/png": "[encoded data removed]",
      "text/plain": [
       "<Figure size 864x360 with 1 Axes>"
      ]
     },
     "metadata": {
      "needs_background": "light"
     },
     "output_type": "display_data"
    }
   ],
   "source": [
    "predictions_poly = results_poly.predict(X)\n",
    "residuals_poly =  data['age'] - predictions_poly\n",
    "fig, ax = plt.subplots(figsize=(12,5))\n",
    "sns.scatterplot(ax=ax,x=data3['age'], y=residuals_poly)\n",
    "ax.set_title('Полиномиальная модель',size=16)\n",
    "ax.set_xlabel('age',size=16)\n",
    "ax.set_ylabel('Residuals',size=16) #нет нелинейная звязи"
   ]
  },
  {
   "cell_type": "code",
   "execution_count": 32,
   "metadata": {},
   "outputs": [
    {
     "name": "stdout",
     "output_type": "stream",
     "text": [
      "                            OLS Regression Results                            \n",
      "==============================================================================\n",
      "Dep. Variable:                   crim   R-squared:                       0.278\n",
      "Model:                            OLS   Adj. R-squared:                  0.274\n",
      "Method:                 Least Squares   F-statistic:                     64.37\n",
      "Date:                Sun, 20 Nov 2022   Prob (F-statistic):           3.14e-35\n",
      "Time:                        23:45:29   Log-Likelihood:                -1724.0\n",
      "No. Observations:                 506   AIC:                             3456.\n",
      "Df Residuals:                     502   BIC:                             3473.\n",
      "Df Model:                           3                                         \n",
      "Covariance Type:            nonrobust                                         \n",
      "==============================================================================\n",
      "                 coef    std err          t      P>|t|      [0.025      0.975]\n",
      "------------------------------------------------------------------------------\n",
      "const         30.0476      2.446     12.285      0.000      25.242      34.853\n",
      "dis          -15.5544      1.736     -8.960      0.000     -18.965     -12.144\n",
      "dis^2          2.4521      0.346      7.078      0.000       1.771       3.133\n",
      "dis^3         -0.1186      0.020     -5.814      0.000      -0.159      -0.079\n",
      "==============================================================================\n",
      "Omnibus:                      577.742   Durbin-Watson:                   1.129\n",
      "Prob(Omnibus):                  0.000   Jarque-Bera (JB):            42444.706\n",
      "Skew:                           5.305   Prob(JB):                         0.00\n",
      "Kurtosis:                      46.596   Cond. No.                     2.10e+03\n",
      "==============================================================================\n",
      "\n",
      "Notes:\n",
      "[1] Standard Errors assume that the covariance matrix of the errors is correctly specified.\n",
      "[2] The condition number is large, 2.1e+03. This might indicate that there are\n",
      "strong multicollinearity or other numerical problems.\n"
     ]
    }
   ],
   "source": [
    "X = data3[['dis','dis^2','dis^3']]\n",
    "Y = data3['crim']\n",
    "X = sm.add_constant(X)\n",
    "model_poly = sm.OLS(Y,X)\n",
    "results_poly = model_poly.fit()\n",
    "print(results_poly.summary())"
   ]
  },
  {
   "cell_type": "code",
   "execution_count": 33,
   "metadata": {},
   "outputs": [
    {
     "data": {
      "text/plain": [
       "Text(0, 0.5, 'Residuals')"
      ]
     },
     "execution_count": 33,
     "metadata": {},
     "output_type": "execute_result"
    },
    {
     "data": {
      "image/png": "[encoded data removed]",
      "text/plain": [
       "<Figure size 864x360 with 1 Axes>"
      ]
     },
     "metadata": {
      "needs_background": "light"
     },
     "output_type": "display_data"
    }
   ],
   "source": [
    "predictions_poly = results_poly.predict(X)\n",
    "residuals_poly =  data['dis'] - predictions_poly\n",
    "fig, ax = plt.subplots(figsize=(12,5))\n",
    "sns.scatterplot(ax=ax,x=data3['dis'], y=residuals_poly)\n",
    "ax.set_title('Полиномиальная модель',size=16)\n",
    "ax.set_xlabel('dis',size=16)\n",
    "ax.set_ylabel('Residuals',size=16) #есть нелинейная звязь"
   ]
  },
  {
   "cell_type": "code",
   "execution_count": 34,
   "metadata": {
    "scrolled": true
   },
   "outputs": [
    {
     "name": "stdout",
     "output_type": "stream",
     "text": [
      "                            OLS Regression Results                            \n",
      "==============================================================================\n",
      "Dep. Variable:                   crim   R-squared:                       0.400\n",
      "Model:                            OLS   Adj. R-squared:                  0.396\n",
      "Method:                 Least Squares   F-statistic:                     111.6\n",
      "Date:                Sun, 20 Nov 2022   Prob (F-statistic):           2.31e-55\n",
      "Time:                        23:45:55   Log-Likelihood:                -1677.1\n",
      "No. Observations:                 506   AIC:                             3362.\n",
      "Df Residuals:                     502   BIC:                             3379.\n",
      "Df Model:                           3                                         \n",
      "Covariance Type:            nonrobust                                         \n",
      "==============================================================================\n",
      "                 coef    std err          t      P>|t|      [0.025      0.975]\n",
      "------------------------------------------------------------------------------\n",
      "const         -0.6055      2.050     -0.295      0.768      -4.633       3.422\n",
      "rad            0.5127      1.044      0.491      0.623      -1.538       2.563\n",
      "rad^2         -0.0752      0.149     -0.506      0.613      -0.367       0.217\n",
      "rad^3          0.0032      0.005      0.703      0.482      -0.006       0.012\n",
      "==============================================================================\n",
      "Omnibus:                      659.751   Durbin-Watson:                   1.351\n",
      "Prob(Omnibus):                  0.000   Jarque-Bera (JB):            77838.247\n",
      "Skew:                           6.526   Prob(JB):                         0.00\n",
      "Kurtosis:                      62.343   Cond. No.                     5.43e+04\n",
      "==============================================================================\n",
      "\n",
      "Notes:\n",
      "[1] Standard Errors assume that the covariance matrix of the errors is correctly specified.\n",
      "[2] The condition number is large, 5.43e+04. This might indicate that there are\n",
      "strong multicollinearity or other numerical problems.\n"
     ]
    }
   ],
   "source": [
    "X = data3[['rad','rad^2','rad^3']]\n",
    "Y = data3['crim']\n",
    "X = sm.add_constant(X)\n",
    "model_poly = sm.OLS(Y,X)\n",
    "results_poly = model_poly.fit()\n",
    "print(results_poly.summary())"
   ]
  },
  {
   "cell_type": "code",
   "execution_count": 35,
   "metadata": {},
   "outputs": [
    {
     "data": {
      "text/plain": [
       "Text(0, 0.5, 'Residuals')"
      ]
     },
     "execution_count": 35,
     "metadata": {},
     "output_type": "execute_result"
    },
    {
     "data": {
      "image/png": "[encoded data removed]",
      "text/plain": [
       "<Figure size 864x360 with 1 Axes>"
      ]
     },
     "metadata": {
      "needs_background": "light"
     },
     "output_type": "display_data"
    }
   ],
   "source": [
    "predictions_poly = results_poly.predict(X)\n",
    "residuals_poly =  data['rad'] - predictions_poly\n",
    "fig, ax = plt.subplots(figsize=(12,5))\n",
    "sns.scatterplot(ax=ax,x=data3['rad'], y=residuals_poly)\n",
    "ax.set_title('Полиномиальная модель',size=16)\n",
    "ax.set_xlabel('rad',size=16)\n",
    "ax.set_ylabel('Residuals',size=16) #нет нелинейной звязи, модель можна описать лінейной ригресией и исследовать выброс"
   ]
  },
  {
   "cell_type": "code",
   "execution_count": 37,
   "metadata": {
    "scrolled": true
   },
   "outputs": [
    {
     "name": "stdout",
     "output_type": "stream",
     "text": [
      "                            OLS Regression Results                            \n",
      "==============================================================================\n",
      "Dep. Variable:                   crim   R-squared:                       0.369\n",
      "Model:                            OLS   Adj. R-squared:                  0.365\n",
      "Method:                 Least Squares   F-statistic:                     97.80\n",
      "Date:                Sun, 20 Nov 2022   Prob (F-statistic):           7.34e-50\n",
      "Time:                        23:48:04   Log-Likelihood:                -1689.9\n",
      "No. Observations:                 506   AIC:                             3388.\n",
      "Df Residuals:                     502   BIC:                             3405.\n",
      "Df Model:                           3                                         \n",
      "Covariance Type:            nonrobust                                         \n",
      "==============================================================================\n",
      "                 coef    std err          t      P>|t|      [0.025      0.975]\n",
      "------------------------------------------------------------------------------\n",
      "const         19.1836     11.796      1.626      0.105      -3.991      42.358\n",
      "tax           -0.1533      0.096     -1.602      0.110      -0.341       0.035\n",
      "tax^2          0.0004      0.000      1.488      0.137      -0.000       0.001\n",
      "tax^3      -2.204e-07   1.89e-07     -1.167      0.244   -5.91e-07    1.51e-07\n",
      "==============================================================================\n",
      "Omnibus:                      644.161   Durbin-Watson:                   1.293\n",
      "Prob(Omnibus):                  0.000   Jarque-Bera (JB):            69773.212\n",
      "Skew:                           6.278   Prob(JB):                         0.00\n",
      "Kurtosis:                      59.141   Cond. No.                     6.16e+09\n",
      "==============================================================================\n",
      "\n",
      "Notes:\n",
      "[1] Standard Errors assume that the covariance matrix of the errors is correctly specified.\n",
      "[2] The condition number is large, 6.16e+09. This might indicate that there are\n",
      "strong multicollinearity or other numerical problems.\n"
     ]
    }
   ],
   "source": [
    "X = data3[['tax','tax^2','tax^3']]\n",
    "Y = data3['crim']\n",
    "X = sm.add_constant(X)\n",
    "model_poly = sm.OLS(Y,X)\n",
    "results_poly = model_poly.fit()\n",
    "print(results_poly.summary())"
   ]
  },
  {
   "cell_type": "code",
   "execution_count": 38,
   "metadata": {},
   "outputs": [
    {
     "data": {
      "text/plain": [
       "Text(0, 0.5, 'Residuals')"
      ]
     },
     "execution_count": 38,
     "metadata": {},
     "output_type": "execute_result"
    },
    {
     "data": {
      "image/png": "[encoded data removed]",
      "text/plain": [
       "<Figure size 864x360 with 1 Axes>"
      ]
     },
     "metadata": {
      "needs_background": "light"
     },
     "output_type": "display_data"
    }
   ],
   "source": [
    "predictions_poly = results_poly.predict(X)\n",
    "residuals_poly =  data['tax'] - predictions_poly\n",
    "fig, ax = plt.subplots(figsize=(12,5))\n",
    "sns.scatterplot(ax=ax,x=data3['tax'], y=residuals_poly)\n",
    "ax.set_title('Полиномиальная модель',size=16)\n",
    "ax.set_xlabel('tax',size=16)\n",
    "ax.set_ylabel('Residuals',size=16) #нет нелинейной звязи"
   ]
  },
  {
   "cell_type": "code",
   "execution_count": 39,
   "metadata": {},
   "outputs": [
    {
     "name": "stdout",
     "output_type": "stream",
     "text": [
      "                            OLS Regression Results                            \n",
      "==============================================================================\n",
      "Dep. Variable:                   crim   R-squared:                       0.114\n",
      "Model:                            OLS   Adj. R-squared:                  0.108\n",
      "Method:                 Least Squares   F-statistic:                     21.48\n",
      "Date:                Sun, 20 Nov 2022   Prob (F-statistic):           4.17e-13\n",
      "Time:                        23:49:47   Log-Likelihood:                -1775.8\n",
      "No. Observations:                 506   AIC:                             3560.\n",
      "Df Residuals:                     502   BIC:                             3577.\n",
      "Df Model:                           3                                         \n",
      "Covariance Type:            nonrobust                                         \n",
      "==============================================================================\n",
      "                 coef    std err          t      P>|t|      [0.025      0.975]\n",
      "------------------------------------------------------------------------------\n",
      "const        477.1840    156.795      3.043      0.002     169.129     785.239\n",
      "ptratio      -82.3605     27.644     -2.979      0.003    -136.673     -28.048\n",
      "ptratio^2      4.6353      1.608      2.882      0.004       1.475       7.795\n",
      "ptratio^3     -0.0848      0.031     -2.743      0.006      -0.145      -0.024\n",
      "==============================================================================\n",
      "Omnibus:                      572.356   Durbin-Watson:                   0.945\n",
      "Prob(Omnibus):                  0.000   Jarque-Bera (JB):            36070.763\n",
      "Skew:                           5.294   Prob(JB):                         0.00\n",
      "Kurtosis:                      42.985   Cond. No.                     3.02e+06\n",
      "==============================================================================\n",
      "\n",
      "Notes:\n",
      "[1] Standard Errors assume that the covariance matrix of the errors is correctly specified.\n",
      "[2] The condition number is large, 3.02e+06. This might indicate that there are\n",
      "strong multicollinearity or other numerical problems.\n"
     ]
    }
   ],
   "source": [
    "X = data3[['ptratio','ptratio^2','ptratio^3']]\n",
    "Y = data3['crim']\n",
    "X = sm.add_constant(X)\n",
    "model_poly = sm.OLS(Y,X)\n",
    "results_poly = model_poly.fit()\n",
    "print(results_poly.summary())"
   ]
  },
  {
   "cell_type": "code",
   "execution_count": 40,
   "metadata": {},
   "outputs": [
    {
     "data": {
      "text/plain": [
       "Text(0, 0.5, 'Residuals')"
      ]
     },
     "execution_count": 40,
     "metadata": {},
     "output_type": "execute_result"
    },
    {
     "data": {
      "image/png": "[encoded data removed]",
      "text/plain": [
       "<Figure size 864x360 with 1 Axes>"
      ]
     },
     "metadata": {
      "needs_background": "light"
     },
     "output_type": "display_data"
    }
   ],
   "source": [
    "predictions_poly = results_poly.predict(X)\n",
    "residuals_poly =  data['ptratio'] - predictions_poly\n",
    "fig, ax = plt.subplots(figsize=(12,5))\n",
    "sns.scatterplot(ax=ax,x=data3['ptratio'], y=residuals_poly)\n",
    "ax.set_title('Полиномиальная модель',size=16)\n",
    "ax.set_xlabel('ptratio',size=16)\n",
    "ax.set_ylabel('Residuals',size=16) #есть нелинейная звязь"
   ]
  },
  {
   "cell_type": "code",
   "execution_count": 41,
   "metadata": {},
   "outputs": [
    {
     "name": "stdout",
     "output_type": "stream",
     "text": [
      "                            OLS Regression Results                            \n",
      "==============================================================================\n",
      "Dep. Variable:                   crim   R-squared:                       0.218\n",
      "Model:                            OLS   Adj. R-squared:                  0.213\n",
      "Method:                 Least Squares   F-statistic:                     46.63\n",
      "Date:                Sun, 20 Nov 2022   Prob (F-statistic):           1.35e-26\n",
      "Time:                        23:50:27   Log-Likelihood:                -1744.2\n",
      "No. Observations:                 506   AIC:                             3496.\n",
      "Df Residuals:                     502   BIC:                             3513.\n",
      "Df Model:                           3                                         \n",
      "Covariance Type:            nonrobust                                         \n",
      "==============================================================================\n",
      "                 coef    std err          t      P>|t|      [0.025      0.975]\n",
      "------------------------------------------------------------------------------\n",
      "const          1.2010      2.029      0.592      0.554      -2.785       5.187\n",
      "lstat         -0.4491      0.465     -0.966      0.335      -1.362       0.464\n",
      "lstat^2        0.0558      0.030      1.852      0.065      -0.003       0.115\n",
      "lstat^3       -0.0009      0.001     -1.517      0.130      -0.002       0.000\n",
      "==============================================================================\n",
      "Omnibus:                      607.734   Durbin-Watson:                   1.239\n",
      "Prob(Omnibus):                  0.000   Jarque-Bera (JB):            53621.219\n",
      "Skew:                           5.726   Prob(JB):                         0.00\n",
      "Kurtosis:                      52.114   Cond. No.                     5.20e+04\n",
      "==============================================================================\n",
      "\n",
      "Notes:\n",
      "[1] Standard Errors assume that the covariance matrix of the errors is correctly specified.\n",
      "[2] The condition number is large, 5.2e+04. This might indicate that there are\n",
      "strong multicollinearity or other numerical problems.\n"
     ]
    }
   ],
   "source": [
    "X = data3[['lstat','lstat^2','lstat^3']]\n",
    "Y = data3['crim']\n",
    "X = sm.add_constant(X)\n",
    "model_poly = sm.OLS(Y,X)\n",
    "results_poly = model_poly.fit()\n",
    "print(results_poly.summary())"
   ]
  },
  {
   "cell_type": "code",
   "execution_count": 42,
   "metadata": {},
   "outputs": [
    {
     "data": {
      "text/plain": [
       "Text(0, 0.5, 'Residuals')"
      ]
     },
     "execution_count": 42,
     "metadata": {},
     "output_type": "execute_result"
    },
    {
     "data": {
      "image/png": "[encoded data removed]",
      "text/plain": [
       "<Figure size 864x360 with 1 Axes>"
      ]
     },
     "metadata": {
      "needs_background": "light"
     },
     "output_type": "display_data"
    }
   ],
   "source": [
    "predictions_poly = results_poly.predict(X)\n",
    "residuals_poly =  data['lstat'] - predictions_poly\n",
    "fig, ax = plt.subplots(figsize=(12,5))\n",
    "sns.scatterplot(ax=ax,x=data3['lstat'], y=residuals_poly)\n",
    "ax.set_title('Полиномиальная модель',size=16)\n",
    "ax.set_xlabel('lstat',size=16)\n",
    "ax.set_ylabel('Residuals',size=16) #есть нелинейная звязь"
   ]
  },
  {
   "cell_type": "code",
   "execution_count": 151,
   "metadata": {},
   "outputs": [
    {
     "name": "stdout",
     "output_type": "stream",
     "text": [
      "                            OLS Regression Results                            \n",
      "==============================================================================\n",
      "Dep. Variable:                   crim   R-squared:                       0.420\n",
      "Model:                            OLS   Adj. R-squared:                  0.417\n",
      "Method:                 Least Squares   F-statistic:                     121.3\n",
      "Date:                Sun, 20 Nov 2022   Prob (F-statistic):           4.45e-59\n",
      "Time:                        02:57:36   Log-Likelihood:                -1668.5\n",
      "No. Observations:                 506   AIC:                             3345.\n",
      "Df Residuals:                     502   BIC:                             3362.\n",
      "Df Model:                           3                                         \n",
      "Covariance Type:            nonrobust                                         \n",
      "==============================================================================\n",
      "                 coef    std err          t      P>|t|      [0.025      0.975]\n",
      "------------------------------------------------------------------------------\n",
      "const         53.1655      3.356     15.840      0.000      46.571      59.760\n",
      "medv          -5.0948      0.434    -11.744      0.000      -5.947      -4.242\n",
      "medv^2         0.1555      0.017      9.046      0.000       0.122       0.189\n",
      "medv^3        -0.0015      0.000     -7.312      0.000      -0.002      -0.001\n",
      "==============================================================================\n",
      "Omnibus:                      569.730   Durbin-Watson:                   1.359\n",
      "Prob(Omnibus):                  0.000   Jarque-Bera (JB):            47929.717\n",
      "Skew:                           5.106   Prob(JB):                         0.00\n",
      "Kurtosis:                      49.573   Cond. No.                     3.67e+05\n",
      "==============================================================================\n",
      "\n",
      "Notes:\n",
      "[1] Standard Errors assume that the covariance matrix of the errors is correctly specified.\n",
      "[2] The condition number is large, 3.67e+05. This might indicate that there are\n",
      "strong multicollinearity or other numerical problems.\n"
     ]
    }
   ],
   "source": [
    "X = data3[['medv','medv^2','medv^3']]\n",
    "Y = data3['crim']\n",
    "X = sm.add_constant(X)\n",
    "model_poly = sm.OLS(Y,X)\n",
    "results_poly = model_poly.fit()\n",
    "print(results_poly.summary())"
   ]
  },
  {
   "cell_type": "code",
   "execution_count": 43,
   "metadata": {},
   "outputs": [
    {
     "data": {
      "text/plain": [
       "Text(0, 0.5, 'Residuals')"
      ]
     },
     "execution_count": 43,
     "metadata": {},
     "output_type": "execute_result"
    },
    {
     "data": {
      "image/png": "[encoded data removed]",
      "text/plain": [
       "<Figure size 864x360 with 1 Axes>"
      ]
     },
     "metadata": {
      "needs_background": "light"
     },
     "output_type": "display_data"
    }
   ],
   "source": [
    "predictions_poly = results_poly.predict(X)\n",
    "residuals_poly =  data['medv'] - predictions_poly\n",
    "fig, ax = plt.subplots(figsize=(12,5))\n",
    "sns.scatterplot(ax=ax,x=data3['medv'], y=residuals_poly)\n",
    "ax.set_title('Полиномиальная модель',size=16)\n",
    "ax.set_xlabel('medv',size=16)\n",
    "ax.set_ylabel('Residuals',size=16) #есть нелинейная звязь"
   ]
  },
  {
   "cell_type": "code",
   "execution_count": null,
   "metadata": {},
   "outputs": [],
   "source": []
  }
 ],
 "metadata": {
  "kernelspec": {
   "display_name": "Python 3 (ipykernel)",
   "language": "python",
   "name": "python3"
  },
  "language_info": {
   "codemirror_mode": {
    "name": "ipython",
    "version": 3
   },
   "file_extension": ".py",
   "mimetype": "text/x-python",
   "name": "python",
   "nbconvert_exporter": "python",
   "pygments_lexer": "ipython3",
   "version": "3.9.12"
  }
 },
 "nbformat": 4,
 "nbformat_minor": 4
}
